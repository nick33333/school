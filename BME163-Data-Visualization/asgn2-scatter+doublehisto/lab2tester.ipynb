{
 "cells": [
  {
   "cell_type": "code",
   "execution_count": 13,
   "metadata": {},
   "outputs": [],
   "source": [
    "import math\n",
    "import matplotlib.pyplot as plt\n",
    "import matplotlib.patches as mplpatches\n",
    "import numpy as np\n",
    "import argparse\n",
    "import time "
   ]
  },
  {
   "cell_type": "code",
   "execution_count": 22,
   "metadata": {},
   "outputs": [],
   "source": [
    "# with open(\"data/BME163_Input_Data_1.txt\",\"r\") as myfile:\n",
    "#     data = []\n",
    "#     xList = []\n",
    "#     yList = []\n",
    "#     for line in myfile:\n",
    "#         xList.append(int(line.strip().split('\\t')[1]))\n",
    "#         yList.append(int(line.strip().split('\\t')[2]))\n",
    "#     xList = np.array(xList)\n",
    "#     yList = np.array(yList)\n",
    "#     logxList = np.log2((xList+1))\n",
    "#     logyList = np.log2((yList+1))\n",
    "\n",
    "with open(\"data/BME163_Input_Data_1.txt\",\"r\") as myfile:\n",
    "    data = []\n",
    "    xList = []\n",
    "    yList = []\n",
    "    for line in myfile:\n",
    "        xList.append(int(line.strip().split('\\t')[1]))\n",
    "        yList.append(int(line.strip().split('\\t')[2]))\n",
    "\n",
    "logxList = [np.log2((i+1)) for i in xList]\n",
    "logyList = [np.log2((i+1)) for i in yList]"
   ]
  },
  {
   "cell_type": "code",
   "execution_count": 7,
   "metadata": {},
   "outputs": [
    {
     "name": "stdout",
     "output_type": "stream",
     "text": [
      "[ 1.5849625   0.          1.5849625  ...  0.          0.\n",
      " 23.02603589]\n"
     ]
    }
   ],
   "source": [
    "print(logxList)"
   ]
  },
  {
   "cell_type": "code",
   "execution_count": 23,
   "metadata": {},
   "outputs": [
    {
     "name": "stdout",
     "output_type": "stream",
     "text": [
      "xhistogram:  [32498  7730     0  5808  2087  1022   968   561   501   339   245   205\n",
      "   185   133   106    61    40    22    13     7    10     3     3     2\n",
      "     2     0     0     0     0] [ 0.          0.51724138  1.03448276  1.55172414  2.06896552  2.5862069\n",
      "  3.10344828  3.62068966  4.13793103  4.65517241  5.17241379  5.68965517\n",
      "  6.20689655  6.72413793  7.24137931  7.75862069  8.27586207  8.79310345\n",
      "  9.31034483  9.82758621 10.34482759 10.86206897 11.37931034 11.89655172\n",
      " 12.4137931  12.93103448 13.44827586 13.96551724 14.48275862 15.        ]\n",
      "xhistogram:  [32498  7730     0  5808  2087  1022   968   561   501   339   245   205\n",
      "   185   133   106    61    40    22    13     7    10     3     3     2\n",
      "     2     0     0     0     0] [ 0.          0.51724138  1.03448276  1.55172414  2.06896552  2.5862069\n",
      "  3.10344828  3.62068966  4.13793103  4.65517241  5.17241379  5.68965517\n",
      "  6.20689655  6.72413793  7.24137931  7.75862069  8.27586207  8.79310345\n",
      "  9.31034483  9.82758621 10.34482759 10.86206897 11.37931034 11.89655172\n",
      " 12.4137931  12.93103448 13.44827586 13.96551724 14.48275862 15.        ]\n"
     ]
    },
    {
     "data": {
      "image/png": "[encoded data removed]",
      "text/plain": [
       "<Figure size 360x144 with 3 Axes>"
      ]
     },
     "metadata": {
      "needs_background": "light"
     },
     "output_type": "display_data"
    }
   ],
   "source": [
    "FH = 2\n",
    "FW = 5\n",
    "plt.figure(figsize=(FW,FH))\n",
    "PW=1\n",
    "PH=1\n",
    "relPW = PW/FW\n",
    "relPH = PH/FH\n",
    "panel1 = plt.axes([0.14,0.15,relPW, relPH])\n",
    "\n",
    "# Scatterplot\n",
    "panel1.plot(logxList,logyList,\n",
    "           marker = 'o',\n",
    "           markerfacecolor='black',\n",
    "           markeredgecolor='black',\n",
    "           markersize=1.5,\n",
    "           markeredgewidth=0,\n",
    "           linewidth=0,\n",
    "           alpha=.1)\n",
    "\n",
    "# Histograms\n",
    "panel2 = plt.axes([.01,0.15,relPW/4, relPH])\n",
    "panel2.set_xlim(0,15,1)\n",
    "panel2.set_ylim(0,15,1)\n",
    "panel2.set_xticks(np.linspace(0,20,2))\n",
    "panel2.set_yticks(np.linspace(0,15,4))\n",
    "\n",
    "xHisto,bins = np.histogram(logxList,np.linspace(0,15,30))\n",
    "print(\"xhistogram: \",xHisto,bins)\n",
    "for i in range(0,len(xHisto),1):\n",
    "    bottom = bins[i]\n",
    "    left = 0\n",
    "    width = xHisto[i]\n",
    "    height = bins[i+1]-bottom\n",
    "    rectangle = mplpatches.Rectangle([left,bottom],width,height,\n",
    "                                     facecolor='orange',\n",
    "                                     edgecolor='black',\n",
    "                                     linewidth = 0.5)\n",
    "    panel2.add_patch(rectangle)\n",
    "panel2.invert_xaxis()\n",
    "\n",
    "\n",
    "# Histogram 2\n",
    "panel3 = plt.axes([.14,.7,relPW, relPH/4])\n",
    "panel3.set_xlim(0,15,1)\n",
    "panel3.set_ylim(0,15,1)\n",
    "panel3.set_xticks(np.linspace(0,15,2))\n",
    "panel3.set_yticks(np.linspace(0,20,2))\n",
    "\n",
    "xHisto,bins = np.histogram(logxList,np.linspace(0,15,30))\n",
    "print(\"xhistogram: \",xHisto,bins)\n",
    "for i in range(0,len(xHisto),1):\n",
    "    bottom = 0\n",
    "    left = bins[i]\n",
    "    width = bins[i+1]-left\n",
    "    height = xHisto[i]\n",
    "    rectangle = mplpatches.Rectangle([left,bottom],width,height,\n",
    "                                     facecolor='orange',\n",
    "                                     edgecolor='black',\n",
    "                                     linewidth = 0.5)\n",
    "    panel3.add_patch(rectangle)\n",
    "plt.savefig(\"almasgn2.png\",dpi=600)"
   ]
  },
  {
   "cell_type": "code",
   "execution_count": 18,
   "metadata": {},
   "outputs": [],
   "source": [
    "nxList = np.random.normal(120,20,10000)\n",
    "nyList = np.random.normal(120,20,10000)"
   ]
  },
  {
   "cell_type": "code",
   "execution_count": 19,
   "metadata": {},
   "outputs": [
    {
     "name": "stdout",
     "output_type": "stream",
     "text": [
      "[   0    0   17  208 1394 3429 3329 1398  210   15    0    0    0    0\n",
      "    0] [  0.  20.  40.  60.  80. 100. 120. 140. 160. 180. 200. 220. 240. 260.\n",
      " 280. 300.]\n",
      "[   0    1   12  199 1310 3426 3452 1367  223   10    0    0    0    0\n",
      "    0] [  0.  20.  40.  60.  80. 100. 120. 140. 160. 180. 200. 220. 240. 260.\n",
      " 280. 300.]\n"
     ]
    },
    {
     "data": {
      "image/png": "[encoded data removed]",
      "text/plain": [
       "<Figure size 360x144 with 3 Axes>"
      ]
     },
     "metadata": {
      "needs_background": "light"
     },
     "output_type": "display_data"
    }
   ],
   "source": [
    "FH = 2\n",
    "FW = 5\n",
    "plt.figure(figsize=(FW,FH))\n",
    "PW=1\n",
    "PH=1\n",
    "relPW = PW/FW\n",
    "relPH = PH/FH\n",
    "\n",
    "panel3 = plt.axes([0.14,0.15,relPW, relPH])\n",
    "panel3.set_xlim(0,300,1)\n",
    "panel3.set_ylim(0,300,1)\n",
    "panel3.set_xticks(np.linspace(0,300,4))\n",
    "panel3.set_yticks(np.linspace(0,300,4))\n",
    "panel3.plot(nxList,nyList,\n",
    "            marker='o',\n",
    "           markerfacecolor = \"orange\",\n",
    "            markeredgewidth=0,\n",
    "           alpha = 0.1)\n",
    "\n",
    "panel3 = plt.axes([.7,0.15,relPW, relPH])\n",
    "panel3.set_xlim(0,300,1)\n",
    "panel3.set_ylim(0,300,1)\n",
    "panel3.set_xticks(np.linspace(0,300,4))\n",
    "panel3.set_yticks(np.linspace(0,300,4))\n",
    "\n",
    "xHisto,bins = np.histogram(nxList,np.linspace(0,300,16))\n",
    "print(xHisto,bins)\n",
    "for i in range(0,len(xHisto),1):\n",
    "    bottom = bins[i]\n",
    "    left = 0\n",
    "    width = xHisto[i]\n",
    "    height = bins[i+1]-bottom\n",
    "    rectangle = mplpatches.Rectangle([left,bottom],width,height,\n",
    "                                     facecolor='orange',\n",
    "                                     edgecolor='black',\n",
    "                                     linewidth = 0.5)\n",
    "    panel3.add_patch(rectangle)\n",
    "panel3.invert_xaxis()\n",
    "\n",
    "    \n",
    "    \n",
    "    \n",
    "    \n",
    "panel3 = plt.axes([1.5,0.15,relPW, relPH])\n",
    "\n",
    "panel3.set_xticks(np.linspace(0,300,4))\n",
    "panel3.set_yticks(np.linspace(0,300,4))\n",
    "\n",
    "yHisto,bins = np.histogram(nyList,np.linspace(0,300,16))\n",
    "print(yHisto,bins)\n",
    "for i in range(0,len(yHisto),1):\n",
    "    bottom = 0\n",
    "    left = bins[i]\n",
    "    width = bins[i+1] - left\n",
    "    height = yHisto[i]\n",
    "    rectangle = mplpatches.Rectangle([left,bottom],width,height,\n",
    "                                     facecolor='orange',\n",
    "                                     edgecolor='black',\n",
    "                                     linewidth = 0.5)\n",
    "    panel3.add_patch(rectangle)\n"
   ]
  },
  {
   "cell_type": "code",
   "execution_count": 24,
   "metadata": {},
   "outputs": [
    {
     "name": "stdout",
     "output_type": "stream",
     "text": [
      "77321\n",
      "xhistogram:  [32496  7730     0  5808  2087  1022   968   561   501   339   245   205\n",
      "   185   133   106    61    40    22    13     7    10     3     3     2\n",
      "     2     0     0     0     0] [ 0.          0.51724138  1.03448276  1.55172414  2.06896552  2.5862069\n",
      "  3.10344828  3.62068966  4.13793103  4.65517241  5.17241379  5.68965517\n",
      "  6.20689655  6.72413793  7.24137931  7.75862069  8.27586207  8.79310345\n",
      "  9.31034483  9.82758621 10.34482759 10.86206897 11.37931034 11.89655172\n",
      " 12.4137931  12.93103448 13.44827586 13.96551724 14.48275862 15.        ]\n"
     ]
    },
    {
     "data": {
      "image/png": "[encoded data removed]",
      "text/plain": [
       "<Figure size 360x144 with 3 Axes>"
      ]
     },
     "metadata": {
      "needs_background": "light"
     },
     "output_type": "display_data"
    }
   ],
   "source": [
    "# plt.style.use('BME163')\n",
    "\n",
    "with open(\"data/BME163_Input_Data_1.txt\",\"r\") as myfile:\n",
    "    data = []\n",
    "    xList = []\n",
    "    yList = []\n",
    "    for line in myfile:\n",
    "        if line.startswith(\"_\"):\n",
    "            continue\n",
    "        else:\n",
    "            xList.append(int(line.strip().split('\\t')[1]))\n",
    "            yList.append(int(line.strip().split('\\t')[2]))\n",
    "        \n",
    "print(max(xList))\n",
    "logxList = [np.log2((i+1)) for i in xList]\n",
    "logyList = [np.log2((i+1)) for i in yList]\n",
    "\n",
    "FH = 2\n",
    "FW = 5\n",
    "plt.figure(figsize=(FW,FH))\n",
    "PW=1\n",
    "PH=1\n",
    "relPW = PW/FW\n",
    "relPH = PH/FH\n",
    "panel1 = plt.axes([0.14,0.15,relPW, relPH])\n",
    "\n",
    "panel1.plot(logxList,logyList,\n",
    "           marker = 'o',\n",
    "           markerfacecolor='black',\n",
    "           markeredgecolor='black',\n",
    "           markersize=1.5,\n",
    "           markeredgewidth=0,\n",
    "           linewidth=0,\n",
    "           alpha=.1)\n",
    "\n",
    "panel1.set_xlim(0,15,1)\n",
    "panel1.set_ylim(0,15,1)\n",
    "\n",
    "\n",
    "\n",
    "\n",
    "# panel 2\n",
    "panel2 = plt.axes([.14,.75,relPW,relPH])\n",
    "\n",
    "xHisto,bins = np.histogram(logxList,range(0,20,1))\n",
    "\n",
    "for i in range(0,len(xHisto),1):\n",
    "    bottom = 0\n",
    "    left = bins[i]\n",
    "    width = (bins[i+1])-left\n",
    "    height = xHisto[i]\n",
    "    rectangle=mplpatches.Rectangle([left, bottom],width,height,\n",
    "                                  facecolor='grey',\n",
    "                                  edgecolor='black',\n",
    "                                  linewidth=.1)\n",
    "    panel2.add_patch(rectangle)\n",
    "    panel2.set_xlim(0,20)\n",
    "    panel2.set_ylim(0,20)\n",
    "    \n",
    "\n",
    "panel2 = plt.axes([.01,0.15,relPW/4, relPH])\n",
    "panel2.set_xlim(0,15,1)\n",
    "panel2.set_ylim(0,15,1)\n",
    "panel2.set_xticks(np.linspace(0,20,2))\n",
    "panel2.set_yticks(np.linspace(0,15,4))\n",
    "\n",
    "xHisto,bins = np.histogram(logxList,np.linspace(0,15,30))\n",
    "print(\"xhistogram: \",xHisto,bins)\n",
    "for i in range(0,len(xHisto),1):\n",
    "    bottom = bins[i]\n",
    "    left = 0\n",
    "    width = xHisto[i]\n",
    "    height = bins[i+1]-bottom\n",
    "    rectangle = mplpatches.Rectangle([left,bottom],width,height,\n",
    "                                     facecolor='orange',\n",
    "                                     edgecolor='black',\n",
    "                                     linewidth = 0.5)\n",
    "    panel2.add_patch(rectangle)\n",
    "panel2.invert_xaxis()\n",
    "\n",
    "\n",
    "plt.savefig('proto2-asgn2.png',dpi=600)"
   ]
  },
  {
   "cell_type": "code",
   "execution_count": null,
   "metadata": {},
   "outputs": [],
   "source": []
  }
 ],
 "metadata": {
  "kernelspec": {
   "display_name": "Python 3",
   "language": "python",
   "name": "python3"
  },
  "language_info": {
   "codemirror_mode": {
    "name": "ipython",
    "version": 3
   },
   "file_extension": ".py",
   "mimetype": "text/x-python",
   "name": "python",
   "nbconvert_exporter": "python",
   "pygments_lexer": "ipython3",
   "version": "3.8.5"
  }
 },
 "nbformat": 4,
 "nbformat_minor": 4
}
