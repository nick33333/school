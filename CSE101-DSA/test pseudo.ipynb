{
 "cells": [
  {
   "cell_type": "code",
   "execution_count": 18,
   "metadata": {},
   "outputs": [
    {
     "name": "stdout",
     "output_type": "stream",
     "text": [
      "7\n"
     ]
    }
   ],
   "source": [
    "arr = [7,3,5,4,5,3,4]\n",
    "\n",
    "for i in range(len(arr)):\n",
    "    count = 0\n",
    "    for j in range(len(arr)):\n",
    "#         print(i,j)\n",
    "        if arr[i] == arr[j]:\n",
    "            count += 1\n",
    "    if count == 1:\n",
    "        print(arr[i])\n"
   ]
  },
  {
   "cell_type": "code",
   "execution_count": 26,
   "metadata": {},
   "outputs": [],
   "source": [
    "# arrs #9\n",
    "arra = [0, 0, 0, 1, 9, 0, 8, 4, 0, 0, 2, 7, 0, 6, 0, 9, 0, 0]\n",
    "n = len(arr)\n",
    "\n",
    "def pzte(arr):\n",
    "    start = 0\n",
    "    end = len(arr)-1\n",
    "    while start < end:\n",
    "        if arr[end] != 0:\n",
    "            tmp = arr[end]\n",
    "        else:\n",
    "            end -= 1\n",
    "            continue\n",
    "        if arr[start] == 0:\n",
    "            arr[end] = 0\n",
    "            arr[start] = tmp\n",
    "            end -= 1\n",
    "            start += 1\n",
    "        else:\n",
    "            start += 1\n",
    "    return arr\n",
    "        \n"
   ]
  },
  {
   "cell_type": "code",
   "execution_count": 27,
   "metadata": {},
   "outputs": [
    {
     "data": {
      "text/plain": [
       "[9, 6, 7, 1, 9, 2, 8, 4, 0, 0, 0, 0, 0, 0, 0, 0, 0, 0]"
      ]
     },
     "execution_count": 27,
     "metadata": {},
     "output_type": "execute_result"
    }
   ],
   "source": [
    "pzte(arra)"
   ]
  },
  {
   "cell_type": "code",
   "execution_count": 47,
   "metadata": {},
   "outputs": [],
   "source": [
    "class Solution:\n",
    "    def moveZeroes(self, arr) -> None:\n",
    "        \"\"\"\n",
    "        Do not return anything, modify nums in-place instead.\n",
    "        \"\"\"\n",
    "        arr.sort()\n",
    "        for i in range(len(arr)):\n",
    "            if arr[i] != 0:\n",
    "                x = arr[i:] + arr[:i] \n",
    "                arr = x\n",
    "                return arr\n",
    "        "
   ]
  },
  {
   "cell_type": "code",
   "execution_count": 48,
   "metadata": {},
   "outputs": [
    {
     "name": "stdout",
     "output_type": "stream",
     "text": [
      "herro\n",
      "[1, 3, 12, 0, 0]\n"
     ]
    },
    {
     "data": {
      "text/plain": [
       "[1, 3, 12, 0, 0]"
      ]
     },
     "execution_count": 48,
     "metadata": {},
     "output_type": "execute_result"
    }
   ],
   "source": [
    "mySol = Solution()\n",
    "x = [0,1,0,3,12]\n",
    "mySol.moveZeroes(x)\n"
   ]
  },
  {
   "cell_type": "code",
   "execution_count": 5,
   "metadata": {},
   "outputs": [
    {
     "name": "stdout",
     "output_type": "stream",
     "text": [
      "[1, 2, 0, 3, 4]\n"
     ]
    }
   ],
   "source": [
    "A = [3,5,2,7,15]\n",
    "B=[]\n",
    "AS = sorted(A)\n",
    "for i in range(len(A)):\n",
    "    for j in range(len(A)):\n",
    "        if A[i] == AS[j]:\n",
    "            B.append(j)\n",
    "            \n",
    "print(B)"
   ]
  },
  {
   "cell_type": "code",
   "execution_count": null,
   "metadata": {},
   "outputs": [],
   "source": []
  }
 ],
 "metadata": {
  "kernelspec": {
   "display_name": "Python 3",
   "language": "python",
   "name": "python3"
  },
  "language_info": {
   "codemirror_mode": {
    "name": "ipython",
    "version": 3
   },
   "file_extension": ".py",
   "mimetype": "text/x-python",
   "name": "python",
   "nbconvert_exporter": "python",
   "pygments_lexer": "ipython3",
   "version": "3.8.5"
  }
 },
 "nbformat": 4,
 "nbformat_minor": 4
}
