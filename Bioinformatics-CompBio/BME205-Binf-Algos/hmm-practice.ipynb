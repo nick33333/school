{
 "cells": [
  {
   "cell_type": "code",
   "execution_count": 1,
   "metadata": {},
   "outputs": [],
   "source": [
    "path = \"BBABBBABBAABABABBBAABBBBAAABABABAAAABBBBBAABBABABB\"\n"
   ]
  },
  {
   "cell_type": "code",
   "execution_count": 2,
   "metadata": {},
   "outputs": [],
   "source": [
    "transitionTable = {\"AA\":0.863, \"AB\":0.137, \"BA\":0.511, \"BB\":0.489}"
   ]
  },
  {
   "cell_type": "code",
   "execution_count": 3,
   "metadata": {},
   "outputs": [],
   "source": [
    "aaCt = path.count(\"AA\")\n",
    "abCt = path.count(\"AB\")\n",
    "baCt = path.count(\"BA\")\n",
    "bbCt = path.count(\"BB\")"
   ]
  },
  {
   "cell_type": "code",
   "execution_count": 4,
   "metadata": {},
   "outputs": [
    {
     "data": {
      "text/plain": [
       "3.1332311842344177e-19"
      ]
     },
     "execution_count": 4,
     "metadata": {},
     "output_type": "execute_result"
    }
   ],
   "source": [
    "(transitionTable[\"AA\"]**aaCt) * (transitionTable[\"AB\"]**abCt) * (transitionTable[\"BA\"]**baCt) * (transitionTable[\"BB\"]**bbCt)"
   ]
  },
  {
   "cell_type": "code",
   "execution_count": 5,
   "metadata": {},
   "outputs": [
    {
     "name": "stdout",
     "output_type": "stream",
     "text": [
      "{'AA': 8, 'AB': 13, 'BA': 13, 'BB': 15}\n"
     ]
    }
   ],
   "source": [
    "ctTable = {\"AA\":0, \"AB\":0, \"BA\":0, \"BB\":0}\n",
    "for i in range(1,len(path)):\n",
    "    ctTable[path[i-1:i+1]] += 1\n",
    "print(ctTable)"
   ]
  },
  {
   "cell_type": "code",
   "execution_count": 7,
   "metadata": {},
   "outputs": [
    {
     "data": {
      "text/plain": [
       "3.26233331904109e-21"
      ]
     },
     "execution_count": 7,
     "metadata": {},
     "output_type": "execute_result"
    }
   ],
   "source": [
    "0.5*(transitionTable[\"AA\"]**ctTable[\"AA\"]) * (transitionTable[\"AB\"]**ctTable[\"AB\"]) * (transitionTable[\"BA\"]**ctTable[\"BA\"]) * (transitionTable[\"BB\"]**ctTable[\"BB\"])"
   ]
  },
  {
   "cell_type": "code",
   "execution_count": null,
   "metadata": {},
   "outputs": [],
   "source": []
  },
  {
   "cell_type": "code",
   "execution_count": null,
   "metadata": {},
   "outputs": [],
   "source": []
  }
 ],
 "metadata": {
  "kernelspec": {
   "display_name": "Python 3",
   "language": "python",
   "name": "python3"
  },
  "language_info": {
   "codemirror_mode": {
    "name": "ipython",
    "version": 3
   },
   "file_extension": ".py",
   "mimetype": "text/x-python",
   "name": "python",
   "nbconvert_exporter": "python",
   "pygments_lexer": "ipython3",
   "version": "3.8.5"
  }
 },
 "nbformat": 4,
 "nbformat_minor": 4
}
