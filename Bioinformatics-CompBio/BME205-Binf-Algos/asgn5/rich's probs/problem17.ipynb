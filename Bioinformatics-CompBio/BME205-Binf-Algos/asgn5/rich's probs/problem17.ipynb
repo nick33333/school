{
 "cells": [
  {
   "cell_type": "markdown",
   "metadata": {},
   "source": [
    "# Header and Library Imports"
   ]
  },
  {
   "cell_type": "code",
   "execution_count": 1,
   "metadata": {},
   "outputs": [
    {
     "data": {
      "text/plain": [
       "'\\nCreated on Sat Nov  6 23:57:26 2021\\n\\n@author: richa\\n'"
      ]
     },
     "execution_count": 1,
     "metadata": {},
     "output_type": "execute_result"
    }
   ],
   "source": [
    "# -*- coding: utf-8 -*-\n",
    "\"\"\"\n",
    "Created on Sat Nov  6 23:57:26 2021\n",
    "\n",
    "@author: richa\n",
    "\"\"\""
   ]
  },
  {
   "cell_type": "markdown",
   "metadata": {},
   "source": [
    "# Cyclospectrum Class\n",
    "is designed to accept a cyclic polypeptide sequence. Generates the theoretical mass spectrum of the cyclic polypeptide.\n",
    "\n",
    "There is 1 attribute:\n",
    "- pep - list of integer masses of the amino acids in the cyclic polypeptide (generated in init)\n",
    "\n",
    "There is 1 method:\n",
    "- findSpec - generates the theoretical mass spectrum of the cyclic polypeptide"
   ]
  },
  {
   "cell_type": "code",
   "execution_count": 2,
   "metadata": {},
   "outputs": [],
   "source": [
    "class Cyclospectrum :\n",
    "    '''\n",
    "    Generate the theoretical mass spectrum of a cyclic peptide\n",
    "    \n",
    "    Attributes:\n",
    "        pep - integer masses of the amino acids in the cyclic peptide\n",
    "        \n",
    "    Methods:\n",
    "        findSpec - generates the theoretical mass spectrum of a given cyclic\n",
    "                    polypeptide\n",
    "    '''\n",
    "    # Amino acid to its integer mass table\n",
    "    AA = {'G': 57, 'A': 71, 'S': 87, 'P': 97, 'V': 99, 'T': 101, 'C': 103,\n",
    "          'I': 113, 'L': 113, 'N': 114, 'D': 115, 'K': 128, 'Q': 128, 'E': 129,\n",
    "          'M': 131, 'H': 137, 'F': 147, 'R': 156, 'Y': 163, 'W': 186}\n",
    "    \n",
    "    def __init__(self, pep):\n",
    "        '''\n",
    "        Build a Cyclospectrum object from a given cyclic polypeptide sequence.\n",
    "        '''\n",
    "        # List of integer masses for each amino acid in polypeptide sequence\n",
    "        self.pep = [Cyclospectrum.AA[p] for p in pep]\n",
    "    \n",
    "    def findSpec(self):\n",
    "        ''' Generate the theoretical mass spectrum of a cyclic peptide. '''\n",
    "        pLen = len(self.pep)\n",
    "        # Simulate cyclic nature by duplicating peptide\n",
    "        cPep = list(self.pep * 2)\n",
    "        # Initialize spectrum with mass of empty peptide and mass of peptide\n",
    "        spec = [0, sum(self.pep)]\n",
    "        \n",
    "        # Loop through possible starting positions in peptide\n",
    "        for pos in range(pLen):\n",
    "            # Loop through rest of peptide\n",
    "            for l in range(1, pLen):\n",
    "                # Append sum of subpeptide to spectrum\n",
    "                spec.append(sum(cPep[pos: pos + l]))\n",
    "                \n",
    "        # Format return\n",
    "        spec.sort()\n",
    "        spec = [str(spec[p]) for p in range(len(spec))]\n",
    "        return spec"
   ]
  },
  {
   "cell_type": "markdown",
   "metadata": {},
   "source": [
    "# Main\n",
    "- Get cyclic peptide sequence\n",
    "- Instantiation of the Cyclospectrum object for the peptide sequence\n",
    "- Prints the theoretical mass spectrum of the cyclic peptide sequence"
   ]
  },
  {
   "cell_type": "code",
   "execution_count": 3,
   "metadata": {},
   "outputs": [
    {
     "name": "stdout",
     "output_type": "stream",
     "text": [
      "0 57 87 97 99 99 114 128 128 131 131 144 147 163 185 198 213 218 225 230 244 259 259 272 275 277 282 310 312 329 346 358 369 372 376 390 403 403 407 424 429 443 457 475 477 489 500 516 521 523 531 534 535 571 576 588 592 606 620 622 628 633 647 649 662 675 679 702 706 719 732 734 748 753 759 761 775 789 793 805 810 846 847 850 858 860 865 881 892 904 906 924 938 952 957 974 978 978 991 1005 1009 1012 1023 1035 1052 1069 1071 1099 1104 1106 1109 1122 1122 1137 1151 1156 1163 1168 1183 1196 1218 1234 1237 1250 1250 1253 1253 1267 1282 1282 1284 1294 1324 1381\n"
     ]
    }
   ],
   "source": [
    "def main(inFile = None):\n",
    "    '''\n",
    "    Get the cyclic peptide sequence from the input file and generate its\n",
    "    theoretical mass spectrum.\n",
    "    '''\n",
    "    with open(inFile) as inFile:\n",
    "        # Get cyclic peptide sequence\n",
    "        pep = inFile.readline().rstrip()\n",
    "                \n",
    "    myCyclospec = Cyclospectrum(pep)\n",
    "    print(' '.join(myCyclospec.findSpec()))\n",
    "\n",
    "if __name__ == \"__main__\":\n",
    "    main(inFile = 'rosalind_ba4c.txt')"
   ]
  },
  {
   "cell_type": "markdown",
   "metadata": {},
   "source": [
    "# Inspections\n",
    "Team: \n",
    "\n",
    "Comments:\n",
    "\n",
    "Corrections:"
   ]
  }
 ],
 "metadata": {
  "kernelspec": {
   "display_name": "Python 3",
   "language": "python",
   "name": "python3"
  },
  "language_info": {
   "codemirror_mode": {
    "name": "ipython",
    "version": 3
   },
   "file_extension": ".py",
   "mimetype": "text/x-python",
   "name": "python",
   "nbconvert_exporter": "python",
   "pygments_lexer": "ipython3",
   "version": "3.8.5"
  }
 },
 "nbformat": 4,
 "nbformat_minor": 5
}
