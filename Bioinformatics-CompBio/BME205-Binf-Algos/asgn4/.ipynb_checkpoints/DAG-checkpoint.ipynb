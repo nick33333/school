{
 "cells": [
  {
   "cell_type": "code",
   "execution_count": 1,
   "metadata": {},
   "outputs": [],
   "source": [
    "#!/usr/bin/env python3\n",
    "\n",
    "########################################################################\n",
    "# File: Chan_Nicholas_problem13.ipynb\n",
    "#Purpose:\n",
    "# main(infile='FILE_PATH',outfile='FILE_PATH', inCL=[])\n",
    "#\n",
    "# Author: Nicholas Chan\n",
    "# History: 10/18/2021 Created\n",
    "########################################################################"
   ]
  },
  {
   "cell_type": "markdown",
   "metadata": {},
   "source": [
    "# Assignment 4: Problem 15"
   ]
  },
  {
   "cell_type": "markdown",
   "metadata": {},
   "source": [
    "# Main function \n",
    "Main function is written here. This function handles argument parsing, input, and output."
   ]
  },
  {
   "cell_type": "code",
   "execution_count": 2,
   "metadata": {},
   "outputs": [],
   "source": [
    "# if __name__ == \"__main__\":\n",
    "#     main(infile='data/simple.txt', outfile='output-problem15.txt', inCL=[])   "
   ]
  },
  {
   "cell_type": "code",
   "execution_count": 3,
   "metadata": {},
   "outputs": [],
   "source": [
    "from collections import namedtuple as nt\n",
    "import random"
   ]
  },
  {
   "cell_type": "code",
   "execution_count": 110,
   "metadata": {},
   "outputs": [],
   "source": [
    "class Edge:\n",
    "    def __init__(self, src:'int', dest:'int', weight:'int'):\n",
    "        '''\n",
    "        Could replace this with a named tuple\n",
    "        '''\n",
    "        self.src = src\n",
    "        self.dest = dest\n",
    "        self.weight = weight\n",
    "    \n",
    "    def printEdge(self):\n",
    "        print(f\"[src: {self.src} | dest: {self.dest}]\")\n",
    "        print(f\"weight: {self.weight}\")\n",
    "        print()\n",
    "    def pstring(self):\n",
    "        return f\"({self.src}->{self.dest}:{self.weight})\"\n",
    "        \n",
    "        \n",
    "class Node:\n",
    "    def __init__(self, key:'int', score=-999):\n",
    "        self.key = key\n",
    "        self.inEdges = []\n",
    "        self.outEdges = []\n",
    "        \n",
    "        self.scoreEdgeList = []\n",
    "        self.maxEdge = None\n",
    "        self.tmpScore = 0\n",
    "        self.score = score\n",
    "    \n",
    "    def addInEdge(self, inEdge):\n",
    "        self.inEdges.append(inEdge)\n",
    "    def addOutEdge(self, outEdge):\n",
    "        self.outEdges.append(outEdge)      \n",
    "    def printNode(self):\n",
    "        print(f\"key: {self.key}\")\n",
    "        print(f\"inEdges: {[e.pstring() for e in self.inEdges]}\")\n",
    "        print(f\"outEdges: {[e.pstring() for e in self.outEdges]}\")\n",
    "        print(f\"score: {self.score}\")\n",
    "        print()\n",
    "    \n",
    "        \n",
    "        \n",
    "class Graph:\n",
    "    def __init__(self, start, end, edges:'list[Edge]'):\n",
    "        # MIGHT LEAVE SCORING FOR TOPOSORTING PART\n",
    "        self.start = start\n",
    "        self.end = end \n",
    "        self.edges = edges # List of edges to be used to generate nodes and node relationships\n",
    "        self.nodes = dict() # Dict of nodes in graph\n",
    "        for e in edges:\n",
    "            if e.src not in self.nodes:\n",
    "                self.nodes[e.src] = Node(key=e.src)\n",
    "            if e.dest not in self.nodes:\n",
    "                self.nodes[e.dest] = Node(key=e.dest)\n",
    "        self.nodePopulate()\n",
    "        self.topOrder = self.topOrder()\n",
    "        self.gScore = 0\n",
    "        self.gPath = []\n",
    "        self.findPathAndScore()\n",
    "            \n",
    "    def nodePopulate(self):\n",
    "        '''\n",
    "        Creates node relationships\n",
    "        MUST CALL THIS BEFORE topOrder\n",
    "        '''\n",
    "        for e in self.edges:\n",
    "            self.nodes[e.src].addOutEdge(e)\n",
    "            self.nodes[e.dest].addInEdge(e)\n",
    "        # Remove all inEdges to start and outEdges from end in case\n",
    "        self.nodes[self.start].inEdges = []\n",
    "        self.nodes[self.end].outEdges = []\n",
    "    \n",
    "    def topOrder(self):\n",
    "        '''\n",
    "        Keep a list of nodes in the order to solve them. \n",
    "        Constantly update set of candidate nodes with no incoming edges\n",
    "        \n",
    "        FIX EDGE CASES LATER LOL :'-(\n",
    "        Problem: Might be something the discord dude mentioned about multiple edges besides the start having no input edges\n",
    "        and therefore unsolved candidates\n",
    "        Solution Maybe? Either remove those nodes (idk ab this one) OR add those nodes to Candidates right off the bat\n",
    "        '''\n",
    "        List = [] # List of NODES\n",
    "        Candidates = {self.nodes[self.start]} # Set of NODES with no solved inEdges, first should be start node\n",
    "        while len(Candidates) > 0:\n",
    "#             print(f\"\\ncandidate nodes: {[n.key for n in Candidates]}\")\n",
    "            node = Candidates.pop()\n",
    "#             print(f\"popped {node.key} from candidates\")\n",
    "            List.append(node)\n",
    "#             print(f\"list nodes: {[n.key for n in List]}\")\n",
    "            for outEdge in node.outEdges: # For each outedge from curr node\n",
    "                nextNode = self.nodes[outEdge.dest]\n",
    "                nextNode.inEdges.remove(outEdge) # Remove curr's outedge from next's inEdges\n",
    "\n",
    "                if len(nextNode.inEdges) == 0:\n",
    "                    Candidates.add(nextNode)\n",
    "#                     print(f\"scoreEdgeList of curr {node.key}: {[(e[0].src, e[0].dest, e[0].weight) for e in node.scoreEdgeList]} tmpScore: {node.tmpScore}\")\n",
    "#                     print(f\"scoreEdgeList of next {nextNode.key}: {[(e[0].src, e[0].dest, e[0].weight) for e in nextNode.scoreEdgeList]} tmpScore: {nextNode.tmpScore}\")\n",
    "                    if node != self.nodes[self.start]:\n",
    "                        node.maxEdge = max(node.scoreEdgeList, key=lambda x:x[0].weight + x[1])\n",
    "#                         print(f\"maxEdge weight: {node.maxEdge[0].weight} and tmpScore: {node.tmpScore}\")\n",
    "                        node.score = node.maxEdge[0].weight + node.maxEdge[1]\n",
    "                        node.tmpScore = node.score\n",
    "#                         print(f\"scores of {node.key}: {[(e[0].src, e[0].dest, e[0].weight) for e in node.scoreEdgeList]} tmpScore: {node.tmpScore}\")\n",
    "                        nextNode.scoreEdgeList.append((outEdge,node.tmpScore))\n",
    "                        continue\n",
    "                    else:\n",
    "                        nextNode.scoreEdgeList.append((outEdge,node.tmpScore))\n",
    "                elif len(node.inEdges) == 0:\n",
    "                    if node != self.nodes[self.start]:\n",
    "#                         print(f\"scoreEdgeList of JUST curr {node.key}: {[(e[0].src, e[0].dest, e[0].weight) for e in node.scoreEdgeList]} tmpScore: {node.tmpScore}\")\n",
    "                        # Maxedge isn't enough, WE FORGOT TO CONSIDER PREVIOUS NODE SCORE\n",
    "                        node.maxEdge = max(node.scoreEdgeList, key=lambda x:x[0].weight + x[1])\n",
    "#                         print(f\"maxEdge weight: {node.maxEdge[0].weight} and tmpScore: {node.tmpScore}\")\n",
    "                        node.score = node.maxEdge[0].weight + node.maxEdge[1]\n",
    "                        node.tmpScore = node.score\n",
    "#                         print(f\"scores of {node.key}: {[(e[0].src, e[0].dest, e[0].weight) for e in node.scoreEdgeList]} tmpScore: {node.tmpScore}\")\n",
    "                        nextNode.scoreEdgeList.append((outEdge,node.tmpScore))\n",
    "                        continue\n",
    "            if node.key == self.end:\n",
    "                print(f\"scoreEdgeList of END {node.key}: {[(e[0].src, e[0].dest, e[0].weight) for e in node.scoreEdgeList]} tmpScore: {node.tmpScore}\")\n",
    "                node.maxEdge = max(node.scoreEdgeList, key=lambda x:x[0].weight + x[1])\n",
    "                print(f\"maxEdge weight: {node.maxEdge[0].weight} and tmpScore: {node.tmpScore}\")     \n",
    "                node.score = node.maxEdge[0].weight + node.maxEdge[1]\n",
    "                node.tmpScore = node.score\n",
    "                print(f\"scores of {node.key}: {[(e[0].src, e[0].dest, e[0].weight) for e in node.scoreEdgeList]} tmpScore: {node.tmpScore}\")\n",
    "                nextNode.scoreEdgeList.append((outEdge,node.tmpScore))\n",
    "                      \n",
    "                        \n",
    "#         if len(self.edges) > 0:\n",
    "#             return \"Input graph not a DAG\"\n",
    "#         else:\n",
    "\n",
    "        # Should return a list of node objects that represent the topological order of the graph\n",
    "        return List\n",
    "\n",
    "    def findPathAndScore(self):\n",
    "        '''\n",
    "        We only need order (Topologically sorted node list) for its final element\n",
    "        '''\n",
    "        stack = []\n",
    "        tmp = self.topOrder[-1] # NODE\n",
    "        score = tmp.score # This is from the assumption that the last node in a topological order has the maximal score\n",
    "        while tmp.maxEdge != None:\n",
    "            stack.append(tmp.key) # Currently only adding ints and not nodes to the output list\n",
    "            prevKey = tmp.maxEdge[0].src\n",
    "            tmp = self.nodes[prevKey]\n",
    "            if tmp.maxEdge == None:\n",
    "                stack.append(tmp.key) # Currently only adding ints and not nodes to the output list    \n",
    "        self.gScore = score\n",
    "        self.gPath = stack[::-1]\n",
    "        return (score, stack[::-1])\n",
    "        \n",
    "    \n",
    "    def printGraph(self):\n",
    "        for node in self.nodes:\n",
    "            self.nodes[node].printNode()\n",
    "        "
   ]
  },
  {
   "cell_type": "code",
   "execution_count": 111,
   "metadata": {
    "collapsed": true
   },
   "outputs": [
    {
     "name": "stdout",
     "output_type": "stream",
     "text": [
      "scoreEdgeList of END 5: [(2, 5, 11)] tmpScore: 0\n",
      "maxEdge weight: 11 and tmpScore: 0\n",
      "scores of 5: [(2, 5, 11)] tmpScore: 27\n",
      "key: 0\n",
      "inEdges: []\n",
      "outEdges: ['(0->1:4)', '(0->3:2)', '(0->1:4)', '(0->3:2)']\n",
      "score: -999\n",
      "\n",
      "key: 1\n",
      "inEdges: ['(0->1:4)']\n",
      "outEdges: ['(1->2:10)', '(1->3:5)', '(1->2:10)', '(1->3:5)']\n",
      "score: 4\n",
      "\n",
      "key: 3\n",
      "inEdges: ['(0->3:2)', '(1->3:5)']\n",
      "outEdges: ['(3->4:3)', '(3->4:3)']\n",
      "score: 9\n",
      "\n",
      "key: 2\n",
      "inEdges: ['(1->2:10)', '(4->2:4)']\n",
      "outEdges: ['(2->5:11)', '(2->5:11)']\n",
      "score: 16\n",
      "\n",
      "key: 5\n",
      "inEdges: ['(2->5:11)']\n",
      "outEdges: []\n",
      "score: 27\n",
      "\n",
      "key: 4\n",
      "inEdges: ['(3->4:3)']\n",
      "outEdges: ['(4->2:4)', '(4->2:4)']\n",
      "score: 12\n",
      "\n"
     ]
    }
   ],
   "source": [
    "### INPUT\n",
    "# e1 = Edge(0,1,7)\n",
    "# e2 = Edge(0,2,4)\n",
    "# e3 = Edge(2,3,2)\n",
    "# e4 = Edge(1,4,1)\n",
    "# e5 = Edge(3,4,3)\n",
    "\n",
    "# edgeList = [e1, e2, e3, e4, e5]\n",
    "\n",
    "e1 = Edge(0,1,4)\n",
    "e2 = Edge(0,3,2)\n",
    "e3 = Edge(1,2,10)\n",
    "e4 = Edge(1,3,5)\n",
    "e5 = Edge(2,5,11)\n",
    "e6 = Edge(3,4,3)\n",
    "e7 = Edge(4,2,4)\n",
    "edgeList = [e1,e2,e3,e4,e5,e6,e7]\n",
    "\n",
    "# GRAPH INIT\n",
    "g = Graph(start=0, end=5, edges=edgeList)\n",
    "g.nodePopulate()\n",
    "g.printGraph()\n"
   ]
  },
  {
   "cell_type": "code",
   "execution_count": 150,
   "metadata": {},
   "outputs": [
    {
     "name": "stdout",
     "output_type": "stream",
     "text": [
      "scoreEdgeList of END 4: [(1, 4, 1), (3, 4, 3)] tmpScore: 0\n",
      "maxEdge weight: 3 and tmpScore: 0\n",
      "scores of 4: [(1, 4, 1), (3, 4, 3)] tmpScore: 9\n"
     ]
    }
   ],
   "source": [
    "edgeList = []\n",
    "# with open('data/more-input.txt','r') as myfile:\n",
    "with open('data/simple-input.txt','r') as myfile:\n",
    "    startNode = int(next(myfile))\n",
    "    endNode = int(next(myfile))\n",
    "    for line in myfile:\n",
    "        line = line.replace(':', '->')\n",
    "        myLine = line.rstrip().split('->')\n",
    "        edgeData = [int(i) for i in myLine]\n",
    "        e = Edge(edgeData[0], edgeData[1], edgeData[2])\n",
    "        edgeList.append(e)\n",
    "# INITIALIZE GRAPH GIVEN START, END, AND LIST OF EDGES (ADJ LIST)\n",
    "myGraph = Graph(start = startNode, end = endNode, edges = edgeList)"
   ]
  },
  {
   "cell_type": "code",
   "execution_count": 151,
   "metadata": {},
   "outputs": [
    {
     "data": {
      "text/plain": [
       "[0, 2, 3, 4]"
      ]
     },
     "execution_count": 151,
     "metadata": {},
     "output_type": "execute_result"
    }
   ],
   "source": [
    "myGraph.gPath"
   ]
  },
  {
   "cell_type": "code",
   "execution_count": 152,
   "metadata": {},
   "outputs": [],
   "source": [
    "def printer(score, path):\n",
    "    print(score)\n",
    "    pathway = \"\"\n",
    "    for key in range(len(path)):\n",
    "        pathway += str(path[key]) \n",
    "        if key < len(path) -1:\n",
    "            pathway += \" -> \"\n",
    "\n",
    "    print(pathway)"
   ]
  },
  {
   "cell_type": "code",
   "execution_count": 153,
   "metadata": {},
   "outputs": [
    {
     "name": "stdout",
     "output_type": "stream",
     "text": [
      "9\n",
      "0 -> 2 -> 3 -> 4\n"
     ]
    }
   ],
   "source": [
    "printer(myGraph.gScore, myGraph.gPath)"
   ]
  },
  {
   "cell_type": "code",
   "execution_count": 145,
   "metadata": {},
   "outputs": [],
   "source": [
    "# def findPathAndScore(order):\n",
    "#     '''\n",
    "#     We only need order (Topologically sorted node list) for its final element\n",
    "#     '''\n",
    "#     stack = []\n",
    "#     tmp = order[-1] # NODE\n",
    "#     score = tmp.score # This is from the assumption that the last node in a topological order has the maximal score\n",
    "#     while tmp.maxEdge != None:\n",
    "#         stack.append(tmp.key) # Currently only adding ints and not nodes to the output list\n",
    "#         prevKey = tmp.maxEdge[0].src\n",
    "#         tmp = myGraph.nodes[prevKey]\n",
    "#         if tmp.maxEdge == None:\n",
    "#             stack.append(tmp.key) # Currently only adding ints and not nodes to the output list    \n",
    "#     return (score,stack[::-1])\n",
    "        "
   ]
  },
  {
   "cell_type": "code",
   "execution_count": null,
   "metadata": {},
   "outputs": [],
   "source": [
    "print(f\"key: 0 maximal previous score: {g.nodes[0].score}\")\n",
    "print(f\"key: 1 maximal previous edge: {g.nodes[1].maxEdge[0].pstring()} and score: {g.nodes[1].score}\")\n",
    "print(f\"key: 2 maximal previous edge: {g.nodes[2].maxEdge[0].pstring()} and score: {g.nodes[2].score}\")\n",
    "print(f\"key: 3 maximal previous edge: {g.nodes[3].maxEdge[0].pstring()} and score: {g.nodes[3].score}\")\n",
    "print(f\"key: 4 maximal previous edge: {g.nodes[4].maxEdge[0].pstring()} and score: {g.nodes[4].score}\")\n",
    "print(f\"key: 4 maximal previous edge: {g.nodes[5].maxEdge[0].pstring()} and score: {g.nodes[5].score}\")"
   ]
  }
 ],
 "metadata": {
  "kernelspec": {
   "display_name": "Python 3",
   "language": "python",
   "name": "python3"
  },
  "language_info": {
   "codemirror_mode": {
    "name": "ipython",
    "version": 3
   },
   "file_extension": ".py",
   "mimetype": "text/x-python",
   "name": "python",
   "nbconvert_exporter": "python",
   "pygments_lexer": "ipython3",
   "version": "3.8.5"
  }
 },
 "nbformat": 4,
 "nbformat_minor": 4
}
