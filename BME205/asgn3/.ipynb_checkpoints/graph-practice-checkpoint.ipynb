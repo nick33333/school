{
 "cells": [
  {
   "cell_type": "code",
   "execution_count": 12,
   "metadata": {},
   "outputs": [],
   "source": [
    "class Edge:\n",
    "    def __init__(self, name, start = None, end = None):\n",
    "        self.name = name\n",
    "        self.start = start\n",
    "        self.end = end\n",
    "    def setNodes(self, s, e):\n",
    "        self.start = s\n",
    "        self.end = e\n",
    "    def edgePrint(self):\n",
    "        print(f\"[NAME: {self.name}, START: {self.start}, END: {self.end}]\")"
   ]
  },
  {
   "cell_type": "code",
   "execution_count": 23,
   "metadata": {},
   "outputs": [],
   "source": [
    "sf = Edge('sf')"
   ]
  },
  {
   "cell_type": "code",
   "execution_count": 24,
   "metadata": {},
   "outputs": [
    {
     "name": "stdout",
     "output_type": "stream",
     "text": [
      "[NAME: sf, START: None, END: None]\n"
     ]
    }
   ],
   "source": [
    "e.edgePrint()"
   ]
  },
  {
   "cell_type": "code",
   "execution_count": 51,
   "metadata": {},
   "outputs": [],
   "source": [
    "class Node:\n",
    "    def __init__(self, name, inEdges = dict(), outEdges = dict()):\n",
    "        self.name = name\n",
    "        self.inEdges = inEdges\n",
    "        self.outEdges = outEdges\n",
    "        \n",
    "    def addInEdges(self, i):\n",
    "        self.inEdges[i.name] = i\n",
    "        \n",
    "    def addOutEdges(self, o):\n",
    "        self.outEdges[o.name] = o\n",
    "        \n",
    "    def getOutNodes(self):\n",
    "        ''' \n",
    "        Lists places we can go from a particular node, \n",
    "        traverses all edges and records names of connnected nodes \n",
    "        '''\n",
    "        places = []\n",
    "        for out in self.outEdges.keys():\n",
    "            places.append(out)\n",
    "        return places\n",
    "        \n",
    "    def edgePrint(self):\n",
    "        print(f\"NAME: {self.name}\\ninEdges: {self.inEdges.keys()}\\noutEdges: {self.outEdges.keys()}\")"
   ]
  },
  {
   "cell_type": "code",
   "execution_count": 52,
   "metadata": {},
   "outputs": [],
   "source": [
    "usa = Node(\"usa\")\n",
    "usa.addInEdges(sf)"
   ]
  },
  {
   "cell_type": "code",
   "execution_count": 53,
   "metadata": {},
   "outputs": [
    {
     "name": "stdout",
     "output_type": "stream",
     "text": [
      "NAME: usa\n",
      "inEdges: dict_keys(['sf'])\n",
      "outEdges: dict_keys([])\n"
     ]
    }
   ],
   "source": [
    "usa.edgePrint()"
   ]
  },
  {
   "cell_type": "code",
   "execution_count": null,
   "metadata": {},
   "outputs": [],
   "source": []
  },
  {
   "cell_type": "code",
   "execution_count": null,
   "metadata": {},
   "outputs": [],
   "source": []
  }
 ],
 "metadata": {
  "kernelspec": {
   "display_name": "Python 3",
   "language": "python",
   "name": "python3"
  },
  "language_info": {
   "codemirror_mode": {
    "name": "ipython",
    "version": 3
   },
   "file_extension": ".py",
   "mimetype": "text/x-python",
   "name": "python",
   "nbconvert_exporter": "python",
   "pygments_lexer": "ipython3",
   "version": "3.8.5"
  }
 },
 "nbformat": 4,
 "nbformat_minor": 4
}
