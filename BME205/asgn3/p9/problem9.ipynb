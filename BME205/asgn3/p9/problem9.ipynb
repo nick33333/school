{
 "cells": [
  {
   "cell_type": "code",
   "execution_count": 5,
   "metadata": {},
   "outputs": [],
   "source": [
    "#!/usr/bin/env python3\n",
    "\n",
    "########################################################################\n",
    "# File: Chan_Nicholas_problem9.ipynb\n",
    "# Purpose: Find the string spelled by a genome path.\n",
    "#   main(infile='FILE_PATH',outfile='FILE_PATH', inCL=[])\n",
    "#\n",
    "# Author: Nicholas Chan\n",
    "# History: 10/18/2021 Created\n",
    "########################################################################"
   ]
  },
  {
   "cell_type": "markdown",
   "metadata": {},
   "source": [
    "# Command Line Class\n",
    "Provided by Dr. B for parsing command line arguments"
   ]
  },
  {
   "cell_type": "code",
   "execution_count": 6,
   "metadata": {},
   "outputs": [],
   "source": [
    "########################################################################\n",
    "# CommandLine\n",
    "########################################################################\n",
    "\n",
    "\n",
    "class CommandLine():\n",
    "    \"\"\"\n",
    "    Handle the command line, usage and help requests.\n",
    "\n",
    "    CommandLine uses argparse,\n",
    "    it implements a standard command line argument parser with various argument options,\n",
    "    a standard usage and help, and an error termination exception Usage.\n",
    "    \"\"\"\n",
    "\n",
    "    def __init__(self, inOpts = None):\n",
    "        \"\"\"\n",
    "        CommandLine constructor.\n",
    "        \n",
    "        Implement a parser to interpret the command line argv string using argparse.\n",
    "        \"\"\"\n",
    "        import argparse\n",
    "        self.parser = argparse.ArgumentParser(\n",
    "            description='Program prolog - a brief description of what this thing does',\n",
    "            epilog='Program epilog - some other stuff you feel compelled to say',\n",
    "            add_help=True,  # default is True\n",
    "            prefix_chars='-',\n",
    "            usage='%(prog)s [options] -option1[default] <input >output'\n",
    "            )\n",
    "\n",
    "        self.parser.add_argument('-m', '--minMotif', type=int, default=3, action='store', help='minimum motif length to consider for Markov Model')\n",
    "        self.parser.add_argument('-M', '--maxMotif', type=int, default=8, action='store', help='maximum motif length to consider for Markov Model')\n",
    "        self.parser.add_argument('-c', '--cutoff', type=int, default=-4, action='store', help='Significant Z-score cutoff value')\n",
    "        # Command line option to use Gibbs sampling to find the optimal consensus motif.\n",
    "#         self.parser.add_argument('-g', '--gibbsampling', type=float, default=1, action='store', help='implement Gibbs sampling')\n",
    "\n",
    "        if inOpts is None:\n",
    "            self.args = self.parser.parse_args()\n",
    "        else:\n",
    "            self.args = self.parser.parse_args(inOpts)"
   ]
  },
  {
   "cell_type": "markdown",
   "metadata": {},
   "source": [
    "# FastAreader Class\n",
    "Provided by Dr. B for reading Fasta Files."
   ]
  },
  {
   "cell_type": "code",
   "execution_count": 7,
   "metadata": {},
   "outputs": [],
   "source": [
    "\n",
    "import sys\n",
    "\n",
    "class FastAreader():\n",
    "    \"\"\"\n",
    "    Read in files and preprocess.\n",
    "    \"\"\"\n",
    "    def __init__(self, fname=''):\n",
    "        \"\"\" Contructor: saves attribute fname. \"\"\"\n",
    "        self.fname = fname\n",
    "\n",
    "    def doOpen(self):\n",
    "        \"\"\" Open a file.\"\"\"\n",
    "        if self.fname == '':\n",
    "            return sys.stdin\n",
    "        else:\n",
    "            return open(self.fname)\n",
    "\n",
    "    def readFasta(self):\n",
    "        \"\"\" Read in a fasta file and yield header and sequences separately\"\"\"\n",
    "        header = ''\n",
    "        sequence = ''\n",
    "\n",
    "        with self.doOpen() as fileH:\n",
    "\n",
    "            header = ''\n",
    "            sequence = ''\n",
    "\n",
    "            # skip to first fasta header\n",
    "            line = fileH.readline()\n",
    "            while not line.startswith('>'):\n",
    "                line = fileH.readline()\n",
    "            header = line[1:].rstrip()\n",
    "\n",
    "            # Separate headers and sequences\n",
    "            for line in fileH:\n",
    "                if line.startswith('>'):\n",
    "                    yield header, sequence\n",
    "                    header = line[1:].rstrip()\n",
    "                    sequence = ''\n",
    "                else:\n",
    "                    sequence += ''.join(line.rstrip().split()).upper()\n",
    "\n",
    "        yield header, sequence"
   ]
  },
  {
   "cell_type": "markdown",
   "metadata": {},
   "source": [
    "# Assignment 3: Problem 9"
   ]
  },
  {
   "cell_type": "code",
   "execution_count": 7,
   "metadata": {},
   "outputs": [],
   "source": [
    "'''\n",
    "Problem 9: Find the string spelled by a genome path.\n",
    "'''\n",
    "class Solution:\n",
    "    def __init__(self, seqList:'list'):\n",
    "        self.seqList = seqList\n",
    "        self.seq = self.reconstructor()\n",
    "\n",
    "    def reconstructor(self)->'str':\n",
    "        firstSeq = self.seqList[0]\n",
    "        self.seqList.remove(firstSeq)\n",
    "        while len(self.seqList) > 0:\n",
    "            for seq in self.seqList:\n",
    "                if seq[:len(seq)-1] in firstSeq[len(firstSeq)-len(seq):]: # Rear of ref to front of seqList seq\n",
    "                    # print(f'firstSeq front: {firstSeq[len(firstSeq)-len(seq):]} and seq rear: {seq[:len(seq)-1]}')\n",
    "                    firstSeq = firstSeq + seq[-1]\n",
    "                    self.seqList.remove(seq)\n",
    "                elif seq[1:] in firstSeq[:len(firstSeq)-len(seq)]: # Front of ref to rear of seqList seq\n",
    "                    # print(f'seq rear: {seq[1:]} and firstSeq front: {firstSeq[:len(firstSeq)-len(seq)]}')\n",
    "                    firstSeq = seq[0] + firstSeq\n",
    "                    self.seqList.remove(seq)\n",
    "                else:\n",
    "                    continue\n",
    "        return firstSeq"
   ]
  },
  {
   "cell_type": "markdown",
   "metadata": {},
   "source": [
    "# Main function \n",
    "Main function is written here. This function handles argument parsing, input, and output."
   ]
  },
  {
   "cell_type": "code",
   "execution_count": 22,
   "metadata": {},
   "outputs": [],
   "source": [
    "def main(infile, outfile, inCL=None):\n",
    "\n",
    "    inputSeqList = []\n",
    "    \n",
    "    with open(infile,'r') as myfile:\n",
    "        for line in myfile:\n",
    "            inputSeqList.append(line.rstrip())\n",
    "    #print(f\"inputSeqList: {inputSeqList}\")\n",
    "                \n",
    "    solution = Solution(inputSeqList)\n",
    "    solutionString = solution.seq\n",
    "\n",
    "    with open(outfile, \"w\") as myfile:\n",
    "        myfile.write(solutionString + '\\n')\n",
    "        print(solutionString)"
   ]
  },
  {
   "cell_type": "code",
   "execution_count": 24,
   "metadata": {},
   "outputs": [
    {
     "name": "stdout",
     "output_type": "stream",
     "text": [
      "ACCAGACGGGAACCGCGGTTCCAAACCGGTTGCCCGCTCAAGTTTGGATCTATATACCTAGCCTCTGTTTATTAAAAACTAACCACCAGATAGTTTCTCTAAGGCGGTACAGGAGGCCGTTGCTATATTAATGTAGGATGGTATCATAACAGGACATCTTTATAGGAAAGGTCGGTTCTTATGGGAGATCACCGATTTCGCCGCGCCGTGCCAAGGCTCATGCTTGCGTAAACTGACTTCAAGCGTAGGAGACACTGGTGTCACCCCTGTCAATATCGTTACGAAAGCTGCAAAGCGAACAAGGGTCCTGTCCCCAACGCACCGCGAATATATACCCATCGTATGACCGAGGAGGCGTGCCAAGTAGAAGTATGCGAGTTCGGGCTTAAGATGCGCTACGATAATATAAAGATCATGCCTAGTTGAGCCTATTACCTCAAGGGCAAGCCTGCGGCGCAACTATCGTCATCTAAGCGCGTTGCTTTTTATCTCTGATACCTTAACATCCACGGCAGCGCAGCTATTTCGTGAACTATAACAAATACTCAATTCGTTCGTACAGCACGTCAGGAAGTCGGGTTACATGATAACGCCCCCAAGCCTACTAATCCCCCGACAAGTTTGACTTCCCCACGATCGTTTCGTGTTTTGTACACTTGGAGTCGCGGTAACCTGAGTGGACCACAAGTTAGTGGACGACAGGCCATCGGTAGAGGACCTGGCTGCCGGATACTATTAATAGGGATCTTTACGATATCGAAGGCCAAACACAGTATGGCTGGGGAGTTTTCGAGACCGGGGCCGCTAGATCGAAAATAGTTACACGACAATCGGACGCTCAGATCAGCACATGGAAGGGCGAAGTCGTCAAGCATTTGGAATACCATAGAAAAGTTGAGGTCACTCAGGGTAATACGGGCCCTGAACTAGAACCTATAGCTACAATATGGGAGCTTGCAGCAAAATTCCAGGCGGCATCGGCATTGTAATCTTTGCGAGCTGCGACACCATGGCTCCAAGGCGGTGCGTTGCTAGGGATAATGTCATCAGCTAACTTCCGGACTATTTTGCAGTGAGTTCAATGGTGCCGTCGTAAGTTAATATGAAAGCCCCCAATTTCGGACCTAGTACTTGTGCATGGTTAACGTTCCCAGCACTCTTAATGGTGGAGTGCGAACAGTCAAGGAACTGATACAATTCCGCACATCAATTAAACACATGACCAATCGCATTATTCACTTCGGCACGAGACACCCGGCTCCGGCTAGCGGCGCGCCGAATTATATCGTTAGAGCTCTAGATGTTACGAGCGGTAAAAGTCGATATTTCTTGACACGTAACAGATGGGATGGACGGGACCGTGGGCGGCAGTCTAAAAGTCTACGTCGCGCATCGCCGTTCAACTTGAGTACTGTCCCATGCCTAGCTATCGTGAGGCGCATACCGTATACCTTGAGGGTGACTCCGATCGCTCCGAGCAATTTGAGAGCGGAGTTTACGTTATGCATAGCAAAGATCGACACTCGTACCTTTCCCAGTTTGATTGGAATACAGTTGCCTACAATTCAGTCCTCGTCAGAGGATCGAGCCCTTCCTCATTTAAACGAACTTTTAATCAAAGGACGACGCCCCCGAGAATCGTTCTGTAGACATTCGGGTTAAGACTCGCTAATCTTATTGGGGAATGAGTATTGCAACCCCCGATATCGGTATCCGTGAGACTAACAAGGAACGCGGCAGCCGCTTGACACAACATGCTAGTAGCGTCGCGACTTATGCGAGGAATAGACATCCAAATTTCCATTTTTCCCAAAGCCTTCTGTCCTGCGACCCTTACTCCTGCAGGACCACGAGAAACAACAGCCTAGGCACGCGGCCTGGGCCTACCGAGGGTATCGGCTGTCAGTCAGTTGATGTCGCAGGAAACTGTATAGACTACTTATACATTCGAGGCGGTTTTAGCGGACTTTGAAAGAAGTTTCTCTGTAGCGTTGCAGAAAGTCTTGCTGCAAGATACCTGTAGTATAGGAGTAGGTTAGACGGTGGAGGGTAGCTAAGGGACAGCTGAAGGCGTACGTAAACAACACTAAGTGTGTAGTCACCTCTATGATCTATTTACAGAGATGGACCCCGAGGCTTCCCGAATAGCCTTCGACTTCACAGGCGTTGGGTTCGCGAAGTTCAGTCGCTGCAGCACCATCGAGACGTTCCCAGTATGTGCGCATCGCTTATCGATATCGATTTAAATGCTAGGCCTGAGGGTAGCGTGAGAGTGCGCTACACATACGTAAGGCAGTTCGGAAAAACCCGGGTAGCTGTTCTCTGCTAGTTAAAACACTCCTACGAAAGCGTTCCCTAACATAGTCGCAGCGGCAACGCGGGAGGGGGACGCCCGAGGCGTATATTTGCATTTTCCTCAACCTTCGATTCTGAGAATTGGGGAAGTAGCTTGTCCACAATCTACGACAACCTGTTTTTAACGCCGGCGGCACGGTCCAGAAATGCCCTTTCAAATGGAAAAAACAGCGCCCACTAATCCGAGCCCCGTAATTTGGTCTTACGATTCCAAACTTACCAACGCGGGTCATGCCTCGCACATACTGGAGTGAGTTTCCTGCGTCCGTCGCGTAATTTAAAGTCACGCTGAGCTGAATACAAGCACAAAGTTACGTTTGTGAGTCCCTGGAGTGACAGACGCGTTCACAATGCTTTTGGACCTTAGCGGGAGGGACCCTGCTCGGTGGGCCGACAAGTCACCCTTGTGCGTTCGAAACAATAAATATATCCCGACTACCAATGCTAGTTGAAAGATTCCACCGCGCTGCCTTCCTTCATGATGGGCGAGATAGTGACATCAATTAGAGTCCATACTACCAGCATATCGGCTCTCTTGCAGCATCAAGACGAGGCGGGGCCAGTGAGCTACGGGTGTGTGGCTGTCATGAGACATGTTTGGGGGGTACCCGCAGCTCGGCGTATTAACTCTGAGGAAGCATCCGCTGCAAGGTCCGCCGAATCGGAGGGCTGGTGCCGCTCACCAGCGCTCTCCCTCCACTCTTACGGGTTTCTAGAATACCGCATCGGCGCCTATGGCTGGATTACCGGAGTATTCGATCAGTGTAGGAGAGCTGACCCCCCATACTGAAGGACACCAAAACAACCTGTCATCCGAGGTACAACAATCTAAATGATGCAGACTGATCCTATCGGTAATTTAATTAACGCGAGTCCACACCGCAGTTCCGGCAAAGTGAAGTGGACTCCGAGTACCTACCCAGCCAAAGGCCGCATCAGTTAGTCAGACTGTCAGTCAAGAGCCACCCGCAAGTGAGTACGTCATGCGACCCATATAACCTTGTCCCCTCAGTTTGCCGCCGGCTCCCAGACCGGTTCGGTCCCTTGGAACGAGTGGTATACCAATCTAGTGATCTGGACGTCTACCGAGCGTCTATCCCCCTCTGACAGCTGACTAATCTTTGCGGTATGTAGCCCAGACCCGCTCTACAGACGACGGATACCTTGGGAACAATTCAGTTTTGCCGCAGTTAACCCTAATGTTCAGCCTGCGAGCTACCAAGTGCAATGGTCAGTCGATACGATCATAAATCTGTCGCTTTATGCCCGATTATACACTACGTTCACAAAACCAGATCCAGTCTTGTGGGTATATCGCGCCGACTGCTGTATAATCATAGACAAGCTCTCATCTCGCACATGAAACGGGGTCGTAACCTAACTCTTAGTTCATGGTGACTAGTACTTGCGGTACGTTTGGAGGCTACGTCCCTTACCGTCCGCACCCCGCATACTAAGTACTCTCTATAATTGGCATGCTAATATCCGCTCAGAATTTTTCCGGGGTTCAAAGCTCGTTCCGCACTAAGTGAGGATGGGCTACCATTGGGCCCGACTGTTTTAACCTAGACAAGTCCTTCGGGTTATCGCTGGAAGGGAGTGGGGAAGAGCTGGACCTTCTATAACAGTCCGCTTAGCCCGCGCTGTAAGCGATCGAAGCGTTGTGAATCTACCGGCACCTATTGCCAGCGAGTTTACCTGGTTCTCACATCCGGCCACACATTCCCGTCGTTTTAGTGAAACTGTACTAGACTATGTCGCCCTTCAAGGTTCAGATACGAGGCAGTTTAACACTCTCACTCGAGAGGCTTACTCAGCGGTGCCCTAGCTCTGCGAAGCCGTGGGAAATAGTTAGACTAGCGGATTCGAGGCGAAAAGGGCGCAATGCGCGCCTTTGGCCGTTCCATGAAAACTCGCTATCCCCGGTCTATCTCTCCCATTGTTTCGTCAGGGTTATTCCTCGGCAACTCTCGTAGGTCCACTCCGATAACTGCGAGGGGACAGGCAGGGCTCCTAATATCGTGCCGGCATGGGAGAACACGCGCTGTTGGTAATTACAAAATGGACAAGCCGGGACTCTGATGCCATCTAGATTCCGTGCGATCGACGTAGGATCGCCGTAATGACGCTCCCATTTTCTACTTTAATGACAAAGGCCGGGAGTACATCCTAAGGGCGCCGGCGGGCATCCTAACGGAGCAGTCGCGAAAAATTTAGTTTGTACACACTCTACCACTCAGGGCTGAAAGCCGCACTTGGATGAATCGCTAAGAGCACGCGGCCCTCTCCTGGTTGTATGACTGCCAGTACTACACTATCCAGAGAGGCAGAGGGCTTGGCTCTCGTTCCGCCTAGCCACGTAACTCATCACGGTTGAACTGTCACAAAGGTCTTTCTGAACTCGATCATGACAGAGTTATACATTGAGTATACGGCTCGGCGCTAGCAAACCCTTCAGCCGGATCTTGACACGGGTTAATTCACCGCCTTGGGCGGGAATATGGGAACGCCACTGATATAGCACGCTCGCCGGTATTAAAGCCATTGCTCTCGCGTGGTGTCCGGGAGTAGCTGTCGAGCTACGTGGGGACTTGTGAAGCCACATGCCTGCTCCAGGCCTGGATACATACTGCCCTTACGTCGTC\n"
     ]
    }
   ],
   "source": [
    "if __name__ == \"__main__\":\n",
    "    main(infile='data/rosalind_ba3b.txt',outfile='output-problem9.txt', inCL=[])"
   ]
  },
  {
   "cell_type": "code",
   "execution_count": null,
   "metadata": {},
   "outputs": [],
   "source": []
  }
 ],
 "metadata": {
  "kernelspec": {
   "display_name": "Python 3",
   "language": "python",
   "name": "python3"
  },
  "language_info": {
   "codemirror_mode": {
    "name": "ipython",
    "version": 3
   },
   "file_extension": ".py",
   "mimetype": "text/x-python",
   "name": "python",
   "nbconvert_exporter": "python",
   "pygments_lexer": "ipython3",
   "version": "3.8.5"
  }
 },
 "nbformat": 4,
 "nbformat_minor": 4
}
