{
 "cells": [
  {
   "cell_type": "code",
   "execution_count": 5,
   "metadata": {},
   "outputs": [],
   "source": [
    "#!/usr/bin/env python3\n",
    "\n",
    "########################################################################\n",
    "# File: Chan_Nicholas_problem10.ipynb\n",
    "# Purpose: Given an arbitrary collection of k-mers Patterns, we form a graph having a node for each k-mer in Patterns and connect k-mers Pattern and Pattern' by a directed edge if Suffix(Pattern) is equal to Prefix(Pattern'). The resulting graph is called the overlap graph on these k-mers, denoted Overlap(Patterns).\n",
    "#   main(infile='FILE_PATH',outfile='FILE_PATH', inCL=[])\n",
    "#\n",
    "# Author: Nicholas Chan\n",
    "# History: 10/18/2021 Created\n",
    "########################################################################"
   ]
  },
  {
   "cell_type": "markdown",
   "metadata": {},
   "source": [
    "# Command Line Class\n",
    "Provided by Dr. B for parsing command line arguments"
   ]
  },
  {
   "cell_type": "code",
   "execution_count": 6,
   "metadata": {},
   "outputs": [],
   "source": [
    "########################################################################\n",
    "# CommandLine\n",
    "########################################################################\n",
    "\n",
    "\n",
    "class CommandLine():\n",
    "    \"\"\"\n",
    "    Handle the command line, usage and help requests.\n",
    "\n",
    "    CommandLine uses argparse,\n",
    "    it implements a standard command line argument parser with various argument options,\n",
    "    a standard usage and help, and an error termination exception Usage.\n",
    "    \"\"\"\n",
    "\n",
    "    def __init__(self, inOpts = None):\n",
    "        \"\"\"\n",
    "        CommandLine constructor.\n",
    "        \n",
    "        Implement a parser to interpret the command line argv string using argparse.\n",
    "        \"\"\"\n",
    "        import argparse\n",
    "        self.parser = argparse.ArgumentParser(\n",
    "            description='Program prolog - a brief description of what this thing does',\n",
    "            epilog='Program epilog - some other stuff you feel compelled to say',\n",
    "            add_help=True,  # default is True\n",
    "            prefix_chars='-',\n",
    "            usage='%(prog)s [options] -option1[default] <input >output'\n",
    "            )\n",
    "\n",
    "        self.parser.add_argument('-m', '--minMotif', type=int, default=3, action='store', help='minimum motif length to consider for Markov Model')\n",
    "        self.parser.add_argument('-M', '--maxMotif', type=int, default=8, action='store', help='maximum motif length to consider for Markov Model')\n",
    "        self.parser.add_argument('-c', '--cutoff', type=int, default=-4, action='store', help='Significant Z-score cutoff value')\n",
    "        # Command line option to use Gibbs sampling to find the optimal consensus motif.\n",
    "#         self.parser.add_argument('-g', '--gibbsampling', type=float, default=1, action='store', help='implement Gibbs sampling')\n",
    "\n",
    "        if inOpts is None:\n",
    "            self.args = self.parser.parse_args()\n",
    "        else:\n",
    "            self.args = self.parser.parse_args(inOpts)"
   ]
  },
  {
   "cell_type": "markdown",
   "metadata": {},
   "source": [
    "# Assignment 3: Problem 10"
   ]
  },
  {
   "cell_type": "code",
   "execution_count": 50,
   "metadata": {},
   "outputs": [],
   "source": [
    "'''\n",
    "Problem 10: \n",
    "Given an arbitrary collection of k-mers Patterns, we form a graph having a node \n",
    "for each k-mer in Patterns and connect k-mers Pattern and Pattern' by a directed edge if \n",
    "Suffix(Pattern) is equal to Prefix(Pattern'). The resulting graph is called the overlap graph \n",
    "on these k-mers, denoted Overlap(Patterns).\n",
    "\n",
    "Desired output:\n",
    "AGGCA -> GGCAT\n",
    "CATGC -> ATGCG\n",
    "GCATG -> CATGC\n",
    "GGCAT -> GCATG\n",
    "'''\n",
    "class Solution:\n",
    "    def __init__(self, seqList):\n",
    "        self.seqList = seqList\n",
    "        \n",
    "        self.suffix = dict()\n",
    "        self.prefix = dict()\n",
    "        self.addToDicts()\n",
    "        \n",
    "        self.graph = self.graph()\n",
    "        \n",
    "    def addToDicts(self)->'dict':\n",
    "        '''\n",
    "        Using input text, create a dict where keys are seq suffixes and vals \n",
    "        are seq names.\n",
    "        '''\n",
    "        for seq in self.seqList:\n",
    "            self.suffix[seq[1:]] = seq\n",
    "            self.prefix[seq[:-1]] = seq\n",
    "            #self.seqList.remove(seq)\n",
    "    \n",
    "    def graph(self) -> 'dict':\n",
    "        '''\n",
    "        Using prefix and suffix dicts, create a graph dict where keys \n",
    "        are starting seq and vals are seqs with prefixes matching their\n",
    "        respective key's suffix.\n",
    "        '''\n",
    "        graphDict = dict()\n",
    "        for seq in self.seqList:\n",
    "            prefix = seq[:-1]\n",
    "            suffix = seq[1:]\n",
    "            if suffix in self.suffix and suffix in self.prefix:\n",
    "                graphDict[self.suffix[suffix]] = self.prefix[suffix]\n",
    "        return graphDict\n",
    "            \n",
    "            \n",
    "    def printGraph(self) -> 'str':\n",
    "        output = \"\"\n",
    "        keyList = [key for key in self.graph]\n",
    "        for key in sorted(keyList):\n",
    "            output += f\"{key} -> {self.graph[key]}\\n\"\n",
    "        return output\n",
    "            \n",
    "            "
   ]
  },
  {
   "cell_type": "code",
   "execution_count": 51,
   "metadata": {},
   "outputs": [
    {
     "data": {
      "text/plain": [
       "['.ipynb_checkpoints', 'rosalind_ba3c.txt', 'simple-input.txt']"
      ]
     },
     "execution_count": 51,
     "metadata": {},
     "output_type": "execute_result"
    }
   ],
   "source": [
    "import os\n",
    "\n",
    "os.listdir('data')"
   ]
  },
  {
   "cell_type": "code",
   "execution_count": 53,
   "metadata": {},
   "outputs": [
    {
     "name": "stdout",
     "output_type": "stream",
     "text": [
      "AGGCA -> GGCAT\n",
      "CATGC -> ATGCG\n",
      "GCATG -> CATGC\n",
      "GGCAT -> GCATG\n",
      "\n"
     ]
    }
   ],
   "source": [
    "inputSeqList = []\n",
    "with open('data/simple-input.txt','r') as myfile:\n",
    "    for line in myfile:\n",
    "        myLine = line.rstrip()\n",
    "        inputSeqList.append(myLine)\n",
    "        \n",
    "sol = Solution(inputSeqList)\n",
    "print(sol.printGraph())"
   ]
  },
  {
   "cell_type": "markdown",
   "metadata": {},
   "source": [
    "# Main function \n",
    "Main function is written here. This function handles argument parsing, input, and output."
   ]
  },
  {
   "cell_type": "code",
   "execution_count": 56,
   "metadata": {},
   "outputs": [],
   "source": [
    "def main(infile, outfile, inCL=None):\n",
    "    inputSeqList = []\n",
    "    with open(infile,'r') as myfile:\n",
    "        for line in myfile:\n",
    "            myLine = line.rstrip()\n",
    "            inputSeqList.append(myLine)  \n",
    "\n",
    "    solution = Solution(inputSeqList)\n",
    "    solutionString = solution.printGraph()\n",
    "    \n",
    "    with open(outfile, \"w\") as myfile:\n",
    "        myfile.write(solutionString)"
   ]
  },
  {
   "cell_type": "code",
   "execution_count": 57,
   "metadata": {},
   "outputs": [],
   "source": [
    "if __name__ == \"__main__\":\n",
    "    main(infile='data/rosalind_ba3c.txt',outfile='output-problem10.txt', inCL=[])"
   ]
  },
  {
   "cell_type": "code",
   "execution_count": null,
   "metadata": {},
   "outputs": [],
   "source": []
  }
 ],
 "metadata": {
  "kernelspec": {
   "display_name": "Python 3",
   "language": "python",
   "name": "python3"
  },
  "language_info": {
   "codemirror_mode": {
    "name": "ipython",
    "version": 3
   },
   "file_extension": ".py",
   "mimetype": "text/x-python",
   "name": "python",
   "nbconvert_exporter": "python",
   "pygments_lexer": "ipython3",
   "version": "3.8.5"
  }
 },
 "nbformat": 4,
 "nbformat_minor": 4
}
