{
 "cells": [
  {
   "cell_type": "code",
   "execution_count": 48,
   "metadata": {},
   "outputs": [],
   "source": [
    "import sys\n",
    "import os \n",
    "import numpy as np\n",
    "from fastaReader import FastAreader"
   ]
  },
  {
   "cell_type": "code",
   "execution_count": 49,
   "metadata": {},
   "outputs": [
    {
     "name": "stdout",
     "output_type": "stream",
     "text": [
      "['.ipynb_checkpoints', 'data', 'fastaReader.py', 'mdata', 'pasgn1.ipynb', 'program.py', 'testing.ipynb', '__pycache__'] \n",
      "['allCrisprs', 'p1860Crisprs', 'paeCrisprs', 'parCrisprs', 'pcaCrisprs', 'pisCrisprs', 'pogCrisprs']\n"
     ]
    }
   ],
   "source": [
    "# KEEP\n",
    "# holds files\n",
    "dataList = os.listdir('mdata')\n",
    "print(f\"{os.listdir()} \\n{os.listdir('mdata')}\")"
   ]
  },
  {
   "cell_type": "code",
   "execution_count": 52,
   "metadata": {},
   "outputs": [
    {
     "name": "stdout",
     "output_type": "stream",
     "text": [
      "mdata/p1860Crisprs\n"
     ]
    }
   ],
   "source": [
    "# START\n",
    "# KEEP\n",
    "print('mdata/'+dataList[1])"
   ]
  },
  {
   "cell_type": "code",
   "execution_count": 53,
   "metadata": {},
   "outputs": [
    {
     "name": "stdout",
     "output_type": "stream",
     "text": [
      "Length: 50\n",
      "(\"pyro1860_1_CRISPRs_crispr1 range=chr:277515-277564 5'pad=0 3'pad=0 strand=+ repeatMasking=none\", 'AAAAAACAGACGAAAAACTTAAAAACCCACAAAAACAATCAAAACCAGCC')\n",
      "(\"pyro1860_1_CRISPRs_crispr2 range=chr:762864-762913 5'pad=0 3'pad=0 strand=- repeatMasking=none\", 'AAACCTACAAAAAACTTAAAAACCCACAAAAACCAACAAAACCAGCCCCA')\n",
      "(\"pyro1860_1_CRISPRs_crispr3 range=chr:766949-766998 5'pad=0 3'pad=0 strand=+ repeatMasking=none\", 'CAAAAAGCAGACGAAAAACTTAAAAACCCACAAAAACCATCAAAACCAGC')\n",
      "(\"pyro1860_1_CRISPRs_crispr4 range=chr:795038-795087 5'pad=0 3'pad=0 strand=+ repeatMasking=none\", 'TACACAAGAAAAACTTAAAAACCCACAAAAAACCATGACCAGGAACCCCA')\n",
      "(\"pyro1860_1_CRISPRs_crispr5 range=chr:839154-839203 5'pad=0 3'pad=0 strand=- repeatMasking=none\", 'CGAAACATTTATAAAAGAGCAAAAACCAAAATCCCAAATAAAAACCCACA')\n",
      "(\"pyro1860_1_CRISPRs_crispr6 range=chr:848207-848256 5'pad=0 3'pad=0 strand=- repeatMasking=none\", 'CGAAACATTTATAAAAGAGCAAAAACCAAAATCCCAAATAAAAACCCACA')\n",
      "(\"pyro1860_1_CRISPRs_crispr7 range=chr:852133-852182 5'pad=0 3'pad=0 strand=+ repeatMasking=none\", 'CGAAACATTTATAAAAGAGCAAAAACTAAGATCCCAAATAAAAACCCACA')\n",
      "(\"pyro1860_1_CRISPRs_crispr8 range=chr:2235048-2235097 5'pad=0 3'pad=0 strand=+ repeatMasking=none\", 'AAAAAACAGACGAAAAACTTAAAAACACACAAAAACCGCAAAAACCAGCC')\n"
     ]
    },
    {
     "data": {
      "text/plain": [
       "'AAAAAACAGACGAAAAACTTAAAAACCCACAAAAACAATCAAAACCAGCCAAACCTACAAAAAACTTAAAAACCCACAAAAACCAACAAAACCAGCCCCACAAAAAGCAGACGAAAAACTTAAAAACCCACAAAAACCATCAAAACCAGCTACACAAGAAAAACTTAAAAACCCACAAAAAACCATGACCAGGAACCCCACGAAACATTTATAAAAGAGCAAAAACCAAAATCCCAAATAAAAACCCACACGAAACATTTATAAAAGAGCAAAAACCAAAATCCCAAATAAAAACCCACACGAAACATTTATAAAAGAGCAAAAACTAAGATCCCAAATAAAAACCCACAAAAAAACAGACGAAAAACTTAAAAACACACAAAAACCGCAAAAACCAGCC'"
      ]
     },
     "execution_count": 53,
     "metadata": {},
     "output_type": "execute_result"
    }
   ],
   "source": [
    "# KEEP\n",
    "# TURN INTO A DEF OR METHOD\n",
    "# NEEDED FOR CONCATENATING ALL SEQS INTO ONE\n",
    "seqList = []\n",
    "readData0 = FastAreader('mdata/'+dataList[1]).readFasta()\n",
    "print(\"Length: \" +  str(len(\"CAAAAACGAGGGAAAAACTTATAAACTCACAAGAGCCGCAAACGTGAGCG\")))\n",
    "for line in readData0:\n",
    "    print(line)\n",
    "    seqList.append(line[1])\n",
    "    \n",
    "seqString = ''.join(seqList)\n",
    "seqString"
   ]
  },
  {
   "cell_type": "code",
   "execution_count": 54,
   "metadata": {},
   "outputs": [],
   "source": [
    "# Pseudo counts don't look like they'd make a big diff\n",
    "def nullModel(seqString: 'list', p:'int'=0) -> 'dict()':\n",
    "    nullProfDict = dict()\n",
    "    countA = seqString.count('A')\n",
    "    countC = seqString.count('C')\n",
    "    countG = seqString.count('G')\n",
    "    countT = seqString.count('T')\n",
    "    countTot = countA + countC + countG + countT\n",
    "    nullProfDict['A'] = (countA+p)/(countTot +p*4)\n",
    "    nullProfDict['C'] = (countC+p)/(countTot +p*4)\n",
    "    nullProfDict['G'] = (countG+p)/(countTot +p*4)\n",
    "    nullProfDict['T'] = (countT+p)/(countTot +p*4)\n",
    "    return nullProfDict"
   ]
  },
  {
   "cell_type": "code",
   "execution_count": 55,
   "metadata": {},
   "outputs": [
    {
     "name": "stdout",
     "output_type": "stream",
     "text": [
      "233\n",
      "107\n",
      "26\n",
      "34\n"
     ]
    },
    {
     "data": {
      "text/plain": [
       "{'A': 0.5792079207920792,\n",
       " 'C': 0.26732673267326734,\n",
       " 'G': 0.06683168316831684,\n",
       " 'T': 0.08663366336633663}"
      ]
     },
     "execution_count": 55,
     "metadata": {},
     "output_type": "execute_result"
    }
   ],
   "source": [
    "print(seqString.count('A'))\n",
    "print(seqString.count('C'))\n",
    "print(seqString.count('G'))\n",
    "print(seqString.count('T'))\n",
    "\n",
    "null = nullModel(seqString,1)\n",
    "null"
   ]
  },
  {
   "cell_type": "code",
   "execution_count": 56,
   "metadata": {},
   "outputs": [],
   "source": [
    "# KEEP\n",
    "def motifify(seqList: 'list', k: 'int of motif length') -> 'list':\n",
    "    ''' \n",
    "    Generates n number of sequences of length k. \n",
    "    In other worrds, makes a list of randomly selected \n",
    "    k-mers/motifs from given list of seqs.\n",
    "    '''\n",
    "    motifs = []\n",
    "    for seq in seqList:\n",
    "        indexRange = np.random.randint(0,len(seq)-k)\n",
    "        motifs.append(seq[indexRange:indexRange+k])\n",
    "    return motifs"
   ]
  },
  {
   "cell_type": "code",
   "execution_count": 57,
   "metadata": {},
   "outputs": [
    {
     "data": {
      "text/plain": [
       "['AACAGACGAAAAA',\n",
       " 'AAACCTACAAAAA',\n",
       " 'AGCAGACGAAAAA',\n",
       " 'ACAAAAAACCATG',\n",
       " 'AGAGCAAAAACCA',\n",
       " 'AAAATCCCAAATA',\n",
       " 'CAAATAAAAACCC',\n",
       " 'CTTAAAAACACAC']"
      ]
     },
     "execution_count": 57,
     "metadata": {},
     "output_type": "execute_result"
    }
   ],
   "source": [
    "# Run these after running all cells\n",
    "mat = motifify(seqList,13)\n",
    "mat"
   ]
  },
  {
   "cell_type": "code",
   "execution_count": 58,
   "metadata": {},
   "outputs": [
    {
     "ename": "KeyboardInterrupt",
     "evalue": "",
     "output_type": "error",
     "traceback": [
      "\u001b[1;31m---------------------------------------------------------------------------\u001b[0m",
      "\u001b[1;31mKeyboardInterrupt\u001b[0m                         Traceback (most recent call last)",
      "\u001b[1;32m<ipython-input-58-9c4978e01db9>\u001b[0m in \u001b[0;36m<module>\u001b[1;34m\u001b[0m\n\u001b[0;32m      6\u001b[0m     \u001b[0mprofile\u001b[0m \u001b[1;33m=\u001b[0m \u001b[0mprof\u001b[0m\u001b[1;33m\u001b[0m\u001b[1;33m\u001b[0m\u001b[0m\n\u001b[0;32m      7\u001b[0m     \u001b[1;32mfor\u001b[0m \u001b[0mi\u001b[0m \u001b[1;32min\u001b[0m \u001b[0mrange\u001b[0m\u001b[1;33m(\u001b[0m\u001b[1;36m3\u001b[0m\u001b[1;33m)\u001b[0m\u001b[1;33m:\u001b[0m\u001b[1;33m\u001b[0m\u001b[1;33m\u001b[0m\u001b[0m\n\u001b[1;32m----> 8\u001b[1;33m         \u001b[0mmatrix\u001b[0m \u001b[1;33m=\u001b[0m \u001b[0mreMotifify\u001b[0m\u001b[1;33m(\u001b[0m\u001b[0mperms\u001b[0m\u001b[1;33m,\u001b[0m\u001b[0mprofile\u001b[0m\u001b[1;33m)\u001b[0m\u001b[1;33m\u001b[0m\u001b[1;33m\u001b[0m\u001b[0m\n\u001b[0m\u001b[0;32m      9\u001b[0m         \u001b[0mprofile\u001b[0m \u001b[1;33m=\u001b[0m \u001b[0mprofilify\u001b[0m\u001b[1;33m(\u001b[0m\u001b[0mmatrix\u001b[0m\u001b[1;33m,\u001b[0m \u001b[0mp\u001b[0m\u001b[1;33m=\u001b[0m\u001b[1;36m1\u001b[0m\u001b[1;33m)\u001b[0m\u001b[1;33m\u001b[0m\u001b[1;33m\u001b[0m\u001b[0m\n\u001b[0;32m     10\u001b[0m     \u001b[0mwilt\u001b[0m\u001b[1;33m.\u001b[0m\u001b[0mappend\u001b[0m\u001b[1;33m(\u001b[0m\u001b[0mrealEntropy\u001b[0m\u001b[1;33m(\u001b[0m\u001b[0mnull\u001b[0m\u001b[1;33m,\u001b[0m\u001b[0mprofile\u001b[0m\u001b[1;33m)\u001b[0m\u001b[1;33m)\u001b[0m\u001b[1;33m\u001b[0m\u001b[1;33m\u001b[0m\u001b[0m\n",
      "\u001b[1;32m<ipython-input-18-4c5e9d0c13c2>\u001b[0m in \u001b[0;36mreMotifify\u001b[1;34m(permMat, profileMatrix)\u001b[0m\n\u001b[0;32m     12\u001b[0m         \u001b[0mprobList\u001b[0m \u001b[1;33m=\u001b[0m \u001b[1;33m[\u001b[0m\u001b[1;33m]\u001b[0m\u001b[1;33m\u001b[0m\u001b[1;33m\u001b[0m\u001b[0m\n\u001b[0;32m     13\u001b[0m         \u001b[1;32mfor\u001b[0m \u001b[0mperm\u001b[0m \u001b[1;32min\u001b[0m \u001b[0mpermList\u001b[0m\u001b[1;33m:\u001b[0m\u001b[1;33m\u001b[0m\u001b[1;33m\u001b[0m\u001b[0m\n\u001b[1;32m---> 14\u001b[1;33m             \u001b[0mprobList\u001b[0m\u001b[1;33m.\u001b[0m\u001b[0mappend\u001b[0m\u001b[1;33m(\u001b[0m\u001b[0mfindProb\u001b[0m\u001b[1;33m(\u001b[0m\u001b[0mprofileMatrix\u001b[0m\u001b[1;33m,\u001b[0m\u001b[0mperm\u001b[0m\u001b[1;33m)\u001b[0m\u001b[1;33m)\u001b[0m \u001b[1;31m# Calculates probability of a motif given a profile and appends the probability\u001b[0m\u001b[1;33m\u001b[0m\u001b[1;33m\u001b[0m\u001b[0m\n\u001b[0m\u001b[0;32m     15\u001b[0m         \u001b[0mmaxPermList\u001b[0m\u001b[1;33m.\u001b[0m\u001b[0mappend\u001b[0m\u001b[1;33m(\u001b[0m\u001b[0mpermList\u001b[0m\u001b[1;33m[\u001b[0m\u001b[0mprobList\u001b[0m\u001b[1;33m.\u001b[0m\u001b[0mindex\u001b[0m\u001b[1;33m(\u001b[0m\u001b[0mmax\u001b[0m\u001b[1;33m(\u001b[0m\u001b[0mprobList\u001b[0m\u001b[1;33m)\u001b[0m\u001b[1;33m)\u001b[0m\u001b[1;33m]\u001b[0m\u001b[1;33m)\u001b[0m \u001b[1;31m# Finds index of the motif with the highest probability in a PERMUTATION LIST and appends the permutation to maxPermList\u001b[0m\u001b[1;33m\u001b[0m\u001b[1;33m\u001b[0m\u001b[0m\n\u001b[0;32m     16\u001b[0m         \u001b[1;31m# print(probList)\u001b[0m\u001b[1;33m\u001b[0m\u001b[1;33m\u001b[0m\u001b[1;33m\u001b[0m\u001b[0m\n",
      "\u001b[1;32m<ipython-input-13-a69eeb541467>\u001b[0m in \u001b[0;36mfindProb\u001b[1;34m(profileMatrix, kmer)\u001b[0m\n\u001b[0;32m      8\u001b[0m     \u001b[0mtotProb\u001b[0m \u001b[1;33m=\u001b[0m \u001b[1;36m1\u001b[0m\u001b[1;33m\u001b[0m\u001b[1;33m\u001b[0m\u001b[0m\n\u001b[0;32m      9\u001b[0m     \u001b[1;32mfor\u001b[0m \u001b[0midx\u001b[0m \u001b[1;32min\u001b[0m \u001b[0mrange\u001b[0m\u001b[1;33m(\u001b[0m\u001b[0mlen\u001b[0m\u001b[1;33m(\u001b[0m\u001b[0mkmer\u001b[0m\u001b[1;33m)\u001b[0m\u001b[1;33m)\u001b[0m\u001b[1;33m:\u001b[0m\u001b[1;33m\u001b[0m\u001b[1;33m\u001b[0m\u001b[0m\n\u001b[1;32m---> 10\u001b[1;33m         \u001b[0mtotProb\u001b[0m \u001b[1;33m*=\u001b[0m \u001b[0mprofileMatrix\u001b[0m\u001b[1;33m[\u001b[0m\u001b[0mkmer\u001b[0m\u001b[1;33m[\u001b[0m\u001b[0midx\u001b[0m\u001b[1;33m]\u001b[0m\u001b[1;33m]\u001b[0m\u001b[1;33m[\u001b[0m\u001b[0midx\u001b[0m\u001b[1;33m]\u001b[0m\u001b[1;33m\u001b[0m\u001b[1;33m\u001b[0m\u001b[0m\n\u001b[0m\u001b[0;32m     11\u001b[0m     \u001b[1;32mreturn\u001b[0m \u001b[0mtotProb\u001b[0m\u001b[1;33m\u001b[0m\u001b[1;33m\u001b[0m\u001b[0m\n",
      "\u001b[1;31mKeyboardInterrupt\u001b[0m: "
     ]
    }
   ],
   "source": [
    "wilt = []\n",
    "for i in range(10000):\n",
    "    mat = motifify(seqList,13)\n",
    "    prof = profilify(mat,p=1)\n",
    "    matrix = mat\n",
    "    profile = prof\n",
    "    for i in range(3):\n",
    "        matrix = reMotifify(perms,profile)\n",
    "        profile = profilify(matrix, p=1)\n",
    "    wilt.append(realEntropy(null,profile))\n",
    "#     print(realEntropy(null,profile))\n",
    "#     print(findConsensus(profile))\n",
    "#     print()\n",
    "max(wilt)"
   ]
  },
  {
   "cell_type": "code",
   "execution_count": 10,
   "metadata": {},
   "outputs": [
    {
     "ename": "NameError",
     "evalue": "name 'findConsensus' is not defined",
     "output_type": "error",
     "traceback": [
      "\u001b[1;31m---------------------------------------------------------------------------\u001b[0m",
      "\u001b[1;31mNameError\u001b[0m                                 Traceback (most recent call last)",
      "\u001b[1;32m<ipython-input-10-c9d0d819b6fe>\u001b[0m in \u001b[0;36m<module>\u001b[1;34m\u001b[0m\n\u001b[1;32m----> 1\u001b[1;33m \u001b[0mfindConsensus\u001b[0m\u001b[1;33m(\u001b[0m\u001b[0mprofile\u001b[0m\u001b[1;33m)\u001b[0m\u001b[1;33m\u001b[0m\u001b[1;33m\u001b[0m\u001b[0m\n\u001b[0m",
      "\u001b[1;31mNameError\u001b[0m: name 'findConsensus' is not defined"
     ]
    }
   ],
   "source": [
    "findConsensus(profile)"
   ]
  },
  {
   "cell_type": "code",
   "execution_count": 59,
   "metadata": {},
   "outputs": [],
   "source": [
    "# Decide whether or not to include NULL profile calculation here\n",
    "# Counts check out, all columns add up to 1 and fractions match decimals\n",
    "def profilify(motifList: 'list', p:'int'=0) -> 'dict(lists)':\n",
    "    ''' \n",
    "    Generates a profile matrix given a list of k-mers/motifs.\n",
    "    Pseudocounts are added into the Experimental and NULL models\n",
    "    in this method.\n",
    "    '''\n",
    "    # A-C-G-T correspond to 0-1-2-3\n",
    "    matRowCount = len(motifList)\n",
    "    motifLength = len(motifList[0])\n",
    "    # Dictionary matrix where rows are bases [A,C,T,G] and cols are motif indices\n",
    "    profileMatrix = dict(A=np.array([0]*motifLength), C=np.array([0]*motifLength), T=np.array([0]*motifLength), G=np.array([0]*motifLength))\n",
    "    for motif in motifList: # Iterate first over motifs in motif list (input)\n",
    "        idx=0 # Keep index of motif positions\n",
    "        for base in motif: # Iterate over motif bases\n",
    "            profileMatrix[base][idx]+=1\n",
    "            idx+=1\n",
    "    if p > 0: # If there are pseudocounts to be added\n",
    "        for key in profileMatrix.keys():\n",
    "            profileMatrix[key] = np.divide(profileMatrix[key]+p, matRowCount+(p*4)) # divides a list of motif base frequencies + pseudocount p by total bases per index + pseudocounts p*4\n",
    "        return profileMatrix\n",
    "    else: # If there are no pseudocounts to be added\n",
    "        for key in profileMatrix.keys():\n",
    "            profileMatrix[key] = np.divide(profileMatrix[key],matRowCount) # divides a list of motif base frequencies by total bases per index\n",
    "        return profileMatrix"
   ]
  },
  {
   "cell_type": "code",
   "execution_count": 60,
   "metadata": {},
   "outputs": [
    {
     "data": {
      "text/plain": [
       "{'A': array([0.5       , 0.58333333, 0.33333333, 0.41666667, 0.5       ,\n",
       "        0.66666667, 0.33333333, 0.5       , 0.66666667, 0.58333333,\n",
       "        0.41666667, 0.41666667, 0.33333333]),\n",
       " 'C': array([0.25      , 0.16666667, 0.5       , 0.16666667, 0.16666667,\n",
       "        0.08333333, 0.41666667, 0.25      , 0.16666667, 0.16666667,\n",
       "        0.25      , 0.25      , 0.41666667]),\n",
       " 'T': array([0.08333333, 0.08333333, 0.08333333, 0.16666667, 0.16666667,\n",
       "        0.16666667, 0.16666667, 0.08333333, 0.08333333, 0.16666667,\n",
       "        0.16666667, 0.25      , 0.16666667]),\n",
       " 'G': array([0.16666667, 0.16666667, 0.08333333, 0.25      , 0.16666667,\n",
       "        0.08333333, 0.08333333, 0.16666667, 0.08333333, 0.08333333,\n",
       "        0.16666667, 0.08333333, 0.08333333])}"
      ]
     },
     "execution_count": 60,
     "metadata": {},
     "output_type": "execute_result"
    }
   ],
   "source": [
    "prof = profilify(mat, p=1)\n",
    "prof"
   ]
  },
  {
   "cell_type": "code",
   "execution_count": 61,
   "metadata": {},
   "outputs": [],
   "source": [
    "# KEEP\n",
    "# Use to find probabilities of motifs AFTER a profile has been determined\n",
    "def findProb(profileMatrix:'dict(lists)',kmer:'str') -> 'float':\n",
    "    ''' \n",
    "    Finds the probability of a whole k-mer given a Profile.\n",
    "    Find individual probabilities of each base in motif and find product.\n",
    "    '''\n",
    "    totProb = 1\n",
    "    for idx in range(len(kmer)):\n",
    "        totProb *= profileMatrix[kmer[idx]][idx]\n",
    "    return totProb"
   ]
  },
  {
   "cell_type": "code",
   "execution_count": 62,
   "metadata": {},
   "outputs": [
    {
     "data": {
      "text/plain": [
       "0.08333333333333333"
      ]
     },
     "execution_count": 62,
     "metadata": {},
     "output_type": "execute_result"
    }
   ],
   "source": [
    "findProb(prof,'AC')"
   ]
  },
  {
   "cell_type": "code",
   "execution_count": 63,
   "metadata": {},
   "outputs": [],
   "source": [
    "# KEEP\n",
    "# AFTER a profile has been determined, use the perms returned from this to find the most likely permutation/motif\n",
    "# among each given input sequence\n",
    "def generateKMerPerms(seqList: 'List of raw sequences', k: 'int of k-mer length'):\n",
    "    ''' \n",
    "    Generates a list of lists of all k-mer permutations from raw sequences \n",
    "    '''\n",
    "    kmerMat = []\n",
    "    for seq in seqList:\n",
    "        kmerList = []\n",
    "        for idx in range(len(seq)-k):\n",
    "            kmerList.append(seq[idx:idx+k])\n",
    "        kmerMat.append(kmerList)\n",
    "    return kmerMat"
   ]
  },
  {
   "cell_type": "code",
   "execution_count": 64,
   "metadata": {},
   "outputs": [
    {
     "data": {
      "text/plain": [
       "[['AAAAAACAGACGA',\n",
       "  'AAAAACAGACGAA',\n",
       "  'AAAACAGACGAAA',\n",
       "  'AAACAGACGAAAA',\n",
       "  'AACAGACGAAAAA',\n",
       "  'ACAGACGAAAAAC',\n",
       "  'CAGACGAAAAACT',\n",
       "  'AGACGAAAAACTT',\n",
       "  'GACGAAAAACTTA',\n",
       "  'ACGAAAAACTTAA',\n",
       "  'CGAAAAACTTAAA',\n",
       "  'GAAAAACTTAAAA',\n",
       "  'AAAAACTTAAAAA',\n",
       "  'AAAACTTAAAAAC',\n",
       "  'AAACTTAAAAACC',\n",
       "  'AACTTAAAAACCC',\n",
       "  'ACTTAAAAACCCA',\n",
       "  'CTTAAAAACCCAC',\n",
       "  'TTAAAAACCCACA',\n",
       "  'TAAAAACCCACAA',\n",
       "  'AAAAACCCACAAA',\n",
       "  'AAAACCCACAAAA',\n",
       "  'AAACCCACAAAAA',\n",
       "  'AACCCACAAAAAC',\n",
       "  'ACCCACAAAAACA',\n",
       "  'CCCACAAAAACAA',\n",
       "  'CCACAAAAACAAT',\n",
       "  'CACAAAAACAATC',\n",
       "  'ACAAAAACAATCA',\n",
       "  'CAAAAACAATCAA',\n",
       "  'AAAAACAATCAAA',\n",
       "  'AAAACAATCAAAA',\n",
       "  'AAACAATCAAAAC',\n",
       "  'AACAATCAAAACC',\n",
       "  'ACAATCAAAACCA',\n",
       "  'CAATCAAAACCAG',\n",
       "  'AATCAAAACCAGC'],\n",
       " ['AAACCTACAAAAA',\n",
       "  'AACCTACAAAAAA',\n",
       "  'ACCTACAAAAAAC',\n",
       "  'CCTACAAAAAACT',\n",
       "  'CTACAAAAAACTT',\n",
       "  'TACAAAAAACTTA',\n",
       "  'ACAAAAAACTTAA',\n",
       "  'CAAAAAACTTAAA',\n",
       "  'AAAAAACTTAAAA',\n",
       "  'AAAAACTTAAAAA',\n",
       "  'AAAACTTAAAAAC',\n",
       "  'AAACTTAAAAACC',\n",
       "  'AACTTAAAAACCC',\n",
       "  'ACTTAAAAACCCA',\n",
       "  'CTTAAAAACCCAC',\n",
       "  'TTAAAAACCCACA',\n",
       "  'TAAAAACCCACAA',\n",
       "  'AAAAACCCACAAA',\n",
       "  'AAAACCCACAAAA',\n",
       "  'AAACCCACAAAAA',\n",
       "  'AACCCACAAAAAC',\n",
       "  'ACCCACAAAAACC',\n",
       "  'CCCACAAAAACCA',\n",
       "  'CCACAAAAACCAA',\n",
       "  'CACAAAAACCAAC',\n",
       "  'ACAAAAACCAACA',\n",
       "  'CAAAAACCAACAA',\n",
       "  'AAAAACCAACAAA',\n",
       "  'AAAACCAACAAAA',\n",
       "  'AAACCAACAAAAC',\n",
       "  'AACCAACAAAACC',\n",
       "  'ACCAACAAAACCA',\n",
       "  'CCAACAAAACCAG',\n",
       "  'CAACAAAACCAGC',\n",
       "  'AACAAAACCAGCC',\n",
       "  'ACAAAACCAGCCC',\n",
       "  'CAAAACCAGCCCC'],\n",
       " ['CAAAAAGCAGACG',\n",
       "  'AAAAAGCAGACGA',\n",
       "  'AAAAGCAGACGAA',\n",
       "  'AAAGCAGACGAAA',\n",
       "  'AAGCAGACGAAAA',\n",
       "  'AGCAGACGAAAAA',\n",
       "  'GCAGACGAAAAAC',\n",
       "  'CAGACGAAAAACT',\n",
       "  'AGACGAAAAACTT',\n",
       "  'GACGAAAAACTTA',\n",
       "  'ACGAAAAACTTAA',\n",
       "  'CGAAAAACTTAAA',\n",
       "  'GAAAAACTTAAAA',\n",
       "  'AAAAACTTAAAAA',\n",
       "  'AAAACTTAAAAAC',\n",
       "  'AAACTTAAAAACC',\n",
       "  'AACTTAAAAACCC',\n",
       "  'ACTTAAAAACCCA',\n",
       "  'CTTAAAAACCCAC',\n",
       "  'TTAAAAACCCACA',\n",
       "  'TAAAAACCCACAA',\n",
       "  'AAAAACCCACAAA',\n",
       "  'AAAACCCACAAAA',\n",
       "  'AAACCCACAAAAA',\n",
       "  'AACCCACAAAAAC',\n",
       "  'ACCCACAAAAACC',\n",
       "  'CCCACAAAAACCA',\n",
       "  'CCACAAAAACCAT',\n",
       "  'CACAAAAACCATC',\n",
       "  'ACAAAAACCATCA',\n",
       "  'CAAAAACCATCAA',\n",
       "  'AAAAACCATCAAA',\n",
       "  'AAAACCATCAAAA',\n",
       "  'AAACCATCAAAAC',\n",
       "  'AACCATCAAAACC',\n",
       "  'ACCATCAAAACCA',\n",
       "  'CCATCAAAACCAG'],\n",
       " ['TACACAAGAAAAA',\n",
       "  'ACACAAGAAAAAC',\n",
       "  'CACAAGAAAAACT',\n",
       "  'ACAAGAAAAACTT',\n",
       "  'CAAGAAAAACTTA',\n",
       "  'AAGAAAAACTTAA',\n",
       "  'AGAAAAACTTAAA',\n",
       "  'GAAAAACTTAAAA',\n",
       "  'AAAAACTTAAAAA',\n",
       "  'AAAACTTAAAAAC',\n",
       "  'AAACTTAAAAACC',\n",
       "  'AACTTAAAAACCC',\n",
       "  'ACTTAAAAACCCA',\n",
       "  'CTTAAAAACCCAC',\n",
       "  'TTAAAAACCCACA',\n",
       "  'TAAAAACCCACAA',\n",
       "  'AAAAACCCACAAA',\n",
       "  'AAAACCCACAAAA',\n",
       "  'AAACCCACAAAAA',\n",
       "  'AACCCACAAAAAA',\n",
       "  'ACCCACAAAAAAC',\n",
       "  'CCCACAAAAAACC',\n",
       "  'CCACAAAAAACCA',\n",
       "  'CACAAAAAACCAT',\n",
       "  'ACAAAAAACCATG',\n",
       "  'CAAAAAACCATGA',\n",
       "  'AAAAAACCATGAC',\n",
       "  'AAAAACCATGACC',\n",
       "  'AAAACCATGACCA',\n",
       "  'AAACCATGACCAG',\n",
       "  'AACCATGACCAGG',\n",
       "  'ACCATGACCAGGA',\n",
       "  'CCATGACCAGGAA',\n",
       "  'CATGACCAGGAAC',\n",
       "  'ATGACCAGGAACC',\n",
       "  'TGACCAGGAACCC',\n",
       "  'GACCAGGAACCCC'],\n",
       " ['CGAAACATTTATA',\n",
       "  'GAAACATTTATAA',\n",
       "  'AAACATTTATAAA',\n",
       "  'AACATTTATAAAA',\n",
       "  'ACATTTATAAAAG',\n",
       "  'CATTTATAAAAGA',\n",
       "  'ATTTATAAAAGAG',\n",
       "  'TTTATAAAAGAGC',\n",
       "  'TTATAAAAGAGCA',\n",
       "  'TATAAAAGAGCAA',\n",
       "  'ATAAAAGAGCAAA',\n",
       "  'TAAAAGAGCAAAA',\n",
       "  'AAAAGAGCAAAAA',\n",
       "  'AAAGAGCAAAAAC',\n",
       "  'AAGAGCAAAAACC',\n",
       "  'AGAGCAAAAACCA',\n",
       "  'GAGCAAAAACCAA',\n",
       "  'AGCAAAAACCAAA',\n",
       "  'GCAAAAACCAAAA',\n",
       "  'CAAAAACCAAAAT',\n",
       "  'AAAAACCAAAATC',\n",
       "  'AAAACCAAAATCC',\n",
       "  'AAACCAAAATCCC',\n",
       "  'AACCAAAATCCCA',\n",
       "  'ACCAAAATCCCAA',\n",
       "  'CCAAAATCCCAAA',\n",
       "  'CAAAATCCCAAAT',\n",
       "  'AAAATCCCAAATA',\n",
       "  'AAATCCCAAATAA',\n",
       "  'AATCCCAAATAAA',\n",
       "  'ATCCCAAATAAAA',\n",
       "  'TCCCAAATAAAAA',\n",
       "  'CCCAAATAAAAAC',\n",
       "  'CCAAATAAAAACC',\n",
       "  'CAAATAAAAACCC',\n",
       "  'AAATAAAAACCCA',\n",
       "  'AATAAAAACCCAC'],\n",
       " ['CGAAACATTTATA',\n",
       "  'GAAACATTTATAA',\n",
       "  'AAACATTTATAAA',\n",
       "  'AACATTTATAAAA',\n",
       "  'ACATTTATAAAAG',\n",
       "  'CATTTATAAAAGA',\n",
       "  'ATTTATAAAAGAG',\n",
       "  'TTTATAAAAGAGC',\n",
       "  'TTATAAAAGAGCA',\n",
       "  'TATAAAAGAGCAA',\n",
       "  'ATAAAAGAGCAAA',\n",
       "  'TAAAAGAGCAAAA',\n",
       "  'AAAAGAGCAAAAA',\n",
       "  'AAAGAGCAAAAAC',\n",
       "  'AAGAGCAAAAACC',\n",
       "  'AGAGCAAAAACCA',\n",
       "  'GAGCAAAAACCAA',\n",
       "  'AGCAAAAACCAAA',\n",
       "  'GCAAAAACCAAAA',\n",
       "  'CAAAAACCAAAAT',\n",
       "  'AAAAACCAAAATC',\n",
       "  'AAAACCAAAATCC',\n",
       "  'AAACCAAAATCCC',\n",
       "  'AACCAAAATCCCA',\n",
       "  'ACCAAAATCCCAA',\n",
       "  'CCAAAATCCCAAA',\n",
       "  'CAAAATCCCAAAT',\n",
       "  'AAAATCCCAAATA',\n",
       "  'AAATCCCAAATAA',\n",
       "  'AATCCCAAATAAA',\n",
       "  'ATCCCAAATAAAA',\n",
       "  'TCCCAAATAAAAA',\n",
       "  'CCCAAATAAAAAC',\n",
       "  'CCAAATAAAAACC',\n",
       "  'CAAATAAAAACCC',\n",
       "  'AAATAAAAACCCA',\n",
       "  'AATAAAAACCCAC'],\n",
       " ['CGAAACATTTATA',\n",
       "  'GAAACATTTATAA',\n",
       "  'AAACATTTATAAA',\n",
       "  'AACATTTATAAAA',\n",
       "  'ACATTTATAAAAG',\n",
       "  'CATTTATAAAAGA',\n",
       "  'ATTTATAAAAGAG',\n",
       "  'TTTATAAAAGAGC',\n",
       "  'TTATAAAAGAGCA',\n",
       "  'TATAAAAGAGCAA',\n",
       "  'ATAAAAGAGCAAA',\n",
       "  'TAAAAGAGCAAAA',\n",
       "  'AAAAGAGCAAAAA',\n",
       "  'AAAGAGCAAAAAC',\n",
       "  'AAGAGCAAAAACT',\n",
       "  'AGAGCAAAAACTA',\n",
       "  'GAGCAAAAACTAA',\n",
       "  'AGCAAAAACTAAG',\n",
       "  'GCAAAAACTAAGA',\n",
       "  'CAAAAACTAAGAT',\n",
       "  'AAAAACTAAGATC',\n",
       "  'AAAACTAAGATCC',\n",
       "  'AAACTAAGATCCC',\n",
       "  'AACTAAGATCCCA',\n",
       "  'ACTAAGATCCCAA',\n",
       "  'CTAAGATCCCAAA',\n",
       "  'TAAGATCCCAAAT',\n",
       "  'AAGATCCCAAATA',\n",
       "  'AGATCCCAAATAA',\n",
       "  'GATCCCAAATAAA',\n",
       "  'ATCCCAAATAAAA',\n",
       "  'TCCCAAATAAAAA',\n",
       "  'CCCAAATAAAAAC',\n",
       "  'CCAAATAAAAACC',\n",
       "  'CAAATAAAAACCC',\n",
       "  'AAATAAAAACCCA',\n",
       "  'AATAAAAACCCAC'],\n",
       " ['AAAAAACAGACGA',\n",
       "  'AAAAACAGACGAA',\n",
       "  'AAAACAGACGAAA',\n",
       "  'AAACAGACGAAAA',\n",
       "  'AACAGACGAAAAA',\n",
       "  'ACAGACGAAAAAC',\n",
       "  'CAGACGAAAAACT',\n",
       "  'AGACGAAAAACTT',\n",
       "  'GACGAAAAACTTA',\n",
       "  'ACGAAAAACTTAA',\n",
       "  'CGAAAAACTTAAA',\n",
       "  'GAAAAACTTAAAA',\n",
       "  'AAAAACTTAAAAA',\n",
       "  'AAAACTTAAAAAC',\n",
       "  'AAACTTAAAAACA',\n",
       "  'AACTTAAAAACAC',\n",
       "  'ACTTAAAAACACA',\n",
       "  'CTTAAAAACACAC',\n",
       "  'TTAAAAACACACA',\n",
       "  'TAAAAACACACAA',\n",
       "  'AAAAACACACAAA',\n",
       "  'AAAACACACAAAA',\n",
       "  'AAACACACAAAAA',\n",
       "  'AACACACAAAAAC',\n",
       "  'ACACACAAAAACC',\n",
       "  'CACACAAAAACCG',\n",
       "  'ACACAAAAACCGC',\n",
       "  'CACAAAAACCGCA',\n",
       "  'ACAAAAACCGCAA',\n",
       "  'CAAAAACCGCAAA',\n",
       "  'AAAAACCGCAAAA',\n",
       "  'AAAACCGCAAAAA',\n",
       "  'AAACCGCAAAAAC',\n",
       "  'AACCGCAAAAACC',\n",
       "  'ACCGCAAAAACCA',\n",
       "  'CCGCAAAAACCAG',\n",
       "  'CGCAAAAACCAGC']]"
      ]
     },
     "execution_count": 64,
     "metadata": {},
     "output_type": "execute_result"
    }
   ],
   "source": [
    "generateKMerPerms(seqList,13)"
   ]
  },
  {
   "cell_type": "code",
   "execution_count": 65,
   "metadata": {},
   "outputs": [],
   "source": [
    "perms = generateKMerPerms(seqList,13)\n",
    "perms\n",
    "# need to find k-mer with max probability\n",
    "testProf = {'A':[.4,.2,.2,.2], 'C':[.2,.4,.2,.2], 'G':[.2,.2,.4,.2], 'T':[.2,.2,.2,.4]}\n",
    "testList = [['TTAC', 'TACC', 'ACCT', 'CCTT', 'CTTA', 'TTAA', 'TAAC'],['GATG', 'ATGT', 'TGTC', 'GTCT', 'TCTG', 'CTGT', 'TGTC'],['CCGG', 'CGGC', 'GGCG', 'GCGT', 'CGTT', 'GTTA', 'TTAG'],['CACT', 'ACTA', 'CTAA', 'TAAC', 'AACG', 'ACGA', 'CGAG'],['CGTC', 'GTCA', 'TCAG', 'CAGA', 'AGAG', 'GAGG', 'AGGT']]"
   ]
  },
  {
   "cell_type": "code",
   "execution_count": 66,
   "metadata": {},
   "outputs": [],
   "source": [
    "# KEEP\n",
    "# USAGE: Feed back into profilify(motifList: 'list', p:'int'=0) with whatever value for p to generate a new motif profile\n",
    "def reMotifify(permMat:'list of lists',profileMatrix:'4 x k dict of probabilities') -> 'list of k-mers with the maximum probs':\n",
    "    '''\n",
    "    Same type of output as motifify.\n",
    "    Use this to generate motifs after initial random motif generation.\n",
    "    A PERMUTATION MATRIX IS READ IN (list of lists)\n",
    "    Each row contains all possible motif permutations per given sequence.\n",
    "    '''\n",
    "    maxPermList = []\n",
    "    for permList in permMat:\n",
    "        probList = []\n",
    "        for perm in permList:\n",
    "            probList.append(findProb(profileMatrix,perm)) # Calculates probability of a motif given a profile and appends the probability\n",
    "        maxPermList.append(permList[probList.index(max(probList))]) # Finds index of the motif with the highest probability in a PERMUTATION LIST and appends the permutation to maxPermList\n",
    "        # print(probList)\n",
    "    return maxPermList"
   ]
  },
  {
   "cell_type": "code",
   "execution_count": 67,
   "metadata": {},
   "outputs": [
    {
     "data": {
      "text/plain": [
       "['AACAATCAAAACC',\n",
       " 'AACCAACAAAACC',\n",
       " 'AACCCACAAAAAC',\n",
       " 'AACCCACAAAAAA',\n",
       " 'CAAAAACCAAAAT',\n",
       " 'CAAAAACCAAAAT',\n",
       " 'CCCAAATAAAAAC',\n",
       " 'AACACACAAAAAC']"
      ]
     },
     "execution_count": 67,
     "metadata": {},
     "output_type": "execute_result"
    }
   ],
   "source": [
    "remat = reMotifify(perms,prof) # creates a new list of k-mers with maximized probs based on profile and k-mer permutation matrix\n",
    "# Now turn these back into a profile matrix\n",
    "# print(remat)\n",
    "reprof = profilify(remat, p=1) # creates profile matrix from new list\n",
    "remat"
   ]
  },
  {
   "cell_type": "code",
   "execution_count": 68,
   "metadata": {},
   "outputs": [],
   "source": [
    "def findConsensus(profMat:'dict of np arrays'):\n",
    "    motifLength = len(profMat['A'])\n",
    "    baseList = ['A','C','T','G']\n",
    "    conSeq = ''\n",
    "    for idx in range(motifLength):\n",
    "        baseColList = []\n",
    "        for base in baseList:\n",
    "            baseColList.append((base,profMat[base]))\n",
    "        #print(baseColList,end='\\n\\n')\n",
    "        baseColList.sort(key=lambda x:x[1][idx])\n",
    "        conSeq += baseColList[::-1][0][0] # Way of getting to value as baseColList looks like [['A',1],['B',2], ...,['F',6]]\n",
    "    return conSeq"
   ]
  },
  {
   "cell_type": "code",
   "execution_count": null,
   "metadata": {},
   "outputs": [],
   "source": [
    "# def fully(k:'int',i:'int',p:'int',infile:'str'):\n",
    "#     ''' basically generates profile matrix over and over '''\n",
    "    \n",
    "#     # read data\n",
    "#     seqList = []\n",
    "#     readData = FastAreader(infile).readFasta()\n",
    "#     for line in readData:\n",
    "#         seqList.append(line[1])\n",
    "    \n",
    "#     # Generate list of lists of all possible k-mer permutations in each sequence\n",
    "#     perms = generateKMerPerms(seqList,k)\n",
    "    \n",
    "#     # Randomly select k-mers\n",
    "#     mat = motifify(seqList,k)\n",
    "    \n",
    "#     # Generate 1st profile matrix\n",
    "#     prof = profilify(mat, p)\n",
    "    \n",
    "#     # Iterate over profile making process\n",
    "#     for step in range(i):\n",
    "#         remat = reMotifify(perms,prof)\n",
    "#         prof = profilify(remat, 1)\n",
    "#     return prof"
   ]
  },
  {
   "cell_type": "code",
   "execution_count": null,
   "metadata": {},
   "outputs": [],
   "source": [
    "# x = fully(k=13,i=10000,p=1,infile='data/'+dataList[3])"
   ]
  },
  {
   "cell_type": "code",
   "execution_count": null,
   "metadata": {},
   "outputs": [],
   "source": [
    "# findConsensus(x)"
   ]
  },
  {
   "cell_type": "code",
   "execution_count": null,
   "metadata": {},
   "outputs": [],
   "source": [
    "# y = fully(k=13,i=1000,p=10,infile='data/'+dataList[4])"
   ]
  },
  {
   "cell_type": "code",
   "execution_count": null,
   "metadata": {},
   "outputs": [],
   "source": [
    "# findConsensus(y)"
   ]
  },
  {
   "cell_type": "markdown",
   "metadata": {},
   "source": [
    "## Shannon's Entropy\n",
    "$H(x) = -\\sum_{i = 1}^{n} P(x_{i}) log_{2} (P(x_{i}))$ \n",
    "<br/>\n",
    "$H(x) = -\\sum_{i \\in [A,C,G,T]} P(x_{i}) log_{2} (P(x_{i}))$\n",
    "- An encoding cost\n",
    "\n",
    "## Relative Entropy\n",
    "$D_{KL}(P||Q) = \\sum_{i \\in [A,C,G,T]} P(x_{i}) log_{2} \\frac{P(x_{i})} {Q(x_{i})}$\n",
    "- A distance between 2 profile probability distributions\n",
    "- P and Q are 2 probability profile distributions\n",
    "- We look at the log of a ratio of 2 probabilities (a comparison)\n",
    "- We want to compare our observed profile to just the base composition of all our sequences\n",
    "- Model Q is our NULL model\n",
    "    - This is the probability of each of our 4 bases\n",
    "- Model P describes our experimental model\n",
    "    - This is the probability of each of our 4 bases in our selected motifs"
   ]
  },
  {
   "cell_type": "code",
   "execution_count": 69,
   "metadata": {},
   "outputs": [
    {
     "name": "stdout",
     "output_type": "stream",
     "text": [
      "NULL: \n",
      "{'A': 0.5792079207920792, 'C': 0.26732673267326734, 'G': 0.06683168316831684, 'T': 0.08663366336633663}\n",
      "\n",
      "EXP PROFILE:\n",
      "{'A': array([0.5       , 0.58333333, 0.33333333, 0.41666667, 0.5       ,\n",
      "       0.66666667, 0.33333333, 0.5       , 0.66666667, 0.58333333,\n",
      "       0.41666667, 0.41666667, 0.33333333]), 'C': array([0.25      , 0.16666667, 0.5       , 0.16666667, 0.16666667,\n",
      "       0.08333333, 0.41666667, 0.25      , 0.16666667, 0.16666667,\n",
      "       0.25      , 0.25      , 0.41666667]), 'T': array([0.08333333, 0.08333333, 0.08333333, 0.16666667, 0.16666667,\n",
      "       0.16666667, 0.16666667, 0.08333333, 0.08333333, 0.16666667,\n",
      "       0.16666667, 0.25      , 0.16666667]), 'G': array([0.16666667, 0.16666667, 0.08333333, 0.25      , 0.16666667,\n",
      "       0.08333333, 0.08333333, 0.16666667, 0.08333333, 0.08333333,\n",
      "       0.16666667, 0.08333333, 0.08333333])}\n"
     ]
    }
   ],
   "source": [
    "print(\"NULL: \")\n",
    "print(null)\n",
    "print()\n",
    "print(\"EXP PROFILE:\")\n",
    "print(prof)"
   ]
  },
  {
   "cell_type": "code",
   "execution_count": null,
   "metadata": {},
   "outputs": [],
   "source": []
  },
  {
   "cell_type": "code",
   "execution_count": 70,
   "metadata": {},
   "outputs": [],
   "source": [
    "def realEntropy(nullModel, expModel):\n",
    "    colLen = len(expModel['A'])\n",
    "    bases = ['A', 'T', 'C', 'G']\n",
    "    fullPart = []# list for sum of cols of RE eq\n",
    "    for col in range(colLen): # calculation for RE for 1 column\n",
    "        basePart = [] # list for inner sum of RE eq\n",
    "        for base in bases: # calculation for RE for 1 base\n",
    "            frac = expModel[base][col]/nullModel[base]\n",
    "            #print(frac)\n",
    "            logged = np.log2(frac)\n",
    "            bpart = expModel[base][col]*logged\n",
    "            basePart.append(bpart)\n",
    "        fullPart.append(sum(basePart))\n",
    "        #print(sum(basePart))\n",
    "    return sum(fullPart)"
   ]
  },
  {
   "cell_type": "code",
   "execution_count": 71,
   "metadata": {
    "collapsed": true
   },
   "outputs": [
    {
     "data": {
      "text/plain": [
       "0.012830801935548431"
      ]
     },
     "execution_count": 71,
     "metadata": {},
     "output_type": "execute_result"
    }
   ],
   "source": [
    "# # Ask group to calculate sam's RE example from discord\n",
    "# a=(5/9)*np.log2((5/9)*(39/15))\n",
    "# c=(2/9)*np.log2((2/9)*(39/15))\n",
    "# g=(1/9)*np.log2((1/9)*(39/5))\n",
    "# t=(1/9)*np.log2((1/9)*(39/4))\n",
    "# t"
   ]
  },
  {
   "cell_type": "code",
   "execution_count": 72,
   "metadata": {},
   "outputs": [],
   "source": [
    "# # NU = {'A': 15/39, 'C': 15/39, 'G': 5/39, 'T': 4/39}\n",
    "# # EX = {'A': [5/9], 'C': [2/9], 'T': [1/9], 'G': [1/9]}\n",
    "# NU = {'A': 15/39, 'C': 15/39, 'G': 5/39, 'T': 4/39}\n",
    "# EX = {'A': [5/9,5/9], 'C': [2/9,2/9], 'T': [1/9,1/9], 'G': [1/9,1/9]}"
   ]
  },
  {
   "cell_type": "code",
   "execution_count": 73,
   "metadata": {
    "collapsed": true
   },
   "outputs": [
    {
     "data": {
      "text/plain": [
       "0.21750514823760958"
      ]
     },
     "execution_count": 73,
     "metadata": {},
     "output_type": "execute_result"
    }
   ],
   "source": [
    "# realEntropy(NU,EX)"
   ]
  },
  {
   "cell_type": "code",
   "execution_count": 74,
   "metadata": {
    "collapsed": true
   },
   "outputs": [
    {
     "data": {
      "text/plain": [
       "1.973874544905787"
      ]
     },
     "execution_count": 74,
     "metadata": {},
     "output_type": "execute_result"
    }
   ],
   "source": [
    "# realEntropy(null,prof)"
   ]
  },
  {
   "cell_type": "code",
   "execution_count": 75,
   "metadata": {},
   "outputs": [],
   "source": [
    "# remat = reMotifify(perms,prof) # creates a new list of k-mers with maximized probs based on profile and k-mer permutation matrix\n",
    "# # Now turn these back into a profile matrix\n",
    "# # print(remat)\n",
    "# reprof = profilify(remat, p=1) # creates profile matrix from new list"
   ]
  },
  {
   "cell_type": "code",
   "execution_count": 82,
   "metadata": {},
   "outputs": [
    {
     "name": "stdout",
     "output_type": "stream",
     "text": [
      "diff:  0.0\n",
      "2.545590910424332\n",
      "diff:  0.5717163655185451\n",
      "2.9402725378179246\n",
      "diff:  0.39468162739359247\n",
      "2.9402725378179246\n"
     ]
    }
   ],
   "source": [
    "matrix = mat\n",
    "profile = prof\n",
    "RE = realEntropy(null,profile)\n",
    "diff = realEntropy(null,profile)-RE\n",
    "First = True\n",
    "\n",
    "\n",
    "while (diff > 0.0 or First):\n",
    "    print(\"diff: \" ,str(realEntropy(null,profile)-RE))\n",
    "    RE = realEntropy(null,profile)\n",
    "    matrix = reMotifify(perms,profile)\n",
    "    profile = profilify(matrix, p=1)\n",
    "    print(realEntropy(null,profile))\n",
    "    First = False\n",
    "    diff = realEntropy(null,profile)-RE\n"
   ]
  },
  {
   "cell_type": "code",
   "execution_count": 83,
   "metadata": {},
   "outputs": [
    {
     "data": {
      "text/plain": [
       "'AACCCACAAAAAC'"
      ]
     },
     "execution_count": 83,
     "metadata": {},
     "output_type": "execute_result"
    }
   ],
   "source": [
    "findConsensus(profile)"
   ]
  },
  {
   "cell_type": "code",
   "execution_count": null,
   "metadata": {},
   "outputs": [],
   "source": [
    "# def REScore(profMat:'profile matrix',seqList: 'list of seqs', p) -> 'float':\n",
    "#     # np.seterr(divide = 'ignore') \n",
    "#     # Generate null denominator\n",
    "#     totNucCount = len(seqList)*len(seqList[0])\n",
    "#     nullDen = totNucCount + (4*p) # Addition of pseudocounts is 4*p*k I think, mb not..., like divides like, ie n and d are nuc counts in a single column\n",
    "    \n",
    "#     # Generate dict of nuc counts from all sequences from input\n",
    "#     catSeq = ''.join(seqList)\n",
    "#     nucCountDict = dict()\n",
    "#     for base in ['A', 'C', 'T', 'G']:\n",
    "#         nucCountDict[base] = catSeq.count(base)\n",
    "        \n",
    "#     # Generate list of null numerators + pseudocount within generation of null quotient dict\n",
    "#     nullQuot = dict() # denominators of later calc\n",
    "#     for base in ['A', 'C', 'T', 'G']:\n",
    "#         nullNum = nucCountDict[base] + p\n",
    "#         nullQuot[base] = nullNum/nullDen\n",
    "#     print(nullQuot)\n",
    "\n",
    "#     # Iterates over columns\n",
    "#     colREList=[]\n",
    "#     for idx in range(len(profMat['A'])):\n",
    "#         quotList = []\n",
    "#         # ex: profMat['A'][12] is probability of A in the 13th column\n",
    "#         for base in ['A', 'C', 'T', 'G']:\n",
    "#             num = profMat['A'][idx]\n",
    "#             den = nullQuot[base]\n",
    "#             print(f\"num: {num}, den: {den}\", end = ' ')\n",
    "#             fin = num*np.log2(num/den)\n",
    "#             print(f',fin: {fin}')\n",
    "#             quotList.append(fin)\n",
    "#         colREList.append(sum(quotList))\n",
    "            \n",
    "#     REScore = sum(colREList)\n",
    "#     return REScore\n",
    "        \n",
    "            \n",
    "    \n",
    "    "
   ]
  }
 ],
 "metadata": {
  "kernelspec": {
   "display_name": "Python 3",
   "language": "python",
   "name": "python3"
  },
  "language_info": {
   "codemirror_mode": {
    "name": "ipython",
    "version": 3
   },
   "file_extension": ".py",
   "mimetype": "text/x-python",
   "name": "python",
   "nbconvert_exporter": "python",
   "pygments_lexer": "ipython3",
   "version": "3.8.5"
  }
 },
 "nbformat": 4,
 "nbformat_minor": 4
}
