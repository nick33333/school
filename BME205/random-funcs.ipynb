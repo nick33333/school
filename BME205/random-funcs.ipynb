{
 "cells": [
  {
   "cell_type": "code",
   "execution_count": 19,
   "metadata": {},
   "outputs": [],
   "source": [
    "import numpy as np\n",
    "import sys\n",
    "import os\n",
    "import re"
   ]
  },
  {
   "cell_type": "code",
   "execution_count": 2,
   "metadata": {},
   "outputs": [],
   "source": [
    "def isRevComp(seq1: 'str', seq2: 'str') -> 'bool':\n",
    "    ''' Checks if seq is a reverse complement '''\n",
    "    return seq1 == compliment(seq2)[::-1]"
   ]
  },
  {
   "cell_type": "code",
   "execution_count": 3,
   "metadata": {},
   "outputs": [],
   "source": [
    "def compliment(seq1: 'str') -> 'str':\n",
    "    ''' Returns complement of a seq '''\n",
    "    seq1 = seq1.upper()\n",
    "    baseMap = dict(A='T', T='A', G='C', C='G')\n",
    "    compliment = ''\n",
    "    for base in seq1:\n",
    "        compliment += baseMap[base]\n",
    "    return compliment"
   ]
  },
  {
   "cell_type": "code",
   "execution_count": 4,
   "metadata": {},
   "outputs": [],
   "source": [
    "def isPal(seq1: 'str') -> 'bool':\n",
    "    ''' Checks if seq is a palindrome '''\n",
    "    iterLen = len(seq1)//2\n",
    "    revHalf = seq1[-iterLen:][::-1]\n",
    "    for idx in range(0,iterLen):\n",
    "        if seq1[idx] != revHalf[idx]:\n",
    "            return False\n",
    "    return True"
   ]
  },
  {
   "cell_type": "code",
   "execution_count": 5,
   "metadata": {},
   "outputs": [],
   "source": [
    "class K_mer():\n",
    "    def __init__(self, text:'str', k:'int'):\n",
    "        self.text = text\n",
    "        self.k = k\n",
    "        self.oriDict = self.FreqWord()\n",
    "        self.maxFreqMer = self.MaxFreqMer()\n",
    "    \n",
    "    def FreqWord(self) -> 'dict of freq patterns':\n",
    "        oriDict = dict()\n",
    "        for i in range(len(self.text)-self.k):\n",
    "            pattern = self.text[i:i+self.k]\n",
    "            if pattern in oriDict:\n",
    "                oriDict[pattern] += 1\n",
    "            else:\n",
    "                oriDict[pattern] = 1\n",
    "        return oriDict\n",
    "    \n",
    "    def MaxFreqMer(self) -> 'tuple of most frequent k-mer':\n",
    "        return max(self.oriDict.items(), key=lambda x:x[1])\n",
    "    \n",
    "def RangeMer(text:'str', min_k:'int', max_k:'int') -> 'list of most frequent k-mers in given k-range':\n",
    "    '''Returns dict of most frequent k-mers'''\n",
    "    kmerDict = dict()\n",
    "    for k in range(min_k,max_k+1):\n",
    "        kmerDict[f'{k}-mer'] = K_mer(text,k).MaxFreqMer()\n",
    "    return kmerDict"
   ]
  },
  {
   "cell_type": "code",
   "execution_count": 6,
   "metadata": {},
   "outputs": [],
   "source": [
    "# Vibrio cholera chrosome oriC\n",
    "VCoriC = 'atcaatgatcaacgtaagcttctaagcatgatcaaggtgctcacacagtttatccacaac\\\n",
    "ctgagtggatgacatcaagataggtcgttgtatctccttcctctcgtactctcatgacca\\\n",
    "cggaaagatgatcaagagaggatgatttcttggccatatcgcaatgaatacttgtgactt\\\n",
    "gtgcttccaattgacatcttcagcgccatattgcgctggccaaggtgacggagcgggatt\\\n",
    "acgaaagcatgatcatggctgttgttctgtttatcttgttttgactgagacttgttagga\\\n",
    "tagacggtttttcatcactgactagccaaagccttactctgcctgacatcgaccgtaaat\\\n",
    "tgataatgaatttacatgcttccgcgacgatttacctcttgatcatcgatccgattgaag\\\n",
    "atcttcaattgttaattctcttgcctcgactcatagccatgatgagctcttgatcatgtt\\\n",
    "tccttaaccctctattttttacggaagaatgatcaagctgctgctcttgatcatcgtttc'\n",
    "\n",
    "# Thermotoga Petrophila chromosome oriC\n",
    "TPoriC = 'aactctatacctcctttttgtcgaatttgtgtgatttatagagaaaatcttattaactga\\\n",
    "aactaaaatggtaggtttggtggtaggttttgtgtacattttgtagtatctgatttttaa\\\n",
    "ttacataccgtatattgtattaaattgacgaacaattgcatggaattgaatatatgcaaa\\\n",
    "acaaacctaccaccaaactctgtattgaccattttaggacaacttcagggtggtaggttt\\\n",
    "ctgaagctctcatcaatagactattttagtctttacaaacaatattaccgttcagattca\\\n",
    "agattctacaacgctgttttaatgggcgttgcagaaaacttaccacctaaaatccagtat\\\n",
    "ccaagccgatttcagagaaacctaccacttacctaccacttacctaccacccgggtggta\\\n",
    "agttgcagacattattaaaaacctcatcagaagcttgttcaaaaatttcaatactcgaaa\\\n",
    "cctaccacctgcgtcccctattatttactactactaataatagcagtataattgatctga'\n",
    "\n",
    "# No frequent 9-mers? Page 26\n",
    "NOoriC = 'aatgatgatgacgtcaaaaggatccggataaaacatggtgattgcctcgcataacgcggt\\\n",
    "atgaaaatggattgaagcccgggccgtggattctactcaactttgtcggcttgagaaaga\\\n",
    "cctgggatcctgggtattaaaaagaagatctatttatttagagatctgttctattgtgat\\\n",
    "ctcttattaggatcgcactgccctgtggataacaaggatccggcttttaagatcaacaac\\\n",
    "ctggaaaggatcattaactgtgaatgatcggtgatcctggaccgtataagctgggatcag\\\n",
    "aatgaggggttatacacaactcaaaaactgaacaacagttgttctttggataactaccgg\\\n",
    "ttgatccaagcttcctgacagagttatccacagtagatcgcacgatctgtatacttattt\\\n",
    "gagtaaattaacccacgatcccagccattcttctgccggatcttccggaatgtcgtgatc\\\n",
    "aagaatgttgatcttcagtg'"
   ]
  },
  {
   "cell_type": "code",
   "execution_count": 7,
   "metadata": {},
   "outputs": [
    {
     "name": "stdout",
     "output_type": "stream",
     "text": [
      "[('cttgatcat', 3), ('tcttgatca', 3), ('ctcttgatc', 3), ('atgatcaag', 3), ('gctcttgat', 2), ('tgatcatcg', 2), ('ttgatcatc', 2), ('gcatgatca', 2), ('agcatgatc', 2), ('aagcatgat', 2), ('aatgatcaa', 2)] \n",
      "\n",
      " [('acctaccac', 5), ('cctaccacc', 3), ('aacctacca', 3), ('aaacctacc', 3), ('ggtaggttt', 3), ('tggtaggtt', 3), ('tacctacca', 2), ('ttacctacc', 2), ('cttacctac', 2), ('acttaccta', 2), ('cacttacct', 2)] \n",
      "\n",
      " [('aggatccgg', 2), ('aaggatccg', 2), ('atcttcagt', 1), ('gatcttcag', 1), ('tgatcttca', 1), ('ttgatcttc', 1), ('gttgatctt', 1), ('tgttgatct', 1), ('atgttgatc', 1), ('aatgttgat', 1), ('gaatgttga', 1)]\n"
     ]
    }
   ],
   "source": [
    "Cholera = K_mer(VCoriC,9)\n",
    "Thermo = K_mer(TPoriC,9)\n",
    "No = K_mer(NOoriC,9)\n",
    "\n",
    "# Finds top 10 most frequent k_mers\n",
    "c9 = sorted(list(Cholera.FreqWord().items()), key=lambda x:x[1])[::-1][:11] # top 10 most frequent 9-mers\n",
    "t9 = sorted(list(Thermo.FreqWord().items()), key=lambda x:x[1])[::-1][:11] # top 10 most frequent 9-mers\n",
    "n9 = sorted(list(No.FreqWord().items()), key=lambda x:x[1])[::-1][:11] # top 10 most frequent 9-mers\n",
    "print(c9,'\\n\\n',t9, '\\n\\n', n9)"
   ]
  },
  {
   "cell_type": "code",
   "execution_count": 8,
   "metadata": {},
   "outputs": [
    {
     "data": {
      "text/plain": [
       "25"
      ]
     },
     "execution_count": 8,
     "metadata": {},
     "output_type": "execute_result"
    }
   ],
   "source": [
    "len('CTGCAATGCATGACAAGCCTGCAGT')\n",
    "# (L,t)-Clump, where:\n",
    "# L is length of typical length of oriC/text/read\n",
    "# t is the number of times a k-mer occurs\n",
    "# k will just be the k-mer seq length\n",
    "# To find a clump, look for repeating \"k-mers\" in a region of length \"L\" while recording \"t\""
   ]
  },
  {
   "cell_type": "code",
   "execution_count": 9,
   "metadata": {},
   "outputs": [],
   "source": [
    "def gcSkew(seq: 'str') -> 'list':\n",
    "    skewDict = dict(A=0, T=0, G=1, C=-1)\n",
    "    skewList = []\n",
    "    skewFactor = 0\n",
    "    for base in seq:\n",
    "        skewFactor += skewDict[base]\n",
    "        skewList.append(skewFactor) \n",
    "    return skewList"
   ]
  },
  {
   "cell_type": "code",
   "execution_count": 10,
   "metadata": {},
   "outputs": [
    {
     "name": "stdout",
     "output_type": "stream",
     "text": [
      "[-1, -1, -1, 0, 1, 2, 1, 1, 1, 0, 1, 2, 1, 0, 0, 0, 0, -1, 0, -1, -2]\n",
      "21\n"
     ]
    },
    {
     "data": {
      "text/plain": [
       "20"
      ]
     },
     "execution_count": 10,
     "metadata": {},
     "output_type": "execute_result"
    }
   ],
   "source": [
    "se = 'CATGGGCATCGGCCATACGCC'\n",
    "skewList = gcSkew(se)\n",
    "print(skewList)\n",
    "print(len(skewList))\n",
    "minGC = min(gcSkew(se))\n",
    "skewList.index(minGC)"
   ]
  },
  {
   "cell_type": "code",
   "execution_count": 15,
   "metadata": {},
   "outputs": [],
   "source": [
    "def hamDist(pattern:'str', text:'str') -> 'int':\n",
    "    ''' Returns hamdist between a reference and target seq of same length'''\n",
    "    assert(len(pattern) == len(text))\n",
    "    pattern = pattern.upper()\n",
    "    text = text.upper()\n",
    "    hamDist = 0\n",
    "    for base in range(len(text)):\n",
    "        if pattern[base] != text[base]:\n",
    "            hamDist += 1\n",
    "    return hamDist\n",
    "\n",
    "def hamDict(pattern: 'str', text: 'str', hamdist: 'int', r=False) -> 'dict':\n",
    "    ''' finds all k-mers within allowed hamdist (inclusive) and returns a dict '''\n",
    "    pattern = pattern.upper()\n",
    "    reference = text.upper()\n",
    "    targetDict = dict()\n",
    "    oriD = K_mer(text, len(pattern)).oriDict\n",
    "    for seq,freq in oriD.items():\n",
    "        if r:\n",
    "            if (hamDist(pattern, seq) <= hamdist) or (hamDist(compliment(pattern)[::-1], seq) <= hamdist):\n",
    "                targetDict[seq] = freq\n",
    "        else:\n",
    "            if hamDist(pattern, seq) <= hamdist:\n",
    "                targetDict[seq] = freq\n",
    "    return targetDict"
   ]
  },
  {
   "cell_type": "code",
   "execution_count": 18,
   "metadata": {},
   "outputs": [
    {
     "data": {
      "text/plain": [
       "{'atgatcaac': 1,\n",
       " 'atgatcaag': 3,\n",
       " 'catgatcat': 1,\n",
       " 'atgatcatg': 1,\n",
       " 'cttgatcat': 3}"
      ]
     },
     "execution_count": 18,
     "metadata": {},
     "output_type": "execute_result"
    }
   ],
   "source": [
    "hamDict('ATGATCAAG',VCoriC,1,r=True)"
   ]
  },
  {
   "cell_type": "code",
   "execution_count": null,
   "metadata": {},
   "outputs": [],
   "source": [
    "hamDict('AAAAA','AACAAGCATAAACATTAAAGAG', 1)"
   ]
  },
  {
   "cell_type": "code",
   "execution_count": 26,
   "metadata": {},
   "outputs": [
    {
     "name": "stdout",
     "output_type": "stream",
     "text": [
      "1\n",
      "4\n",
      "4\n",
      "10\n",
      "1\n",
      "3\n",
      "6\n",
      "10\n",
      "7\n",
      "2\n",
      "6\n",
      "4\n",
      "4\n",
      "6\n",
      "4\n",
      "7\n",
      "5\n",
      "9\n",
      "1\n",
      "8\n"
     ]
    }
   ],
   "source": [
    "for i in range(20):\n",
    "    print(np.random.randint(1,11))"
   ]
  },
  {
   "cell_type": "code",
   "execution_count": 43,
   "metadata": {},
   "outputs": [],
   "source": [
    "probs = [.2,.1,0,.7]\n",
    "same = [.25]*4\n",
    "def sEntropy(probList: 'list'):\n",
    "    sumParts = []\n",
    "    for p in probList:\n",
    "        if p > 0:\n",
    "            sumPart = p*(np.log2(p))\n",
    "        else:\n",
    "            sumPart = 0\n",
    "        sumParts.append(sumPart)\n",
    "    print(sumParts)\n",
    "    return -sum(sumParts)\n",
    "    "
   ]
  },
  {
   "cell_type": "code",
   "execution_count": 45,
   "metadata": {},
   "outputs": [
    {
     "name": "stdout",
     "output_type": "stream",
     "text": [
      "[-0.46438561897747244, -0.33219280948873625, 0, -0.3602012209808308]\n",
      "[-0.5, -0.5, -0.5, -0.5]\n"
     ]
    }
   ],
   "source": [
    "probsE = sEntropy(probs)\n",
    "sameE = sEntropy(same)"
   ]
  },
  {
   "cell_type": "code",
   "execution_count": 44,
   "metadata": {},
   "outputs": [
    {
     "data": {
      "text/plain": [
       "[0.25, 0.25, 0.25, 0.25]"
      ]
     },
     "execution_count": 44,
     "metadata": {},
     "output_type": "execute_result"
    }
   ],
   "source": []
  },
  {
   "cell_type": "code",
   "execution_count": 16,
   "metadata": {},
   "outputs": [],
   "source": [
    "def pal(word:\"str\", b:\"int\", e:\"int\"):\n",
    "    if word[b] != word[e]:\n",
    "        return False\n",
    "    elif b >= e:\n",
    "        return True\n",
    "    elif word[b] == word[e]:\n",
    "        return pal(word, b+1, e-1)\n",
    "\n",
    "def palindrome(word:\"str\"):\n",
    "    return pal(word, 0, len(word)-1)"
   ]
  },
  {
   "cell_type": "code",
   "execution_count": 17,
   "metadata": {},
   "outputs": [],
   "source": [
    "c= \"cat\"\n",
    "d = \"dd\"\n",
    "x = \"x\"\n",
    "r = \"racecar\""
   ]
  },
  {
   "cell_type": "code",
   "execution_count": 18,
   "metadata": {},
   "outputs": [
    {
     "ename": "TypeError",
     "evalue": "pal() takes 1 positional argument but 3 were given",
     "output_type": "error",
     "traceback": [
      "\u001b[1;31m---------------------------------------------------------------------------\u001b[0m",
      "\u001b[1;31mTypeError\u001b[0m                                 Traceback (most recent call last)",
      "\u001b[1;32m<ipython-input-18-81cb4d7d7292>\u001b[0m in \u001b[0;36m<module>\u001b[1;34m\u001b[0m\n\u001b[1;32m----> 1\u001b[1;33m \u001b[0mpal\u001b[0m\u001b[1;33m(\u001b[0m\u001b[0md\u001b[0m\u001b[1;33m)\u001b[0m\u001b[1;33m\u001b[0m\u001b[1;33m\u001b[0m\u001b[0m\n\u001b[0m",
      "\u001b[1;32m<ipython-input-16-129b48ea1640>\u001b[0m in \u001b[0;36mpal\u001b[1;34m(word)\u001b[0m\n\u001b[0;32m      7\u001b[0m         \u001b[1;32mreturn\u001b[0m \u001b[1;32mTrue\u001b[0m\u001b[1;33m\u001b[0m\u001b[1;33m\u001b[0m\u001b[0m\n\u001b[0;32m      8\u001b[0m     \u001b[1;32melif\u001b[0m \u001b[0mword\u001b[0m\u001b[1;33m[\u001b[0m\u001b[0mb\u001b[0m\u001b[1;33m]\u001b[0m \u001b[1;33m==\u001b[0m \u001b[0mword\u001b[0m\u001b[1;33m[\u001b[0m\u001b[0me\u001b[0m\u001b[1;33m]\u001b[0m\u001b[1;33m:\u001b[0m\u001b[1;33m\u001b[0m\u001b[1;33m\u001b[0m\u001b[0m\n\u001b[1;32m----> 9\u001b[1;33m         \u001b[1;32mreturn\u001b[0m \u001b[0mpal\u001b[0m\u001b[1;33m(\u001b[0m\u001b[0mword\u001b[0m\u001b[1;33m,\u001b[0m \u001b[0mb\u001b[0m\u001b[1;33m+\u001b[0m\u001b[1;36m1\u001b[0m\u001b[1;33m,\u001b[0m \u001b[0me\u001b[0m\u001b[1;33m-\u001b[0m\u001b[1;36m1\u001b[0m\u001b[1;33m)\u001b[0m\u001b[1;33m\u001b[0m\u001b[1;33m\u001b[0m\u001b[0m\n\u001b[0m",
      "\u001b[1;31mTypeError\u001b[0m: pal() takes 1 positional argument but 3 were given"
     ]
    }
   ],
   "source": [
    "palindrome(d)"
   ]
  },
  {
   "cell_type": "code",
   "execution_count": null,
   "metadata": {},
   "outputs": [],
   "source": []
  }
 ],
 "metadata": {
  "kernelspec": {
   "display_name": "Python 3",
   "language": "python",
   "name": "python3"
  },
  "language_info": {
   "codemirror_mode": {
    "name": "ipython",
    "version": 3
   },
   "file_extension": ".py",
   "mimetype": "text/x-python",
   "name": "python",
   "nbconvert_exporter": "python",
   "pygments_lexer": "ipython3",
   "version": "3.8.5"
  }
 },
 "nbformat": 4,
 "nbformat_minor": 4
}
