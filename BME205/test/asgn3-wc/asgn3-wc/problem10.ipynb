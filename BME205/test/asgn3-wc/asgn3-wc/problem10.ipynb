{
 "cells": [
  {
   "cell_type": "code",
   "execution_count": 1,
   "metadata": {},
   "outputs": [],
   "source": [
    "#!/usr/bin/env python3\n",
    "\n",
    "########################################################################\n",
    "# File: Chan_Nicholas_problem10.ipynb\n",
    "# Purpose: Given an arbitrary collection of k-mers Patterns, we form a graph having a node for each k-mer in Patterns and connect k-mers Pattern and Pattern' by a directed edge if Suffix(Pattern) is equal to Prefix(Pattern'). The resulting graph is called the overlap graph on these k-mers, denoted Overlap(Patterns).\n",
    "#   main(infile='FILE_PATH',outfile='FILE_PATH', inCL=[])\n",
    "#\n",
    "# Author: Nicholas Chan\n",
    "# History: 10/18/2021 Created\n",
    "########################################################################"
   ]
  },
  {
   "cell_type": "markdown",
   "metadata": {},
   "source": [
    "# Assignment 3: Problem 10\n",
    "<br>\n",
    "Problem 10: <br>\n",
    "Given an arbitrary collection of k-mers Patterns, we form a graph having a node <br>\n",
    "for each k-mer in Patterns and connect k-mers Pattern and Pattern' by a directed edge if <br>\n",
    "Suffix(Pattern) is equal to Prefix(Pattern'). The resulting graph is called the overlap graph <br>\n",
    "on these k-mers, denoted Overlap(Patterns).<br>\n",
    "<br>\n",
    "Desired output:<br>\n",
    "AGGCA -> GGCAT<br>\n",
    "CATGC -> ATGCG<br>\n",
    "GCATG -> CATGC<br>\n",
    "GGCAT -> GCATG<br>"
   ]
  },
  {
   "cell_type": "code",
   "execution_count": 2,
   "metadata": {},
   "outputs": [],
   "source": [
    "class Solution:\n",
    "    '''\n",
    "    My solution class generates matches between k-mers which \n",
    "    are related by their prefixes and suffixes. This results in\n",
    "    a graph called an overlap graph.\n",
    "    '''\n",
    "    def __init__(self, seqList):\n",
    "        '''\n",
    "        Initializes Solution object with input sequence list an \n",
    "        empty dictionary for suffixes, and an empty dictionary for \n",
    "        prefixes. The method addToDicts is called to populate the \n",
    "        empty dictionaries. Then the output graph is generated at the \n",
    "        end of initialization.\n",
    "        '''\n",
    "        self.seqList = seqList\n",
    "        self.suffix = dict()\n",
    "        self.prefix = dict()\n",
    "        self.addToDicts()\n",
    "        \n",
    "        self.graph = self.graph()\n",
    "        \n",
    "    def addToDicts(self)->'dict':\n",
    "        '''\n",
    "        Using input text, create a dict where keys are seq suffixes and vals \n",
    "        are seq names.\n",
    "        '''\n",
    "        for seq in self.seqList:\n",
    "            self.suffix[seq[1:]] = seq\n",
    "            self.prefix[seq[:-1]] = seq\n",
    "            #self.seqList.remove(seq)\n",
    "    \n",
    "    def graph(self) -> 'dict':\n",
    "        '''\n",
    "        Using prefix and suffix dicts, create a graph dict where keys \n",
    "        are starting seq and vals are seqs with prefixes matching their\n",
    "        respective key's suffix.\n",
    "        '''\n",
    "        graphDict = dict()\n",
    "        for seq in self.seqList:\n",
    "            prefix = seq[:-1]\n",
    "            suffix = seq[1:]\n",
    "            if suffix in self.suffix and suffix in self.prefix:\n",
    "                graphDict[self.suffix[suffix]] = self.prefix[suffix]\n",
    "        return graphDict\n",
    "            \n",
    "            \n",
    "    def printGraph(self) -> 'str':\n",
    "        '''\n",
    "        Simple method for returning a string representation\n",
    "        of the graph.\n",
    "        '''\n",
    "        output = \"\"\n",
    "        keyList = [key for key in self.graph]\n",
    "        for key in sorted(keyList):\n",
    "            output += f\"{key} -> {self.graph[key]}\\n\"\n",
    "        return output\n",
    "            \n",
    "            "
   ]
  },
  {
   "cell_type": "markdown",
   "metadata": {},
   "source": [
    "# Main function \n",
    "Main function is written here. This function handles argument parsing, input, and output."
   ]
  },
  {
   "cell_type": "code",
   "execution_count": 3,
   "metadata": {},
   "outputs": [],
   "source": [
    "def main(infile, outfile, inCL=None):\n",
    "    '''\n",
    "    The main function parses in lines from an input\n",
    "    file with the assumption that they are k-mers. These\n",
    "    k-mers are added to a list which objects of the Solution\n",
    "    class take as input.\n",
    "    '''\n",
    "    inputSeqList = []\n",
    "    with open(infile,'r') as myfile:\n",
    "        for line in myfile:\n",
    "            myLine = line.rstrip()\n",
    "            inputSeqList.append(myLine)  \n",
    "\n",
    "    solution = Solution(inputSeqList)\n",
    "    solutionString = solution.printGraph()\n",
    "    \n",
    "    with open(outfile, \"w\") as myfile:\n",
    "        myfile.write(solutionString)"
   ]
  },
  {
   "cell_type": "code",
   "execution_count": 4,
   "metadata": {},
   "outputs": [],
   "source": [
    "if __name__ == \"__main__\":\n",
    "    main(infile='data/rosalind_ba3c.txt',outfile='output/output-problem10.txt', inCL=[])"
   ]
  },
  {
   "cell_type": "code",
   "execution_count": 5,
   "metadata": {},
   "outputs": [],
   "source": [
    "# INSPECTION\n",
    "\n",
    "# INSPECTION TEAM\n",
    "# Hsiang-Yun Lu (Eloise)\n",
    "# Jodi Lee\n",
    "# Nabil Mohammed\n",
    "\n",
    "# RESPONSES\n",
    "# - Work on implementing main function\n",
    "# - Write more markdown comments\n",
    "# - Clean up code\n",
    "# - Add more docstrings and inline comments\n",
    "\n",
    "# CORRECTIONS\n",
    "# - Finished main function\n",
    "# - Wrote markdown comments\n",
    "# - Cleaned code\n",
    "# - Added more docstrings and inline comments"
   ]
  }
 ],
 "metadata": {
  "kernelspec": {
   "display_name": "Python 3",
   "language": "python",
   "name": "python3"
  },
  "language_info": {
   "codemirror_mode": {
    "name": "ipython",
    "version": 3
   },
   "file_extension": ".py",
   "mimetype": "text/x-python",
   "name": "python",
   "nbconvert_exporter": "python",
   "pygments_lexer": "ipython3",
   "version": "3.8.5"
  }
 },
 "nbformat": 4,
 "nbformat_minor": 4
}
