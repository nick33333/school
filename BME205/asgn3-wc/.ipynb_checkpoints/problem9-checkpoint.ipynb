{
 "cells": [
  {
   "cell_type": "code",
   "execution_count": 1,
   "metadata": {},
   "outputs": [],
   "source": [
    "#!/usr/bin/env python3\n",
    "\n",
    "########################################################################\n",
    "# File: Chan_Nicholas_problem9.ipynb\n",
    "# Purpose: Find the string spelled by a genome path.\n",
    "#   main(infile='FILE_PATH',outfile='FILE_PATH', inCL=[])\n",
    "#\n",
    "# Author: Nicholas Chan\n",
    "# History: 10/18/2021 Created\n",
    "########################################################################"
   ]
  },
  {
   "cell_type": "markdown",
   "metadata": {},
   "source": [
    "# Assignment 3: Problem 9\n",
    "<br>\n",
    "For problem 9 of assignment 3, I needed to generate a sequence of nucleotides<br>\n",
    "given some the k-mer composition.<br>"
   ]
  },
  {
   "cell_type": "code",
   "execution_count": 2,
   "metadata": {},
   "outputs": [],
   "source": [
    "class Solution:\n",
    "    '''\n",
    "    Problem 9: Find the string spelled by a genome path. My solution for Problem 9\n",
    "    matches k-mer compositions by heir k-1 symbols in order to generate a string\n",
    "    representing the original sequence.\n",
    "    '''\n",
    "    def __init__(self, seqList:'list'):\n",
    "        '''\n",
    "        Initializes Solution object with input sequence list and a\n",
    "        string seq which is the original sequence which  supposedly \n",
    "        generated the list of input sequences/k-mers.\n",
    "        '''\n",
    "        self.seqList = seqList\n",
    "        self.seq = self.reconstructor()\n",
    "\n",
    "    def reconstructor(self)->'str':\n",
    "        '''\n",
    "        Matches k-mer compositions together.\n",
    "        '''\n",
    "        firstSeq = self.seqList[0]\n",
    "        self.seqList.remove(firstSeq)\n",
    "        while len(self.seqList) > 0:\n",
    "            for seq in self.seqList:\n",
    "                if seq[:len(seq)-1] in firstSeq[len(firstSeq)-len(seq):]: # Rear of ref to front of seqList seq\n",
    "                    # print(f'firstSeq front: {firstSeq[len(firstSeq)-len(seq):]} and seq rear: {seq[:len(seq)-1]}')\n",
    "                    firstSeq = firstSeq + seq[-1]\n",
    "                    self.seqList.remove(seq)\n",
    "                elif seq[1:] in firstSeq[:len(firstSeq)-len(seq)]: # Front of ref to rear of seqList seq\n",
    "                    # print(f'seq rear: {seq[1:]} and firstSeq front: {firstSeq[:len(firstSeq)-len(seq)]}')\n",
    "                    firstSeq = seq[0] + firstSeq\n",
    "                    self.seqList.remove(seq)\n",
    "                else:\n",
    "                    continue\n",
    "        return firstSeq"
   ]
  },
  {
   "cell_type": "markdown",
   "metadata": {},
   "source": [
    "# Main function \n",
    "Main function is written here. This function handles argument parsing, input, and output."
   ]
  },
  {
   "cell_type": "code",
   "execution_count": 3,
   "metadata": {},
   "outputs": [],
   "source": [
    "def main(infile, outfile, inCL=None):\n",
    "    '''\n",
    "    My main function parses in lines from an input file, assuming\n",
    "    that the lines represent individual k-mers composed from some\n",
    "    common original nucleotide sequence.\n",
    "    '''\n",
    "    inputSeqList = []\n",
    "    \n",
    "    with open(infile,'r') as myfile:\n",
    "        for line in myfile:\n",
    "            inputSeqList.append(line.rstrip())\n",
    "    #print(f\"inputSeqList: {inputSeqList}\")\n",
    "                \n",
    "    solution = Solution(inputSeqList)\n",
    "    solutionString = solution.seq\n",
    "\n",
    "    with open(outfile, \"w\") as myfile:\n",
    "        myfile.write(solutionString + '\\n')\n",
    "        print(solutionString)"
   ]
  },
  {
   "cell_type": "code",
   "execution_count": 4,
   "metadata": {},
   "outputs": [
    {
     "name": "stdout",
     "output_type": "stream",
     "text": [
      "ACGTAGGAAGGAAACTCGCGCTTATGCTGCCACATATTGTATGAACTATGACGCAGATGTAGTATACCTTTCCACTGAGAACAGCCTCGCTCGGCTGACCATGACACCCCTCCAAGATGTTTGATATATAACCTTTCGAGATGGCGGTTTATTGGACAAAGGACCAGGGTGTGAAATCTCATTTTGAGAAAGTCAAACCGACACCATCTCGCGATCCAATTATAGGATACGTTCTGACTTCTATCATTAGACTCGAATGCGCAGGACTTGTCATCATTGGAAGTTTCGAGTGTTCGACATTAGTCCATAATCTCCGTATCGTTCAGCCAATCTCCCCGGGATCCCCGATGTCCGGCTTTACCTTCGACCAGAGCGCTGCAAGGCTTATATAGATGCCCCCCACGCAAATGTCTATTTTCTTTCCATCGTAAGTAATAGACCTTGATCAATCGGGTGAAGGCAACATAAGTGTACCCCCTCACGTAATTCTGTTTCTTTGGGTTTCCGACTGATAGGAAATCCAGCCGGGAAGCAAACTGGTCATTGCCGCGTGGGTTCTGATGTAGAGGTTACTAGCATTAGAGCAAGCGTGGTCGCGTAGGGGCTATATATAACGAACGTAGCCATGCAGGACGTGAAAAAGTTCCGGCCAACCCCTGTGCGGTTGTAACACACGACAGCCTCCCTAACCTAGATGATAGCTGATAATCAGGGTATTCCTTGCCAAATGTGCACGAGCGATACTGGGAGCGTTAGACGTAGTAGAAGTACTACCAGGTTCTTCCGCGGGTGATCCTTTACCAGCTAGTGACAGTATATATGTAATGTTTAGGCGTAGTTATCGCCCTAGCCCAGGCTCTCGTATATGACCTTACTTAAAATAATCTCTTAGCAGAACCCGTAAAAGATCACGCTGCTATCCGCTCATGCTGCCGCACTCATTACTCAATCAAAAAAAAACAGTGGTTTGGTTGATACGGCCCTTGCGAGCGCAGTTGCCCTGCCGACTACTTGGTCCAAGATTATGTGCAGGTCGTGATGAGCGGGACTGTCGTTCAATGCGTCCTCCCCCGCTTCGCGGCTGCTTGAGCACGTGTAGCCAGCTCGATCCTCAAAGTGGTAGAATACTTAAAGTAACACGTGGAACTAGGTCGCACATGGGTAAAGCCTTATTGGTGACTATGAGTAGAGAGGTATGCTTTCTCCCACGTATTGATTGAAGGGGGGACTCGAGGTACCGGACCACTCGGGTTTGGCCTGGTCATGCTCTCGCCGTCAGTAGAAGTGCCGTTGACTTGGCCGAAATGTCAAACACAAATGAAGTGAAACCTAATGGCGGGTCACACAGAACAAGTCTTGCGGAATTATGGAAGTGGGGCGTGGGGTCTATGCAGAAGCGCACTCGCGCGACCGGGGGCGCCACATGGCCGAAATCATTTCTGACCGTGGGCACAAATAATAGCGTGGCTGCATGACATGATCCCACCCTGCCAATGAGGCAGCCAAAGTGTTGAGCGAAACACAGAATTTTACATGACGGCTGTGATTGGTAGCGCGAGCTGACAGGCAGGTCCATGTCGGCTGAAGGCCGCGCTCGGACGCAACGAGGTCAAGCTATGGAAGGTGTGGTTAGGCAAAGGGTTGTAAGTTCTCCTAAGACGCCCTCACCACATCCGTGTGGATCCTTGTCGAGGTCGCCCGGCACGCGACGGAACTGGCACGAGCACAACCTAGGGCCCCCTACACGTCAATGGACACGAGGGTCTTAACTTTAGAACTGAGCAGGTTCAACAAGGTAGATCTCCAGGATGAATAGGCCCTCCCAAAAACGTATCTTGACGGATCTATCCAACGCTTGACAACGGTGCAACCCTGGTGGCTTAGACGACGCTGTAAATTCTTCCTCTCCCGACGACGCTGGCGAGTGGTTACAGCCACTGGCTACGTAGCATAAGGGAAGAAAGCCTACTGAACGCCCTCCACTTAAATACGAGTCATGTTCGCCCACCGGATCTCAATAGGTTTTATGGGACGCATGGATGCCTAAAATAGCCTTAGCCAATGTCTATGGCACTAGTTCTCGGAGGGGTAACCAATATGCTTGGGTCCCGTTGCGTACTGTTGTTCATGTAGATGCGGACAAATCATCAAATATTAAAAGCGCTGTACTACCGCATTACCCCGGAAGACTTAGGAACTTTGTGCGTACCCGGGATGGGTTTAGGATGTTTAATTATAGACGAGCGCGAAGTCTCTCCCTGTGGTGGCACCGCGCACTTCAATTCACGATGGTCGATACGACCAGGCACTTCTCCAAACGTCAGGGAAGGCGTACGTCTCGAATGAACTAGACCGCATGGCGGTTTTCTCTTAGCTTTCCAACGTACTAAATGGCAGTAGGTCGTCGGTTACGTTAAGCGCACGTCGTACGGCAAGTGTGACCCTCGTTCGAGAACTGACTTTTCTTCCTCGATCCCCCCTGAGCTAGGCTCAAGCCTCGAGTGATGTAACTCAGATACATGCTCTGAAATACGTGAGGAATTTCTGCTTACTATTCGGCGTGGTGATACGCAAAACTTAGCGACAGCTGACTGGCGACGGCAGCGTTGCGCGGATAAGCTGGAAGATTTTCCGCCGGCGGATCGGGGTGGGAGGTTGGGTTCAAAACCTGATCTTGTGCTGTGCTTACTGGCATCTGATATCGTTGTACAAAGCCCGGGAGTTATCCGTAGCTCTACAACCGTTGGAGCCACGCGAATAATCCGTGATCAGTGATCACCCCACGGTACTTGAGTGGACGAACCAAGTGAAGCTACCTCGACCTTCAGTTATTCTGTGAAGTTATGATCCCACGTTTTCCATTTTCCGGCGTAGCGGCGTTGCGAACAGTCCGATGGTGCGATACTGTCTGGGGTGCCACAGTACATAGAATCTAGTGTGGCGGGCCGGTTGGTATGTGAGCCGTCGGTCTAGACAGCACCTATGGATGAGTCGGCTACGTTGTGAAAGTATGTACGCTAGATTATGATACATAACTGCAGTTTTAGGATTTCAGATCCGGTAGAGTTACTTCTATATAACTTACGATTCGGGATCTACATGATCGACCGCGAGTCGAACAGTTGTCACGTTGCCTCACGTACATGGTTGAATGGAGCCGATCCCCAGCCACGACGAGTCTTGGGCCAGCATTTCGTTCGGGTCACGTCAGCGGGCTGGACGGACTCCGAGCAAAACGTTGAGGCAAAAACTGCTCACGATATCATGAAGCTTGTCACTAAACTTGATGTCGTCCAGGTCGGCACAACAAACAGTTCACTCCTACTCCAGAGGTATTCTGAGAGTGGCCCATTCCTTGGAATCCCTAGATGGTCGCAAGACTCCATGTTATCCGTGAATACCTTACAGATCGGGTCCCAAGAACCTCTGTGCAGGTGTTAGGCCCAACTTTAGTTCCAGTCATTCTAAGGCGGAAAGCTCGCAGCGTAGAAGTCTGTACGAATTACCGCTATCTGATTATTGGCGGCCATTTATCTCTGGCTCACGTTTTGTGCTCGTTAACGTGGTCCGCGGGTCACGCGGCACGCAGTGGGACTTACTCTAGCCCGCTAGCGGAGACGGGTGGATCAGGCTAATACCGTGTAATGGTCCCGATCCGCGTCACCCATGGCCTTTTTGTCGTGGGAATGTACCCGTGCATCTAGAAATATAAGTAGGCGCACCAAACCTACCTGGGAATCACTAAGACCGCTCGCCTTTCACCTCATGATCTAGCGTACCCGGACTGCTCGTGTGTCAACCGTCAGTAATATTCTCGGCCGGTAAACTCGGGAAACTCCTCGGTGCAGAATCTTCTGACTTGTGGTCGCGTGACATGAGCCCGAGTCGTCATCTACAACGCATGTAGCAGAACGAACTTAAGGTGTTGACTCTGTGTCGCGGGCCGAGTATTACGACGGAGACAAATTCTACAACCCGGTGATCGGAATAAGGGTCATACGCCGTATGCTAAACAGGGCGCTACGACTGGCCGGTCACAATACCGAGACTGATCGGGCTTGGTATTAAAATTTCTTCGAGGCTATCAATATGAATTCTTCCGCAGTTTGACCGTGTCGGGACCTTATAACAGCCGTACGGCTGCGTATCTTGAGTTCTCTGCTGACTCTCATGCCATGGTCATGTTGACCCTGCATTGCATTATACGCCGGGAACGGCATCTGTATTTTTGGGGAACATGTTATGCTAACGATCTGTAATAGTATGTACGTTAGTACTACATAGGGATGCCTAAGCCGGAAACCTTCTTCTCCACGTGGTTGGCCACCTTAACGGCCCATGGAGCGGGCACTAAGCTGAAAGGTATTGGTGTGGGCACGAGGGTATTGTTATACAAACTGCTCATTCCATCGTCATAACCTCCAACATTTTAGTAAACGTCCGCACCATATAATCACTCCGCGACTTGACAGGGTTGCGCCAGTGCGTATTAGTTCCAGACCTCAGGACACGCGCCAAGTACTCTACCCGCCAAAGGTTGCGGCCTGGCTCCAATTCAGAGCAAAAAGTGCTCCTTAGGCCCGCATTCGCTTTAGTGATTAACTCGATAAAGTGCAGTTGGTGCCCCTAGTCTCTTCTGTTATAAGAATGCTATCACTAGCTAGCGGACCATAACTAAAAGACCGGACAATCTGGTCATCTCAATTGTGTATTGCGCCCGTGGAAAGCCTATTACCGTAAGCAGATGACTTACTAATTCGATAAACAGTAGTAAGCAACTAATTAAGCTGTTGGCAGTCCTTCGCTGGGTGGCATCGAGCACGGCGATAAGCAATGTCTGGTAGATATTGAGTAGTCTCAGTGATGGCTGTACCAGGCTAGCGACTGTCTCATGCAACCCTTAGCTCCTCGTACTTCTCTGCTAAATTTCGGTGGCCGGCCCTGGTTTCGCTACTACAATGAGAATGAGTACTCCTGATACTGGTTCTCGGAGGTATCCA\n"
     ]
    }
   ],
   "source": [
    "if __name__ == \"__main__\":\n",
    "    # NOTE: Sorry my implementation takes around 1-1.5 minutes to finish\n",
    "    main(infile='data/rosalind_ba3b.txt',outfile='output/output-problem9.txt', inCL=[])"
   ]
  },
  {
   "cell_type": "code",
   "execution_count": 5,
   "metadata": {},
   "outputs": [],
   "source": [
    "# INSPECTION\n",
    "\n",
    "# INSPECTION TEAM\n",
    "# Hsiang-Yun Lu (Eloise)\n",
    "# Jodi Lee\n",
    "# Nabil Mohammed\n",
    "\n",
    "# RESPONSES\n",
    "# - Try to make program a little more efficient\n",
    "# - Work on implementing main function\n",
    "# - Write more markdown comments\n",
    "# - Clean up code\n",
    "# - Add more docstrings and inline comments\n",
    "\n",
    "# CORRECTIONS\n",
    "# - Worked time from around 2 minutes to 1-1.5 minutes\n",
    "# - Finished main function\n",
    "# - Wrote markdown comments\n",
    "# - Cleaned code\n",
    "# - Added more docstrings and inline comments"
   ]
  }
 ],
 "metadata": {
  "kernelspec": {
   "display_name": "Python 3",
   "language": "python",
   "name": "python3"
  },
  "language_info": {
   "codemirror_mode": {
    "name": "ipython",
    "version": 3
   },
   "file_extension": ".py",
   "mimetype": "text/x-python",
   "name": "python",
   "nbconvert_exporter": "python",
   "pygments_lexer": "ipython3",
   "version": "3.8.5"
  }
 },
 "nbformat": 4,
 "nbformat_minor": 4
}
