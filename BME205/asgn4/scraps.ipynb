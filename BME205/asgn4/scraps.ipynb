{
 "cells": [
  {
   "cell_type": "code",
   "execution_count": null,
   "metadata": {},
   "outputs": [],
   "source": [
    "    def topOrder(self):\n",
    "        '''\n",
    "        Keep a list of nodes in the order to solve them. \n",
    "        Constantly update set of candidate nodes with no incoming edges\n",
    "        '''\n",
    "        List = [] # List of NODES\n",
    "        noInEdgeNodes = {n for n in self.nodes.values() if len(n.inEdges) == 0} # Nodes with no inEdges\n",
    "        for n in noInEdgeNodes:\n",
    "            if n.key != self.start:\n",
    "                n.tmpScore = -999  \n",
    "        Candidates = noInEdgeNodes.copy() # [0,6]\n",
    "#         print([n.key for n in Candidates])\n",
    "        while len(Candidates) > 0:\n",
    "            node = Candidates.pop()\n",
    "            List.append(node)\n",
    "            if node not in noInEdgeNodes: # Node originally had inEdges, and has fully populated scoreEdgeList\n",
    "                node.maxEdge = max(node.scoreEdgeList, key=lambda x:x[0].weight + x[1])\n",
    "                node.score = node.maxEdge[0].weight + node.maxEdge[1]\n",
    "                node.tmpScore = node.score\n",
    "            if len(node.outEdges) == 0:\n",
    "#                 print(f\"continue over node: {node.key}\")\n",
    "                continue\n",
    "            for outEdge in node.outEdges: # For each outedge from curr node, remove outEdge from nextNode's inEdges and add curr Edge to nextNode's scoreEdgeList\n",
    "                if outEdge.dest == self.start: # Catches case where a node has an outEdge to the startNode, which shouldn't happen in a DAG\n",
    "#                     print(f\"CAUGHT POSSIBLE CYCLE outEdge: {outEdge.src}:{outEdge.dest}->{outEdge.weight}\")\n",
    "#                     node.outEdges.remove(outEdge)\n",
    "                    self.edgeHolder.remove(outEdge)\n",
    "#                     print(f\"REMOVED OUTEDGE: {outEdge.src}:{outEdge.dest}->{outEdge.weight}\")\n",
    "                    continue\n",
    "#                 print(f\"outEdge: {outEdge.src}:{outEdge.dest}->{outEdge.weight}\")\n",
    "                nextNode = self.nodes[outEdge.dest]\n",
    "#                 print(f\"inEdges of {nextNode.key}: {[e.pstring() for e in nextNode.inEdges]}\")\n",
    "                nextNode.inEdges.remove(outEdge) # Remove curr's outedge from next's inEdges\n",
    "                self.edgeHolder.remove(outEdge)\n",
    "#                 print(f\"REMOVED OUTEDGE: {outEdge.src}:{outEdge.dest}->{outEdge.weight}\")\n",
    "                nextNode.scoreEdgeList.append((outEdge,node.tmpScore))\n",
    "                if len(nextNode.inEdges) == 0: # If nextNode is ready to become a candidate\n",
    "                    Candidates.add(nextNode)                    \n",
    "\n",
    "        if len(self.edgeHolder) > 0:\n",
    "            return \"Input graph not a DAG\"\n",
    "        else:\n",
    "#             print(f\"scores of {node.key}: {[(e[0].src, e[0].dest, e[0].weight) for e in node.scoreEdgeList]} tmpScore: {node.tmpScore}\")\n",
    "            # Should return a list of node objects that represent the topological order of the graph\n",
    "            return List"
   ]
  },
  {
   "cell_type": "code",
   "execution_count": null,
   "metadata": {},
   "outputs": [],
   "source": [
    "edgeList = []\n",
    "# with open('data/same-source-sink.txt','r') as myfile:\n",
    "with open('data/simple-input.txt','r') as myfile:\n",
    "# with open('data/rosalind_ba5d.txt','r') as myfile:\n",
    "# with open('data/more-input.txt','r') as myfile:\n",
    "# with open('data/good-ins/good1.txt','r') as myfile:\n",
    "# with open('data/nabildata.txt','r') as myfile:\n",
    "    startNode = int(next(myfile))\n",
    "    endNode = int(next(myfile))\n",
    "    for line in myfile:\n",
    "        line = line.replace(':', '->')\n",
    "        myLine = line.rstrip().split('->')\n",
    "        edgeData = [int(i) for i in myLine]\n",
    "        e = Edge(edgeData[0], edgeData[1], edgeData[2])\n",
    "        edgeList.append(e)\n",
    "# INITIALIZE GRAPH GIVEN START, END, AND LIST OF EDGES (ADJ LIST)\n",
    "myGraph = Graph(start = startNode, end = endNode, edges = edgeList)"
   ]
  },
  {
   "cell_type": "code",
   "execution_count": null,
   "metadata": {},
   "outputs": [],
   "source": [
    "def printer(score, findList):\n",
    "    if isinstance(myGraph.topOrder,str):\n",
    "        print(myGraph.topOrder)\n",
    "    else:\n",
    "        print(score)\n",
    "        pathway = \"\"\n",
    "        for key in findList:\n",
    "            pathway += str(key) \n",
    "            if findList.index(key) < len(findList) -1:\n",
    "                pathway += \"->\"\n",
    "        print(pathway)\n",
    "x,y = myGraph.finder()\n",
    "printer(x, y)"
   ]
  }
 ],
 "metadata": {
  "kernelspec": {
   "display_name": "Python 3",
   "language": "python",
   "name": "python3"
  },
  "language_info": {
   "codemirror_mode": {
    "name": "ipython",
    "version": 3
   },
   "file_extension": ".py",
   "mimetype": "text/x-python",
   "name": "python",
   "nbconvert_exporter": "python",
   "pygments_lexer": "ipython3",
   "version": "3.8.5"
  }
 },
 "nbformat": 4,
 "nbformat_minor": 4
}
