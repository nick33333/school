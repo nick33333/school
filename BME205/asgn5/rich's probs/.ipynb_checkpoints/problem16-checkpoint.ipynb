{
 "cells": [
  {
   "cell_type": "markdown",
   "metadata": {},
   "source": [
    "# Header and Library Imports"
   ]
  },
  {
   "cell_type": "code",
   "execution_count": 1,
   "metadata": {},
   "outputs": [
    {
     "data": {
      "text/plain": [
       "'\\nCreated on Sun Nov  7 08:52:26 2021\\n\\n@author: richa\\n'"
      ]
     },
     "execution_count": 1,
     "metadata": {},
     "output_type": "execute_result"
    }
   ],
   "source": [
    "# -*- coding: utf-8 -*-\n",
    "\"\"\"\n",
    "Created on Sun Nov  7 08:52:26 2021\n",
    "\n",
    "@author: richa\n",
    "\"\"\""
   ]
  },
  {
   "cell_type": "markdown",
   "metadata": {},
   "source": [
    "# Substrings Class\n",
    "is designed to accept a DNA sequence and desired polypeptide sequence. Finds all instances of subsequences in the DNA sequence that either encodes for the desired polypeptide sequence or its reverse complement encodes for the desired polypeptide sequence.\n",
    "\n",
    "There are 2 attributes:\n",
    "- seq - DNA sequence to search through (given)\n",
    "- pep - Desired polypeptide to find in DNA sequence (given)\n",
    "\n",
    "There is 1 method:\n",
    "- findSubstrings - finds all instances of subsequences in the DNA sequence that either encodes for the desired polypeptide sequence or its reverse complement does"
   ]
  },
  {
   "cell_type": "code",
   "execution_count": 2,
   "metadata": {},
   "outputs": [],
   "source": [
    "class Substrings :\n",
    "    '''\n",
    "    Find all instances of DNA subsequences that encode for the desired \n",
    "    polypeptide or its reverse complement encodes for the desired polypeptide\n",
    "    \n",
    "    Attributes:\n",
    "        seq - DNA sequence to search through\n",
    "        pep - desired polypeptide sequence\n",
    "        \n",
    "    Methods:\n",
    "        findSubstrings - find all instances of DNA subsequences in given \n",
    "                        sequence that either encodes the desired polypeptide \n",
    "                        sequence or its reverse complement does\n",
    "    '''\n",
    "    # Codons to amino acid table\n",
    "    AA = {'AAA': 'K', 'AAC': 'N', 'AAG': 'K', 'AAT': 'N', 'ACA': 'T',\n",
    "          'ACC': 'T', 'ACG': 'T', 'ACT': 'T', 'AGA': 'R', 'AGC': 'S',\n",
    "          'AGG': 'R', 'AGT': 'S', 'ATA': 'I', 'ATC': 'I', 'ATG': 'M',\n",
    "          'ATT': 'I', 'CAA': 'Q', 'CAC': 'H', 'CAG': 'Q', 'CAT': 'H',\n",
    "          'CCA': 'P', 'CCC': 'P', 'CCG': 'P', 'CCT': 'P', 'CGA': 'R',\n",
    "          'CGC': 'R', 'CGG': 'R', 'CGT': 'R', 'CTA': 'L', 'CTC': 'L',\n",
    "          'CTG': 'L', 'CTT': 'L', 'GAA': 'E', 'GAC': 'D', 'GAG': 'E',\n",
    "          'GAT': 'D', 'GCA': 'A', 'GCC': 'A', 'GCG': 'A', 'GCT': 'A',\n",
    "          'GGA': 'G', 'GGC': 'G', 'GGG': 'G', 'GGT': 'G', 'GTA': 'V',\n",
    "          'GTC': 'V', 'GTG': 'V', 'GTT': 'V', 'TAA': 'STOP', 'TAC': 'Y',\n",
    "          'TAG': 'STOP', 'TAT': 'Y', 'TCA': 'S', 'TCC': 'S', 'TCG': 'S',\n",
    "          'TCT': 'S', 'TGA': 'STOP', 'TGC': 'C', 'TGG': 'W', 'TGT': 'C',\n",
    "          'TTA': 'L', 'TTC': 'F', 'TTG': 'L', 'TTT': 'F'}\n",
    "    # Translation table for reverse complements\n",
    "    translate = {'A': 'T', 'C': 'G', 'G': 'C', 'T': 'A'}\n",
    "    \n",
    "    def __init__(self, seq, pep):\n",
    "        ''' \n",
    "        Build a Substrings object from a given DNA sequence and desired\n",
    "        polypeptide sequence.\n",
    "        '''\n",
    "        self.seq = seq  # DNA sequence\n",
    "        self.pep = pep  # Desired polypeptide\n",
    "        \n",
    "    def findSubstrings(self):\n",
    "        '''\n",
    "        Find all subsequences in the DNA sequence that encodes for the desired\n",
    "        polypeptide or its reverse complement does.\n",
    "        '''\n",
    "        # List of codon makeups for all possible substrings on forward strand\n",
    "        fStrand = []\n",
    "        # List of codon makeups for all possible substrings on reverse strand\n",
    "        rStrand = []\n",
    "        # List of DNA subsequence that encode desired polypeptide of the reverse complement\n",
    "        inSeq = []\n",
    "        # Length of DNA subsequence for desired polypeptide\n",
    "        sLen = 3 * len(self.pep)\n",
    "        \n",
    "        # Loop through possible start positions for DNA subsequence\n",
    "        for s in range(len(self.seq) - sLen + 1):\n",
    "            # DNA subsequence\n",
    "            cod = self.seq[s: s + sLen]\n",
    "            # Reverse complement of DNA subsequence\n",
    "            rCod = ''.join([Substrings.translate[b] for b in cod])[::-1]\n",
    "            # Append list of codon makeup in forward strand DNA subsequence\n",
    "            fStrand.append([cod[c: c + 3] for c in range(0, sLen, 3)])\n",
    "            # Append ist of codon makeup in reverse strand DNA subsequence\n",
    "            rStrand.append([rCod[c: c + 3] for c in range(0, sLen, 3)])\n",
    "            \n",
    "        for c in range(len(fStrand)):\n",
    "            # Polypeptide translation of forward strand DNA subsequence\n",
    "            p = ''.join([Substrings.AA[s] for s in fStrand[c]])\n",
    "            # Polypeptide translation of reverse strand DNA subsequence\n",
    "            r = ''.join([Substrings.AA[s] for s in rStrand[c]])\n",
    "            if p == self.pep:\n",
    "                inSeq.append(''.join(fStrand[c]))\n",
    "            if r == self.pep:\n",
    "                inSeq.append(''.join(rStrand[c]))\n",
    "                \n",
    "        return inSeq"
   ]
  },
  {
   "cell_type": "markdown",
   "metadata": {},
   "source": [
    "# Main\n",
    "- Get DNA sequence and desired polypeptide sequence\n",
    "- Instantiation of the Substrings object for the DNA sequence and desired polypeptide sequence\n",
    "- Prints all instances of subsequences in the DNA sequence that either encodes for the desired polypeptide sequence or its reverse complement encodes for the desired polypeptide sequence"
   ]
  },
  {
   "cell_type": "code",
   "execution_count": 3,
   "metadata": {},
   "outputs": [
    {
     "name": "stdout",
     "output_type": "stream",
     "text": [
      "CTGTGTGACATTCAGTGTCGCCCCCCCCGG\n",
      "TTATGTGATATACAATGTCGGCCACCTCGG\n",
      "CTTTGTGATATTCAGTGTCGTCCACCGCGA\n",
      "CTTTGCGACATTCAATGCCGACCCCCGCGC\n",
      "CTCTGCGACATCCAGTGTCGTCCACCTCGC\n",
      "CTGTGCGACATTCAGTGCCGCCCTCCACGT\n",
      "CTTTGCGACATTCAATGCCGACCACCGCGA\n",
      "CTCTGCGATATTCAATGCCGTCCCCCACGG\n",
      "TTGTGTGATATCCAATGTCGGCCTCCGCGC\n",
      "CTCTGTGATATACAGTGCCGCCCGCCTCGG\n",
      "TTGTGCGATATCCAGTGTAGGCCACCGCGA\n",
      "CTATGTGACATACAGTGCCGGCCTCCACGG\n",
      "CTCTGCGACATCCAATGTAGGCCACCTCGA\n",
      "CTATGTGACATTCAGTGTCGGCCCCCTAGA\n",
      "CTCTGTGACATACAGTGTAGGCCACCTAGG\n",
      "CTTTGCGACATACAGTGCAGACCGCCACGT\n",
      "CTTTGTGACATACAGTGTAGACCCCCACGA\n",
      "CTCTGCGATATCCAATGCCGCCCTCCAAGA\n",
      "CTCTGTGACATACAATGTCGTCCCCCGCGC\n"
     ]
    }
   ],
   "source": [
    "def main(inFile = None):\n",
    "    '''\n",
    "    Get the DNA sequence and desired polypeptide string from the input file and\n",
    "    find all instances of DNA subsequences that either encode the desired\n",
    "    polypeptide or its reverse complement encodes the desired polypeptide.\n",
    "    '''\n",
    "    with open(inFile) as inFile:\n",
    "        # Get DNA sequence\n",
    "        seq = inFile.readline().rstrip()\n",
    "        # Get desired polypeptide\n",
    "        pep = inFile.readline().rstrip()\n",
    "                \n",
    "    mySubstrings = Substrings(seq, pep)\n",
    "    myFind = mySubstrings.findSubstrings()\n",
    "    for s in myFind:\n",
    "        print(s)\n",
    "\n",
    "if __name__ == \"__main__\":\n",
    "    main(inFile = 'rosalind_ba4b.txt')"
   ]
  },
  {
   "cell_type": "markdown",
   "metadata": {},
   "source": [
    "# Inspections\n",
    "Team: \n",
    "\n",
    "Comments:\n",
    "\n",
    "Corrections:"
   ]
  }
 ],
 "metadata": {
  "kernelspec": {
   "display_name": "Python 3",
   "language": "python",
   "name": "python3"
  },
  "language_info": {
   "codemirror_mode": {
    "name": "ipython",
    "version": 3
   },
   "file_extension": ".py",
   "mimetype": "text/x-python",
   "name": "python",
   "nbconvert_exporter": "python",
   "pygments_lexer": "ipython3",
   "version": "3.8.5"
  }
 },
 "nbformat": 4,
 "nbformat_minor": 5
}
