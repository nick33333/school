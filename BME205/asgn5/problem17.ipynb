{
 "cells": [
  {
   "cell_type": "code",
   "execution_count": null,
   "metadata": {},
   "outputs": [],
   "source": [
    "#!/usr/bin/env python3\n",
    "\n",
    "########################################################################\n",
    "# File: problem17.ipynb\n",
    "\n",
    "# Author: Nicholas Chan\n",
    "# History: 11/15/2021 Created\n",
    "########################################################################"
   ]
  },
  {
   "cell_type": "markdown",
   "metadata": {},
   "source": [
    "# Assignment 5: problem 17\n",
    "<br>\n",
    "For this assignment, we were to find the theoretical spectrum of a cyclic peptide given a linear peptide <br>\n",
    "This could be done in a way similar to that of problem 16. However, now we must travel past the end of <br>\n",
    "the peptide and wrap around to the beginning to find subsequences only found with a cyclic representation. <br>\n",
    "These additional subsequences found only in the cyclic representation along with those found from the <br>\n",
    "linear representation will have their masses compiled into a theoretical spectrum corresponding to<br>\n",
    "a the cyclopeptide representation of the input peptide."
   ]
  },
  {
   "cell_type": "markdown",
   "metadata": {},
   "source": [
    "# Spectrum Class:\n",
    "<br>\n",
    "The Spectrum class can be used to obtain the theoretical spectrum of a cyclopeptide <br>\n",
    "given just its linear peptide representation. The theoretical spectrum is a collection <br>\n",
    "of the masses of all subsequences found in a peptide. For the theoretical spectrum of <br>\n",
    "a cyclic peptide, this implies the inclusion of subseqs only found by wrapping over <br>\n",
    "the ends and coming over to the beginning of the linear peptide sequence.<br>"
   ]
  },
  {
   "cell_type": "code",
   "execution_count": 5,
   "metadata": {},
   "outputs": [],
   "source": [
    "class Spectrum:\n",
    "    '''\n",
    "    Spectrum object takes in a linear peptide sequence as input. Input \n",
    "    should be in the form of a list of strings corresponding to amino acids.\n",
    "    A cyclic representation of the peptide is given by doubling it. This cyclic \n",
    "    representation is used for finding the theoretical spectrum of the linear peptide's\n",
    "    cyclic form.\n",
    "    '''\n",
    "    # Amino acid to its integer mass table\n",
    "    AA = {'G': 57, 'A': 71, 'S': 87, 'P': 97, 'V': 99, 'T': 101, 'C': 103,\n",
    "          'I': 113, 'L': 113, 'N': 114, 'D': 115, 'K': 128, 'Q': 128, 'E': 129,\n",
    "          'M': 131, 'H': 137, 'F': 147, 'R': 156, 'Y': 163, 'W': 186}\n",
    "    \n",
    "    def __init__(self,pepSeq):\n",
    "        '''\n",
    "        Initialize Spectrum object with linear peptide sequence and cyclic representation\n",
    "        of linear peptide sequence.\n",
    "        '''\n",
    "        self.pepSeq = pepSeq\n",
    "        self.cyclicPep = self.pepSeq*2\n",
    "    \n",
    "    def mass(self, seq):\n",
    "        '''\n",
    "        mass is a small method used to convert lists of amino acids (strings) into\n",
    "        lists of amino acid masses (int). Useful for finding theoretical spectrum\n",
    "        '''\n",
    "        return sum([self.AA[nuc] for nuc in seq])\n",
    "    \n",
    "    def findSpec(self):\n",
    "        ''' \n",
    "        Given a linear peptide, return its circular theoretical spectrum as a list of ints \n",
    "        '''\n",
    "        specList = [0, self.mass(self.pepSeq)] # List for all subpep masses, where subpep come from circularized input pep\n",
    "        for start in range(len(self.pepSeq)): # For each position in linear pep, \n",
    "            for end in range(1,len(self.pepSeq)): # generate substrings of len 1 to len(pep)-1\n",
    "                specList.append(self.mass(self.cyclicPep[start : start+end]))\n",
    "        return sorted(specList)"
   ]
  },
  {
   "cell_type": "markdown",
   "metadata": {},
   "source": [
    "# Main Function\n",
    "<br>\n",
    "Parses an input text file as a string which the Spectrum class requires as input. <br>\n",
    "Input is assumed to be a string. Output is printed to stdout. <br>"
   ]
  },
  {
   "cell_type": "code",
   "execution_count": 8,
   "metadata": {},
   "outputs": [
    {
     "name": "stdout",
     "output_type": "stream",
     "text": [
      "0 57 71 87 97 103 113 114 114 115 115 115 128 128 137 171 184 186 201 202 210 212 217 218 229 241 242 243 258 265 281 301 315 316 323 325 329 332 332 338 355 357 373 380 388 396 428 429 438 442 444 447 451 452 453 460 494 499 502 525 539 542 544 556 557 559 566 566 567 575 597 613 630 639 653 654 654 657 670 670 672 680 681 696 712 728 743 757 767 767 768 769 783 784 785 785 795 809 824 840 856 871 872 880 882 882 895 898 898 899 913 922 939 955 977 985 986 986 993 995 996 1008 1010 1013 1027 1050 1053 1058 1092 1099 1100 1101 1105 1108 1110 1114 1123 1124 1156 1164 1172 1179 1195 1197 1214 1220 1220 1223 1227 1229 1236 1237 1251 1271 1287 1294 1309 1310 1311 1323 1334 1335 1340 1342 1350 1351 1366 1368 1381 1415 1424 1424 1437 1437 1437 1438 1438 1439 1449 1455 1465 1481 1495 1552\n"
     ]
    }
   ],
   "source": [
    "def main(infile, outfile='', inCL=None):\n",
    "    '''\n",
    "    main function parses in data specified by infile and creates \n",
    "    a peptide string. main function then creates a Spectrum object called \n",
    "    mySpec to generate output corresponding to the theoretical spectrum \n",
    "    of the cyclic representation of the linear peptide given as input.\n",
    "    Output is in the form of a string representing the theoretical spectrum.\n",
    "    '''\n",
    "    with open(infile,'r') as myfile:\n",
    "        pep = myfile.readline().rstrip()\n",
    "        mySpec = Spectrum(pep)\n",
    "        specList = [str(mass) for mass in mySpec.findSpec()]\n",
    "        outstring = \" \".join(specList)\n",
    "        print(outstring)\n",
    "\n",
    "if __name__ == \"__main__\":\n",
    "    main(\"data/rosalind_ba4c.txt\")"
   ]
  },
  {
   "cell_type": "code",
   "execution_count": 7,
   "metadata": {},
   "outputs": [],
   "source": [
    "# INSPECTION\n",
    "\n",
    "# INSPECTION TEAM\n",
    "# Jodi Lee\n",
    "# Nabil Mohammed\n",
    "\n",
    "# RESPONSES\n",
    "# - Use the amino acid to mass table that was recommended\n",
    "# - Write more markdown comments\n",
    "# - Clean up code\n",
    "# - Add more docstrings and inline comments\n",
    "\n",
    "# CORRECTIONS\n",
    "# - Used amino acid to mass table\n",
    "# - Wrote markdown comments\n",
    "# - Cleaned code\n",
    "# - Added more docstrings and inline comments"
   ]
  },
  {
   "cell_type": "code",
   "execution_count": null,
   "metadata": {},
   "outputs": [],
   "source": []
  }
 ],
 "metadata": {
  "kernelspec": {
   "display_name": "Python 3",
   "language": "python",
   "name": "python3"
  },
  "language_info": {
   "codemirror_mode": {
    "name": "ipython",
    "version": 3
   },
   "file_extension": ".py",
   "mimetype": "text/x-python",
   "name": "python",
   "nbconvert_exporter": "python",
   "pygments_lexer": "ipython3",
   "version": "3.8.5"
  }
 },
 "nbformat": 4,
 "nbformat_minor": 4
}
