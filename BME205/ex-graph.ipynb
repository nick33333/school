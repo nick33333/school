{
 "cells": [
  {
   "cell_type": "code",
   "execution_count": 2,
   "metadata": {},
   "outputs": [
    {
     "name": "stdout",
     "output_type": "stream",
     "text": [
      "(0 —> 1, 6) \n",
      "(1 —> 2, 7) \n",
      "(2 —> 0, 5) (2 —> 1, 4) \n",
      "(3 —> 2, 10) \n",
      "(4 —> 5, 1) \n",
      "(5 —> 4, 3) \n"
     ]
    }
   ],
   "source": [
    "# A class to store a graph edge\n",
    "class Edge:\n",
    "    def __init__(self, src, dest, weight):\n",
    "        self.src = src\n",
    "        self.dest = dest\n",
    "        self.weight = weight\n",
    "        \n",
    "# A class to store adjacency list nodes\n",
    "class Node:\n",
    "    def __init__(self, value, weight):\n",
    "        self.value = value\n",
    "        self.weight = weight\n",
    "        \n",
    "# A class to represent a graph object\n",
    "class Graph:\n",
    "    # Constructor to construct a graph\n",
    "    def __init__(self, edges, N):\n",
    "        \n",
    "        # A list of lists to represent an adjacency list\n",
    "        self.adj = [None] * N\n",
    "        \n",
    "        # allocate memory for the adjacency list\n",
    "        for i in range(N):\n",
    "            self.adj[i] = []\n",
    "            \n",
    "        # add edges to the undirected graph\n",
    "        for e in edges:\n",
    "            # allocate node in adjacency list from src to dest\n",
    "            node = Node(e.dest, e.weight)\n",
    "            self.adj[e.src].append(node)\n",
    " \n",
    " \n",
    "# Function to print adjacency list representation of a graph\n",
    "def printGraph(graph):\n",
    "    for src in range(len(graph.adj)):\n",
    "        # print current vertex and all its neighboring vertices\n",
    "        for edge in graph.adj[src]:\n",
    "            print(f\"({src} —> {edge.value}, {edge.weight}) \", end='')\n",
    "        print()\n",
    "\n",
    "        \n",
    "if __name__ == '__main__':\n",
    "    # Input: Edges in a weighted digraph (as per the above diagram)\n",
    "    # Edge `(x, y, w)` represents an edge from `x` to `y` having weight `w`\n",
    "    edges = [Edge(0, 1, 6), Edge(1, 2, 7), Edge(2, 0, 5), Edge(2, 1, 4),\n",
    "            Edge(3, 2, 10), Edge(4, 5, 1), Edge(5, 4, 3)]\n",
    "    \n",
    "    # Input: No of vertices\n",
    "    N = 6\n",
    "    \n",
    "    # construct a graph from a given list of edges\n",
    "    graph = Graph(edges, N)\n",
    "    \n",
    "    # print adjacency list representation of the graph\n",
    "    printGraph(graph)"
   ]
  },
  {
   "cell_type": "code",
   "execution_count": null,
   "metadata": {},
   "outputs": [],
   "source": []
  },
  {
   "cell_type": "code",
   "execution_count": null,
   "metadata": {},
   "outputs": [],
   "source": []
  }
 ],
 "metadata": {
  "kernelspec": {
   "display_name": "Python 3",
   "language": "python",
   "name": "python3"
  },
  "language_info": {
   "codemirror_mode": {
    "name": "ipython",
    "version": 3
   },
   "file_extension": ".py",
   "mimetype": "text/x-python",
   "name": "python",
   "nbconvert_exporter": "python",
   "pygments_lexer": "ipython3",
   "version": "3.8.5"
  }
 },
 "nbformat": 4,
 "nbformat_minor": 4
}
