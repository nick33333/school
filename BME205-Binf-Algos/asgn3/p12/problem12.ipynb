{
 "cells": [
  {
   "cell_type": "code",
   "execution_count": 5,
   "metadata": {},
   "outputs": [],
   "source": [
    "#!/usr/bin/env python3\n",
    "\n",
    "########################################################################\n",
    "# File: Chan_Nicholas_problem12.ipynb\n",
    "# Purpose: Given a genome Text, PathGraphk(Text) is the path consisting of |Text| - k + 1 edges, where the i-th edge of this path is labeled by the i-th k-mer in Text and the i-th node of the path is labeled by the i-th (k - 1)-mer in Text. The de Bruijn graph DeBruijnk(Text) is formed by gluing identically labeled nodes in PathGraphk(Text).\n",
    "# main(infile='FILE_PATH',outfile='FILE_PATH', inCL=[])\n",
    "#\n",
    "# Author: Nicholas Chan\n",
    "# History: 10/18/2021 Created\n",
    "########################################################################"
   ]
  },
  {
   "cell_type": "markdown",
   "metadata": {},
   "source": [
    "# Assignment 3: Problem 12"
   ]
  },
  {
   "cell_type": "code",
   "execution_count": 8,
   "metadata": {},
   "outputs": [],
   "source": [
    "'''\n",
    "Problem 12: \n",
    "Given an arbitrary collection of k-mers Patterns (where some k-mers may appear multiple times), \n",
    "we define CompositionGraph(Patterns) as a graph with |Patterns| isolated edges. Every edge is \n",
    "labeled by a k-mer from Patterns, and the starting and ending nodes of an edge are labeled by the \n",
    "prefix and suffix of the k-mer labeling that edge. We then define the de Bruijn graph of Patterns, \n",
    "denoted DeBruijn(Patterns), by gluing identically labeled nodes in CompositionGraph(Patterns), \n",
    "which yields the following algorithm.\n",
    "\n",
    "Input:\n",
    "GAGG\n",
    "CAGG\n",
    "GGGG\n",
    "GGGA\n",
    "CAGG\n",
    "AGGG\n",
    "GGAG\n",
    "\n",
    "Desired output:\n",
    "AGG -> GGG\n",
    "CAG -> AGG,AGG\n",
    "GAG -> AGG\n",
    "GGA -> GAG\n",
    "GGG -> GGA,GGG\n",
    "'''\n",
    "\n",
    "class Solution:\n",
    "    '''\n",
    "    To solve the de Bruijn graph for problem 12, I collected \n",
    "    edges from input edges and made their prefixes keys with \n",
    "    their suffixes as values. I utilized the information of the \n",
    "    input edges to correctly match prefixes to their suffixes. \n",
    "    Starting out with the whole input sequences/edges made graphing \n",
    "    the nodes (assigning suffixes to prefixes) less ambiguous that \n",
    "    it would have been just starting out with nodes.\n",
    "    '''\n",
    "    def __init__(self, edgeList):\n",
    "        self.edgeList = edgeList\n",
    "        self.graph = self.graph()\n",
    "\n",
    "    def graph(self) -> 'dict':\n",
    "        '''\n",
    "        Create a graph dict from edges in edgeList. Keys are prefixes of each edge\n",
    "        and values are each edge's corresponding suffixes. Knowledge of the edge makes \n",
    "        the assignment of keys to values less ambiguous than they would be just starting\n",
    "        out with nodes of size k-1.\n",
    "        '''\n",
    "        graphDict = dict()\n",
    "        \n",
    "        for edge in self.edgeList:\n",
    "            prefix = edge[:-1]\n",
    "            graphDict[prefix] = []\n",
    "        \n",
    "        for edge in self.edgeList:\n",
    "            prefix = edge[:-1]\n",
    "            suffix = edge[1:]\n",
    "            graphDict[prefix].append(suffix)\n",
    "            \n",
    "        return graphDict\n",
    "            \n",
    "            \n",
    "    def printGraph(self) -> 'str':\n",
    "        '''\n",
    "        Call this method to return a string containing output\n",
    "        '''\n",
    "        output = \"\"\n",
    "        keyList = [key for key in self.graph]\n",
    "        for key in sorted(keyList):\n",
    "            valList = []\n",
    "            for vals in self.graph[key]:\n",
    "                valList.append(vals)\n",
    "            valList.sort()\n",
    "            valstring = ','.join(valList)\n",
    "            output += f\"{key} -> {valstring}\\n\"\n",
    "        return output\n",
    "            \n",
    "            "
   ]
  },
  {
   "cell_type": "markdown",
   "metadata": {},
   "source": [
    "# Main function \n",
    "Main function is written here. This function handles argument parsing, input, and output."
   ]
  },
  {
   "cell_type": "code",
   "execution_count": 11,
   "metadata": {},
   "outputs": [],
   "source": [
    "def main(infile, outfile, inCL=None):\n",
    "    k = 0\n",
    "    inputSeqList = []\n",
    "    with open(infile,'r') as myfile:\n",
    "        for line in myfile:\n",
    "            inputSeqList.append(line.rstrip()) \n",
    "            \n",
    "    solution = Solution(inputSeqList)\n",
    "    solutionString = solution.printGraph()\n",
    "    \n",
    "    with open(outfile, \"w\") as myfile:\n",
    "        myfile.write(solutionString)\n",
    "#         print(solutionString)"
   ]
  },
  {
   "cell_type": "code",
   "execution_count": 13,
   "metadata": {},
   "outputs": [],
   "source": [
    "if __name__ == \"__main__\":\n",
    "    main(infile='data/rosalind_ba3e.txt',outfile='output-problem12.txt', inCL=[])\n",
    "#     main(infile='data/simple-input.txt',outfile='output-problem12.txt', inCL=[])"
   ]
  },
  {
   "cell_type": "code",
   "execution_count": null,
   "metadata": {},
   "outputs": [],
   "source": []
  }
 ],
 "metadata": {
  "kernelspec": {
   "display_name": "Python 3",
   "language": "python",
   "name": "python3"
  },
  "language_info": {
   "codemirror_mode": {
    "name": "ipython",
    "version": 3
   },
   "file_extension": ".py",
   "mimetype": "text/x-python",
   "name": "python",
   "nbconvert_exporter": "python",
   "pygments_lexer": "ipython3",
   "version": "3.8.5"
  }
 },
 "nbformat": 4,
 "nbformat_minor": 4
}
