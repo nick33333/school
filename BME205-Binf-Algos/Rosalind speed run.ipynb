{
 "cells": [
  {
   "cell_type": "code",
   "execution_count": 14,
   "metadata": {},
   "outputs": [],
   "source": [
    "'''\n",
    "Problem 1: Generate the k-mer Composition of a String\n",
    "\n",
    "Given:\n",
    "5\n",
    "CAATCCAAC\n",
    "\n",
    "Output:\n",
    "AATCC\n",
    "ATCCA\n",
    "CAATC\n",
    "CCAAC\n",
    "TCCAA\n",
    "'''\n",
    "def kmerComp(text:'str', k: 'int')->'printed output':\n",
    "    frame = len(text)-k+1\n",
    "    kmerList = []\n",
    "    for pos in range(frame):\n",
    "        kmerList.append(text[pos:pos+k])\n",
    "    kmerList.sort()\n",
    "    for i in kmerList:\n",
    "        print(i)"
   ]
  },
  {
   "cell_type": "code",
   "execution_count": 15,
   "metadata": {},
   "outputs": [
    {
     "name": "stdout",
     "output_type": "stream",
     "text": [
      "AATCC\n",
      "ATCCA\n",
      "CAATC\n",
      "CCAAC\n",
      "TCCAA\n"
     ]
    }
   ],
   "source": [
    "kmerComp('CAATCCAAC',5)"
   ]
  },
  {
   "cell_type": "code",
   "execution_count": 13,
   "metadata": {
    "scrolled": true
   },
   "outputs": [
    {
     "name": "stdout",
     "output_type": "stream",
     "text": [
      "AATCC\n",
      "ATCCA\n",
      "CAATC\n",
      "CCAAC\n",
      "TCCAA\n"
     ]
    }
   ],
   "source": [
    "'''\n",
    "Problem 2: \tReconstruct a String from its Genome Path\n",
    "\n",
    "Find the string spelled by a genome path.\n",
    "Given: A sequence of k-mers Pattern1, ... , Patternn such that the last k - 1 symbols of Patterni are equal to the first k - 1 symbols of Patterni+1 for i from 1 to n-1.\n",
    "Return: A string Text of length k+n-1 where the i-th k-mer in Text is equal to Patterni for all i.\n",
    "\n",
    "Input:\n",
    "ACCGA\n",
    "CCGAA\n",
    "CGAAG\n",
    "GAAGC\n",
    "AAGCT\n",
    "\n",
    "Output:\n",
    "ACCGAAGCT\n",
    "'''"
   ]
  },
  {
   "cell_type": "code",
   "execution_count": 38,
   "metadata": {},
   "outputs": [],
   "source": [
    "def reconstructor(seqList: 'list')->'str':\n",
    "    firstSeq = seqList[0]\n",
    "    seqList.remove(firstSeq)\n",
    "    \n",
    "    while len(seqList) > 0:\n",
    "        for seq in seqList:\n",
    "            if seq[:len(seq)-1] in firstSeq[len(firstSeq)-len(seq):]: # Rear of ref to front of seqList seq\n",
    "                print(f'firstSeq front: {firstSeq[len(firstSeq)-len(seq):]} and seq rear: {seq[:len(seq)-1]}')\n",
    "                firstSeq = firstSeq + seq[-1]\n",
    "                seqList.remove(seq)\n",
    "            elif seq[1:] in firstSeq[:len(firstSeq)-len(seq)]: # Front of ref to rear of seqList seq\n",
    "                print(f'seq rear: {seq[1:]} and firstSeq front: {firstSeq[:len(firstSeq)-len(seq)]}')\n",
    "                firstSeq = seq[0] + firstSeq\n",
    "                seqList.remove(seq)\n",
    "            else:\n",
    "                continue\n",
    "    return firstSeq"
   ]
  },
  {
   "cell_type": "code",
   "execution_count": 39,
   "metadata": {},
   "outputs": [
    {
     "name": "stdout",
     "output_type": "stream",
     "text": [
      "firstSeq front: ACCGA and seq rear: CCGA\n",
      "firstSeq front: CCGAA and seq rear: CGAA\n",
      "firstSeq front: CGAAG and seq rear: GAAG\n",
      "firstSeq front: GAAGC and seq rear: AAGC\n"
     ]
    },
    {
     "data": {
      "text/plain": [
       "'ACCGAAGCT'"
      ]
     },
     "execution_count": 39,
     "metadata": {},
     "output_type": "execute_result"
    }
   ],
   "source": [
    "seqList = ['ACCGA','CCGAA', 'CGAAG', 'GAAGC', 'AAGCT']\n",
    "reconstructor(seqList)"
   ]
  },
  {
   "cell_type": "code",
   "execution_count": 24,
   "metadata": {},
   "outputs": [
    {
     "data": {
      "text/plain": [
       "'sapples'"
      ]
     },
     "execution_count": 24,
     "metadata": {},
     "output_type": "execute_result"
    }
   ],
   "source": [
    "ap = 'apple'\n",
    "app = 'apples' # reare compare\n",
    "a = 'sapple'\n",
    "ap = ap + app[-1]\n",
    "ap = a[0] + ap\n",
    "ap"
   ]
  },
  {
   "cell_type": "code",
   "execution_count": 47,
   "metadata": {},
   "outputs": [],
   "source": [
    "def de_bruijn_ize(st, k):\n",
    "    edges = []\n",
    "    nodes = set()\n",
    "    for i in range(len(st) - k + 1):\n",
    "        left = st[i:i+k-1]\n",
    "        right = st[i+1:i+k]\n",
    "        edges.append((left, right)) # The left and right k-1 mers\n",
    "        nodes.add(left)\n",
    "        nodes.add(right)\n",
    "    return nodes, edges"
   ]
  },
  {
   "cell_type": "code",
   "execution_count": 52,
   "metadata": {},
   "outputs": [
    {
     "name": "stdout",
     "output_type": "stream",
     "text": [
      "nodes: {'AC', 'TC', 'CG', 'GT', 'GC'}\n",
      "edges:[('AC', 'CG'), ('CG', 'GC'), ('GC', 'CG'), ('CG', 'GT'), ('GT', 'TC'), ('TC', 'CG')]\n"
     ]
    }
   ],
   "source": [
    "seq = 'ACGCGTCG'\n",
    "nodes, edges = de_bruijn_ize(seq,3)\n",
    "print(f'nodes: {nodes}\\nedges:{edges}')"
   ]
  },
  {
   "cell_type": "code",
   "execution_count": null,
   "metadata": {},
   "outputs": [],
   "source": []
  }
 ],
 "metadata": {
  "kernelspec": {
   "display_name": "Python 3",
   "language": "python",
   "name": "python3"
  },
  "language_info": {
   "codemirror_mode": {
    "name": "ipython",
    "version": 3
   },
   "file_extension": ".py",
   "mimetype": "text/x-python",
   "name": "python",
   "nbconvert_exporter": "python",
   "pygments_lexer": "ipython3",
   "version": "3.8.5"
  }
 },
 "nbformat": 4,
 "nbformat_minor": 4
}
