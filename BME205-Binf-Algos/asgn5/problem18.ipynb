{
 "cells": [
  {
   "cell_type": "code",
   "execution_count": null,
   "metadata": {},
   "outputs": [],
   "source": [
    "#!/usr/bin/env python3\n",
    "\n",
    "########################################################################\n",
    "# File: problem18.ipynb\n",
    "\n",
    "# Author: Nicholas Chan\n",
    "# History: 11/15/2021 Created\n",
    "########################################################################"
   ]
  },
  {
   "cell_type": "markdown",
   "metadata": {},
   "source": [
    "# Assignment 5: problem 18\n",
    "<br>\n",
    "For this assignment, we were to find all the peptides that theoretical spectrums corresponding to an experimental spectrum <br>\n",
    "given as input. This experimental spectrum was assumed to be ideal. To accomplish this, a branch and bound algorithm like <br>\n",
    "the one our textbook mentioned could be utilitzed. This branch and bound algorithm would generate peptides starting from a list with <br>\n",
    "an empty peptide which would be continuously expanded upon 1 amino acid at a time until peptides of masses equal to <br>\n",
    "the parent mass from the experimental spectrum could be obtained. These peptides would then have their cyclopeptide spectrums<br>\n",
    "checked with the experimental spectrum to determine if these peptides were indeed possible peptide encodings for the experimental spectrum. <br>"
   ]
  },
  {
   "cell_type": "markdown",
   "metadata": {},
   "source": [
    "# TheoreticalSpectrum Class\n",
    "<br>\n",
    "TheoreticalSpectrum class creates an object which stores an ideal experimental spectrum (expSpec) <br>\n",
    "in the form of an int list. Using expSpec, a branch and bound algorithm which <br>\n",
    "branches peptides by amino acids consistent with the expSpec and bounds peptides which <br>\n",
    "are not can be used to determine possible peptides that may encode for the peptide <br>\n",
    "described by expSpec. A peptide is consistent if the spectrum of its cyclic form <br>\n",
    "matches expSpec. To get to that point however, the peptide must have subseq masses <br>\n",
    "contained in the spectrum (This part is a sort of consistency check within the branching step)"
   ]
  },
  {
   "cell_type": "code",
   "execution_count": 4,
   "metadata": {},
   "outputs": [],
   "source": [
    "class TheoreticalSpectrum:\n",
    "    '''\n",
    "    TheoreticalSpectrum objects store ideal experimental spectrum given as input as well as its\n",
    "    parent mass. TheoreticalSpectrum objects can run cyclopeptideSeq to find the potential peptides\n",
    "    which encode for the ideal experimental specutrum (which is also cyclic). These \n",
    "    encoding peptides are represented by a list of ints corresponding to an amino acid mass.\n",
    "    These peptides are also in their linear forms on output.\n",
    "    '''\n",
    "    # Amino acid to its integer mass table, \n",
    "    AA = {'G': 57, 'A': 71, 'S': 87, 'P': 97, 'V': 99, 'T': 101, 'C': 103,\n",
    "          'I': 113, 'L': 113, 'N': 114, 'D': 115, 'K': 128, 'Q': 128, 'E': 129,\n",
    "          'M': 131, 'H': 137, 'F': 147, 'R': 156, 'Y': 163, 'W': 186}\n",
    "    \n",
    "    def __init__(self, expSpec:\"list[int]\"):\n",
    "        self.expSpec = expSpec # List of ints representing an ideal experimental spectrum\n",
    "        self.parentMass = max(expSpec) # Used to check candidate spectrums, textbook says this is largest mass in an ideal spectrum\n",
    "        \n",
    "    def findCircSpec(self, seq:\"list[int]\"):\n",
    "        ''' \n",
    "        Given a list of linear peptide aa masses, return its circular theoretical spectrum as a list of ints.\n",
    "        Adapted from problem 17 solution, however peptides given as input are represented by\n",
    "        lists of ints corresponding to amino acid masses instead of lists of strings corresponding to amino acids.\n",
    "        '''\n",
    "        cyclicPep = seq*2\n",
    "        specList = [0, sum(seq)] # List for all subpep masses, where subpep come from circularized input pep\n",
    "        for start in range(len(seq)): # For each position in linear pep, \n",
    "            for end in range(1,len(seq)): # generate substrings of len 1 to len(pep)-1\n",
    "                specList.append(sum(cyclicPep[start : start+end]))\n",
    "        return sorted(specList)\n",
    "    \n",
    "    def expand(self, peps:\"set(tuple(int)\"):\n",
    "        ''' \n",
    "        To be used on growing spectrums (represented by set of tuple of ints) \n",
    "        of candidate peptides (represented by tuple of ints). Expand\n",
    "        also checks for consistency somewhat. Consistency partially\n",
    "        checked by use of total mass of candidate spectrum and valid amino acids\n",
    "        given by matching single amino acids from ideal spectrum. Final check \n",
    "        needs to be in cyclopeptideSeq if cyclospectrum(Peptide) == expSpec.\n",
    "        '''\n",
    "        newPeps = set()\n",
    "        for pep in peps: # pep is a tuple containing growing spectrum\n",
    "            for aa in (self.AA.values()): # cycle over aminos\n",
    "                if aa in self.expSpec: # if amino is contained in ideal expSpec -> since we know input spec is ideal we can ignore other aminos\n",
    "                    tmpPep = list(pep)\n",
    "                    tmpPep += [aa]\n",
    "                    if sum(pep) in self.expSpec: # 1st check if newPep is consistent, 2nd check will be in cyclopeptideSeq() \n",
    "                        newPeps.add(tuple(tmpPep))\n",
    "                    else: # newPep spectrum has mass not found in expSpec -> HOPELESS\n",
    "                        continue\n",
    "                else: # amino isn't contained in expSpec and should be skipped\n",
    "                    continue\n",
    "        return newPeps\n",
    "    \n",
    "    def cyclopeptideSeq(self):\n",
    "        '''\n",
    "        Inspired by psuedocode from textbook. cyclopeptideSeq utilizes a branch and bound algorithm\n",
    "        to build a list of peptide compositions which each have a theoretical spectrum matching that\n",
    "        of the experimental spectrum which is known to be ideal.\n",
    "        '''\n",
    "        peps = {()} # set containing only empty peptide, to be expanded\n",
    "        matches = [] # Accumulate matched peps into this list\n",
    "        while len(peps) != 0: # While candidate peps remain and can be expanded upon\n",
    "            peps = self.expand(peps) # expand peps, in the process it edits out old peps and replaces them with new ones with +1 amino acid (exponential increase)\n",
    "            toRemove = set() # hold onto peps inconsistent by composition\n",
    "            for pep in peps: \n",
    "                if sum(pep) == self.parentMass:\n",
    "                    if self.findCircSpec(list(pep)) == self.expSpec: # Comparison of list to a list, 2nd consistency check kinda, makes sure all aminos are right\n",
    "                        matches.append(pep)\n",
    "                    else:\n",
    "                        toRemove.add(pep)\n",
    "            # Consistency check for removing hopeless peps done in expand I think\n",
    "            peps -= toRemove # Only way I found for deleting inconsistent peps was accumulating them and removing them before next expansion\n",
    "        return matches\n",
    "    \n",
    "    def printMatches(self):\n",
    "        '''\n",
    "        printMatches method is used to produce string output adapted from\n",
    "        cyclopeptideSeq's output for use in the main function.\n",
    "        '''\n",
    "        outList = []\n",
    "        for spec in self.cyclopeptideSeq():\n",
    "            outList.append(\"-\".join([str(mass) for mass in spec]))\n",
    "        outList.sort(reverse = True)\n",
    "        outString = \" \".join(outList)\n",
    "        return outString"
   ]
  },
  {
   "cell_type": "markdown",
   "metadata": {},
   "source": [
    "# Main Function\n",
    "<br>\n",
    "Parses an input text file as a list of ints which the TheoreticalSpectrum class requires as input. <br>\n",
    "Input is assumed to be an ideal experimental mass spectrum. Output is printed to stdout. <br>"
   ]
  },
  {
   "cell_type": "code",
   "execution_count": 5,
   "metadata": {},
   "outputs": [
    {
     "name": "stdout",
     "output_type": "stream",
     "text": [
      "99-99-163-101-115-186-115-131-131-113 99-99-113-131-131-115-186-115-101-163 99-163-101-115-186-115-131-131-113-99 99-113-131-131-115-186-115-101-163-99 186-115-131-131-113-99-99-163-101-115 186-115-101-163-99-99-113-131-131-115 163-99-99-113-131-131-115-186-115-101 163-101-115-186-115-131-131-113-99-99 131-131-115-186-115-101-163-99-99-113 131-131-113-99-99-163-101-115-186-115 131-115-186-115-101-163-99-99-113-131 131-113-99-99-163-101-115-186-115-131 115-186-115-131-131-113-99-99-163-101 115-186-115-101-163-99-99-113-131-131 115-131-131-113-99-99-163-101-115-186 115-101-163-99-99-113-131-131-115-186 113-99-99-163-101-115-186-115-131-131 113-131-131-115-186-115-101-163-99-99 101-163-99-99-113-131-131-115-186-115 101-115-186-115-131-131-113-99-99-163\n"
     ]
    }
   ],
   "source": [
    "def main(infile, outfile='', inCL=None):\n",
    "    '''\n",
    "    main function parses in data specified by infile and creates \n",
    "    a list of amino acid masses which correspond to a cyclopeptide \n",
    "    spectrum. main function then creates a TheoreticalSpectrum object called \n",
    "    mySpec to generate output corresponding to possible linear peptides\n",
    "    which encode for the cyclopeptide represented by the spectrum given\n",
    "    as input.\n",
    "    '''\n",
    "    with open(infile,'r') as myfile:\n",
    "        idealSpecRaw = myfile.readline().rstrip()\n",
    "        idealSpecStr = idealSpecRaw.split(\" \")\n",
    "        idealSpec = [int(mass) for mass in idealSpecStr]\n",
    "        mySpec = TheoreticalSpectrum(idealSpec)\n",
    "        outstring = mySpec.printMatches()\n",
    "        print(outstring)\n",
    "\n",
    "if __name__ == \"__main__\":\n",
    "    main(\"data/rosalind_ba4e.txt\")"
   ]
  },
  {
   "cell_type": "code",
   "execution_count": 3,
   "metadata": {},
   "outputs": [],
   "source": [
    "# INSPECTION\n",
    "\n",
    "# INSPECTION TEAM\n",
    "# Jodi Lee\n",
    "# Nabil Mohammed\n",
    "\n",
    "# RESPONSES\n",
    "# - Work on implementing main function\n",
    "# - Write more markdown comments\n",
    "# - Clean up code\n",
    "# - Add more docstrings and inline comments\n",
    "\n",
    "# CORRECTIONS\n",
    "# - Finished main function\n",
    "# - Wrote markdown comments\n",
    "# - Cleaned code\n",
    "# - Added more docstrings and inline comments"
   ]
  }
 ],
 "metadata": {
  "kernelspec": {
   "display_name": "Python 3",
   "language": "python",
   "name": "python3"
  },
  "language_info": {
   "codemirror_mode": {
    "name": "ipython",
    "version": 3
   },
   "file_extension": ".py",
   "mimetype": "text/x-python",
   "name": "python",
   "nbconvert_exporter": "python",
   "pygments_lexer": "ipython3",
   "version": "3.8.5"
  }
 },
 "nbformat": 4,
 "nbformat_minor": 4
}
