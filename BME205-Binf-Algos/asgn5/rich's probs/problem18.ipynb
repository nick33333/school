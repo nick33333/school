{
 "cells": [
  {
   "cell_type": "markdown",
   "metadata": {},
   "source": [
    "# Header and Library Imports"
   ]
  },
  {
   "cell_type": "code",
   "execution_count": 1,
   "metadata": {},
   "outputs": [
    {
     "data": {
      "text/plain": [
       "'\\nCreated on Sun Nov  7 10:27:08 2021\\n\\n@author: richa\\n'"
      ]
     },
     "execution_count": 1,
     "metadata": {},
     "output_type": "execute_result"
    }
   ],
   "source": [
    "# -*- coding: utf-8 -*-\n",
    "\"\"\"\n",
    "Created on Sun Nov  7 10:27:08 2021\n",
    "\n",
    "@author: richa\n",
    "\"\"\""
   ]
  },
  {
   "cell_type": "markdown",
   "metadata": {},
   "source": [
    "# Cyclopeptide Class\n",
    "is designed to accept an ideal experimental spectrum. Generates all permutations of the cyclic peptide that keeps the original sequence for the ideal experimental mass spectrum\n",
    "\n",
    "There are 3 attributes:\n",
    "- spec - list of integer masses for each mass in the given ideal experimental spectrum (generated in init)\n",
    "- peps - list of integer masses for each possible single amino acid in the cyclopeptide based on the experimental spectrum (generated in init)\n",
    "- pMass - unkown peptide mass from experimental spectrum (found in init)\n",
    "\n",
    "There are 3 methods:\n",
    "- seq - generates the theoretical mass spectrum of the cyclic polypeptide by checking if a candidate peptide from a set of candidate peptides has the same theoretical mass spectrum as the given ideal experimental spectrum\n",
    "- expand - expands a set of candidate peptides to a set of new possible peptides, filtering the new possible peptides for candidacy as they are generated\n",
    "- findSpec - generates the theoretical mass spectrum of a cyclic polypeptide"
   ]
  },
  {
   "cell_type": "code",
   "execution_count": 2,
   "metadata": {},
   "outputs": [],
   "source": [
    "class Cyclopeptide :\n",
    "    '''\n",
    "    Find all permutations of a cyclic peptide that keeps the original sequence\n",
    "    for an ideal experimental mass spectrum\n",
    "    \n",
    "    Attributes:\n",
    "        spec    - integer masses in the experimental spectrum\n",
    "        peps    - integer masses of all single possible amino acid in the \n",
    "                    cyclopeptide based on the experimental spetrum\n",
    "        pMass   - unknown peptide mass from experimental spectrum\n",
    "        \n",
    "    Methods:\n",
    "        seq         - finds all permutations of a cyclic peptide that keeps \n",
    "                        the original sequence for a given ideal experimental \n",
    "                        mass spectrum.\n",
    "        expand      - expands a set of candidate peptides and filters the new\n",
    "                        possible peptides for candidacy\n",
    "        findSpec    - generates the theoretical mass spectrum of a given cyclic\n",
    "                        polypeptide\n",
    "    '''\n",
    "    # Amino acid to its integer mass table\n",
    "    AA = {'G': 57, 'A': 71, 'S': 87, 'P': 97, 'V': 99, 'T': 101, 'C': 103,\n",
    "          'I': 113, 'L': 113, 'N': 114, 'D': 115, 'K': 128, 'Q': 128, 'E': 129,\n",
    "          'M': 131, 'H': 137, 'F': 147, 'R': 156, 'Y': 163, 'W': 186}\n",
    "    \n",
    "    def __init__(self, spec):\n",
    "        '''\n",
    "        Build a Cyclopeptide object from a given ideal experimental mass\n",
    "        spectrum.\n",
    "        '''\n",
    "        # Integer version of each mass in spectrum\n",
    "        self.spec = [int(spec[mass]) for mass in range(len(spec))]\n",
    "        # List of all possible single amino acids found in spectrum\n",
    "        self.peps = {p for p in self.spec if p in Cyclopeptide.AA.values()}\n",
    "        # Unknown peptide mass is max mass from spectrum\n",
    "        self.pMass = max(self.spec)\n",
    "        \n",
    "    def seq(self):\n",
    "        '''\n",
    "        Find all permutations of a cyclic peptide that keeps the original\n",
    "        sequence for a given ideal experimental mass spectrum.\n",
    "        '''\n",
    "        # Set of candidate peptides\n",
    "        pep = {(mass,) for mass in self.peps}\n",
    "        # List of all permutations of the cyclic peptide for the experimental\n",
    "        # spectrum that keeps the original sequence\n",
    "        cPep = []\n",
    "        while len(pep) != 0:\n",
    "            # Set of peptides to remove\n",
    "            remove = set()\n",
    "            # Expand set of peptides\n",
    "            pep = self.expand(pep)\n",
    "            for p in pep:\n",
    "                # Check if total mass of candidate peptide is the same as the\n",
    "                # peptide mass from the experimental spectrum\n",
    "                if sum(list(p)) == self.pMass:\n",
    "                    # Check if theoretical spectrum of the candidate spectrum\n",
    "                    # matches the experimental spectrum\n",
    "                    if self.findSpec(list(p)) == self.spec:\n",
    "                        cPep.append('-'.join([str(p[m]) for m in range(len(p))]))\n",
    "                    remove.add(p)\n",
    "            pep = pep - remove\n",
    "            \n",
    "        return cPep\n",
    "    \n",
    "    def expand(self, pep):\n",
    "        '''\n",
    "        Expand the set of candidate peptides and filter the possible new\n",
    "        peptides for candiacy.\n",
    "        '''\n",
    "        expanded = set()\n",
    "        # Loop through set of candidate peptides\n",
    "        for p in pep:\n",
    "            # Loop through possible single amino acids\n",
    "            for aa in self.peps:\n",
    "                # Build new possible peptide\n",
    "                new = tuple(list(p) + [aa])\n",
    "                # Filter new possible peptide for candidacy\n",
    "                if sum(new) in self.spec:\n",
    "                    expanded.add(tuple(list(p) + [aa]))\n",
    "                \n",
    "        return expanded\n",
    "            \n",
    "    def findSpec(self, pep):\n",
    "        ''' Generate the theoretical mass spectrum of a cyclic peptide. '''\n",
    "        pLen = len(pep)\n",
    "        # Simulate cyclic nature by duplicating peptide\n",
    "        cPep = list(pep * 2)\n",
    "        # Initialize spectrum with mass of empty peptide and mass of peptide\n",
    "        spec = [0, sum(pep)]\n",
    "        \n",
    "        # Loop through possible starting positions in peptied\n",
    "        for pos in range(pLen):\n",
    "            # Loop through rest of peptide\n",
    "            for l in range(1, pLen):\n",
    "                # Append sum of subpeptide to spectrum\n",
    "                spec.append(sum(cPep[pos: pos + l]))\n",
    "        \n",
    "        # Format return\n",
    "        spec.sort()\n",
    "        return spec"
   ]
  },
  {
   "cell_type": "markdown",
   "metadata": {},
   "source": [
    "# Main\n",
    "- Get ideal experimental spectrum\n",
    "- Instantiation of the Cyclopeptide object for the ideal experimental spectrum\n",
    "- Prints all permutations of the cyclic peptide that keeps the original sequence for the ideal experimental mass spectrum"
   ]
  },
  {
   "cell_type": "code",
   "execution_count": 3,
   "metadata": {},
   "outputs": [
    {
     "name": "stdout",
     "output_type": "stream",
     "text": [
      "99-131-131-114-186-99-113-115-137-97 113-115-137-97-99-131-131-114-186-99 186-114-131-131-99-97-137-115-113-99 99-113-115-137-97-99-131-131-114-186 131-99-97-137-115-113-99-186-114-131 137-115-113-99-186-114-131-131-99-97 131-114-186-99-113-115-137-97-99-131 131-131-114-186-99-113-115-137-97-99 137-97-99-131-131-114-186-99-113-115 131-131-99-97-137-115-113-99-186-114 97-137-115-113-99-186-114-131-131-99 115-113-99-186-114-131-131-99-97-137 99-186-114-131-131-99-97-137-115-113 186-99-113-115-137-97-99-131-131-114 97-99-131-131-114-186-99-113-115-137 114-131-131-99-97-137-115-113-99-186 99-97-137-115-113-99-186-114-131-131 113-99-186-114-131-131-99-97-137-115 115-137-97-99-131-131-114-186-99-113 114-186-99-113-115-137-97-99-131-131\n"
     ]
    }
   ],
   "source": [
    "def main(inFile = None):\n",
    "    '''\n",
    "    Get the ideal experimental spectrum from the input file and find a cyclic\n",
    "    polypeptide whose theoretical mass spectrum matches the experimental\n",
    "    spectrum.\n",
    "    '''\n",
    "    with open(inFile) as inFile:\n",
    "        # Get ideal experimental spectrum\n",
    "        spec = inFile.readline().rstrip().split(' ')\n",
    "    \n",
    "    myCyclopep = Cyclopeptide(spec)\n",
    "    print(' '.join(myCyclopep.seq()))\n",
    "\n",
    "if __name__ == \"__main__\":\n",
    "    main(inFile = 'rosalind_ba4e.txt')"
   ]
  },
  {
   "cell_type": "markdown",
   "metadata": {},
   "source": [
    "# Inspections\n",
    "Team: \n",
    "\n",
    "Comments:\n",
    "\n",
    "Corrections:"
   ]
  }
 ],
 "metadata": {
  "kernelspec": {
   "display_name": "Python 3",
   "language": "python",
   "name": "python3"
  },
  "language_info": {
   "codemirror_mode": {
    "name": "ipython",
    "version": 3
   },
   "file_extension": ".py",
   "mimetype": "text/x-python",
   "name": "python",
   "nbconvert_exporter": "python",
   "pygments_lexer": "ipython3",
   "version": "3.8.5"
  }
 },
 "nbformat": 4,
 "nbformat_minor": 5
}
