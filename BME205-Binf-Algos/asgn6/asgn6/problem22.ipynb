{
 "cells": [
  {
   "cell_type": "code",
   "execution_count": 1,
   "metadata": {},
   "outputs": [],
   "source": [
    "#!/usr/bin/env python3\n",
    "\n",
    "########################################################################\n",
    "# File: problem22.ipynb\n",
    "\n",
    "# Author: Nicholas Chan\n",
    "# History: 11/25/2021 Created\n",
    "########################################################################"
   ]
  },
  {
   "cell_type": "markdown",
   "metadata": {},
   "source": [
    "# Assignment 6: Problem 22\n",
    "<br>\n",
    "For this assignment, we were given input for an emission sequence, hidden states, <br>\n",
    "emitted symbols, a transition table, and an emission table. With this information <br>\n",
    "we were to compute the Probability of the sequence of emission symbols Pr(x). <br>"
   ]
  },
  {
   "cell_type": "markdown",
   "metadata": {},
   "source": [
    "# Forward Class\n",
    "<br>\n",
    "The Forward class creates an object that stores the hidden states, emitted symbols, <br>\n",
    "emission sequence, transition table, and emission table read from input. With this, <br>\n",
    "a Forward Class object can call on the method computeForward to compute the Forward <br>\n",
    "of the sink node. The Forward of the sink node is statistically equal to the probability of <br>\n",
    "emitting some sequence as the calculation involves the sum of all probabilities where <br>\n",
    "Pr(x,pi) over all instances of pi. Therefore this sum produces Pr(x). <br>"
   ]
  },
  {
   "cell_type": "code",
   "execution_count": 2,
   "metadata": {},
   "outputs": [],
   "source": [
    "import numpy as np\n",
    "# use long double floating point type for all computation\n",
    "# particularly, initialize the emission and transition tables to this\n",
    "class Forward:\n",
    "    '''\n",
    "    The Forward Class is used to store information on an HMM and to compute\n",
    "    the Forward probability from the Sink node. This is thus equal to the\n",
    "    probability of Pr(x) which is the total probability of emitting some\n",
    "    sequence of emission symbols x.\n",
    "    '''\n",
    "    def __init__(self, hStates, eSymbols, emissionSeq, trTable, emTable):\n",
    "        '''\n",
    "        Forward objects are initialized with a list of hidden states, a\n",
    "        list of emitted symbols, a string sequence of emitted symbols, \n",
    "        a transition table dictionary, and an emission table dictionary.\n",
    "        '''\n",
    "        self.hS = hStates # List of hidden states\n",
    "        self.eS = eSymbols # List of emitted symbols\n",
    "        self.emS = emissionSeq # stores sequence of emitted symbols\n",
    "        self.trT = trTable # stores transition table parsed from input\n",
    "        self.emT = emTable # stores emission table parsed from input\n",
    "\n",
    "    def computeForward(self):\n",
    "        '''\n",
    "        The computeForward method calculates the probability Pr(x) of an observed sequence\n",
    "        of emissions from the source to sink nodes (the entire emission sequence given as input).\n",
    "        Pr(x) of the entire emitted sequence is calculated by finding the Forward of each state in\n",
    "        a column. A Forward of a current state k is found by taking the sum of products from all \n",
    "        preceding states l's Forwards along with their associated weights from some previous state l\n",
    "        to our current state k. The sum of these \"subForward calculations\" yields the Forward for a\n",
    "        current state k. The Forward from source to the first column uses 1/|states| as the transition\n",
    "        value from some previous state l to current state k and a default forward of 1, leaving the \n",
    "        emission of k as the only real calculation.\n",
    "        '''\n",
    "        firstScores = [[(1/len(self.hS))*self.emT[state + self.emS[0]], '[ZERO_STATE]', '[ZERO_IDX]', state] for state in self.hS] # Scores of 1st nodes after source node (reused from p21)\n",
    "        allForwardList = [firstScores] # Contains sublists which hold the Forwards of hidden states. Each sublist represents a column.\n",
    "        for i in range(1,len(self.emS)): # Iterates over the indices of the emission seq and hidden path\n",
    "            forwardCol = [] # Holds the Forwards in a column\n",
    "            prevForward = allForwardList[i-1] # Refers to the previous column's Forwards\n",
    "            for idx, state in enumerate(self.hS): # Iterates over all hidden states in curr column\n",
    "                currColSubForwards = [] # Stores the subForwards of a sinlge current state k from all previous states l, to be summed at the end of the next for loop\n",
    "                for prevStateIdx, prevState in enumerate(self.hS): # Iterates over states in previous column\n",
    "                    currEmission = self.emT[state+self.emS[i]] # Emission for a curr state\n",
    "                    currTransition = self.trT[prevState + state] # Transition for a curr state\n",
    "                    currSubForward = prevForward[prevStateIdx][0] * currEmission * currTransition # Computes a forward for a current state l from some state l\n",
    "                    currColSubForwards.append(currSubForward)      \n",
    "                forwardCol.append([sum(currColSubForwards),state]) # Computes the forward of a current state k from all its subForwards \n",
    "            allForwardList.append(forwardCol) \n",
    "        forwardSink = sum([i[0] for i in allForwardList[-1]]) # Computes the Forward of the sink node\n",
    "        return forwardSink\n"
   ]
  },
  {
   "cell_type": "markdown",
   "metadata": {},
   "source": [
    "# Main Function\n",
    "<br>\n",
    "Parses an input text file as a list of ints which the Forward class requires as input. <br>\n",
    "Input is assumed to contain an emitted sequence of symbols, a list of possible hidden states, <br>\n",
    "a list of possible emission symbols, a transition table, and an emission table. "
   ]
  },
  {
   "cell_type": "code",
   "execution_count": 3,
   "metadata": {},
   "outputs": [
    {
     "name": "stdout",
     "output_type": "stream",
     "text": [
      "4.77544546059e-49\n"
     ]
    }
   ],
   "source": [
    "def main(infile, outfile='', inCL=None):\n",
    "    '''\n",
    "    The main function parses input text to find an emission sequence string, a list\n",
    "    of emitted symbols, a list of hidden states, a transition table, and an emission \n",
    "    table. With this input we can generate the probability of emitting the recorded sequence\n",
    "    of symbols by creating a Forward object and calling the computeForward method.\n",
    "    '''\n",
    "    with open(infile,'r') as myfile:\n",
    "        emSeq = myfile.readline().rstrip()  # READS EMISSION SEQUENCE STRING\n",
    "        myfile.readline() # Clears over spacer line\n",
    "        emSymbols = myfile.readline().rstrip().split('\\t') # Reads list of emitted symbols\n",
    "        myfile.readline() # Clears over spacer line\n",
    "        hStates = myfile.readline().rstrip().split('\\t') # Reads list of hidden states\n",
    "        myfile.readline() # Clears over spacer line\n",
    "        myfile.readline() # Clears over spacer line of emission symbols\n",
    "\n",
    "        # TRANSITION TABLE PARSING\n",
    "        trTable = dict() # Initialize transition table\n",
    "        trRows = []\n",
    "        trInRow = []\n",
    "        while '-' not in trInRow:\n",
    "            trInRow = myfile.readline().rstrip()\n",
    "            if '-' in trInRow:\n",
    "                break\n",
    "            else:\n",
    "                trRows.append(np.longdouble(trInRow.split('\\t')[1:]))\n",
    "        for stateIdx1, state1 in enumerate(hStates): # Iterate over hidden states and their idxes\n",
    "            for stateIdx2, state2 in enumerate(hStates): # Iterate over symbols and their idxes\n",
    "                trTable[state1+state2] = np.longdouble(trRows[stateIdx1][stateIdx2]) # Populate transition table probabilities where each key is a string: \"{state1}+{state2}\"\n",
    "                \n",
    "        myfile.readline() # Clears over spacer line\n",
    "        \n",
    "        # EMISSION TABLE PARSING\n",
    "        emTable = dict() # Initialize emission table\n",
    "        emRows = []\n",
    "        emInRow = []\n",
    "        for line in myfile:\n",
    "            emInRow = line.rstrip()\n",
    "            emRows.append(np.longdouble(emInRow.split('\\t')[1:]))\n",
    "        for stateIdx, state in enumerate(hStates): # Iterate over hidden states and their idxes\n",
    "            for symbolIdx, symbol in enumerate(emSymbols): # Iterate over symbols and their idxes\n",
    "                emTable[state+symbol] = np.longdouble(emRows[stateIdx][symbolIdx]) # Populate transition table probabilities where each key is a string: \"{state}+{symbol}\"\n",
    "        myFor = Forward(hStates, emSymbols, emSeq, trTable, emTable)\n",
    "        prob = myFor.computeForward()\n",
    "        print(np.format_float_scientific(prob, 11))\n",
    "        \n",
    "if __name__ == \"__main__\":\n",
    "#     main(\"data/p22-simple-input.txt\")\n",
    "    main(\"data/rosalind_ba10d.txt\")\n",
    "#     main(\"data/p22-ex-input.txt\")\n"
   ]
  },
  {
   "cell_type": "code",
   "execution_count": 4,
   "metadata": {},
   "outputs": [],
   "source": [
    "# INSPECTION\n",
    "\n",
    "# INSPECTION TEAM\n",
    "# Jodi Lee\n",
    "# Nabil Mohammed\n",
    "\n",
    "# RESPONSES\n",
    "# - Work on implementing main function\n",
    "# - Remove redundant code, finding the path isn't necessary as Pr(X) is independent of path\n",
    "# - Write more markdown comments\n",
    "# - Clean up code\n",
    "# - Add more docstrings and inline comments\n",
    "\n",
    "# CORRECTIONS\n",
    "# - Finished main function\n",
    "# - Fixed redundant code\n",
    "# - Wrote markdown comments\n",
    "# - Cleaned code\n",
    "# - Added more docstrings and inline comments"
   ]
  },
  {
   "cell_type": "code",
   "execution_count": null,
   "metadata": {},
   "outputs": [],
   "source": []
  }
 ],
 "metadata": {
  "kernelspec": {
   "display_name": "Python 3",
   "language": "python",
   "name": "python3"
  },
  "language_info": {
   "codemirror_mode": {
    "name": "ipython",
    "version": 3
   },
   "file_extension": ".py",
   "mimetype": "text/x-python",
   "name": "python",
   "nbconvert_exporter": "python",
   "pygments_lexer": "ipython3",
   "version": "3.8.5"
  }
 },
 "nbformat": 4,
 "nbformat_minor": 4
}
