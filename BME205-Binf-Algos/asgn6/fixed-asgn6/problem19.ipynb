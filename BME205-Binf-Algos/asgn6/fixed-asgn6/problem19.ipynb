{
 "cells": [
  {
   "cell_type": "code",
   "execution_count": 1,
   "metadata": {},
   "outputs": [],
   "source": [
    "#!/usr/bin/env python3\n",
    "\n",
    "########################################################################\n",
    "# File: problem19.ipynb\n",
    "\n",
    "# Author: Nicholas Chan\n",
    "# History: 11/25/2021 Created\n",
    "########################################################################"
   ]
  },
  {
   "cell_type": "markdown",
   "metadata": {},
   "source": [
    "# Assignment 6: Problem 19\n",
    "<br>\n",
    "In this assignment problem, I was required to find the probability <br>\n",
    "of a path of hidden states occurring. This was done by taking the product <br>\n",
    "of all transitions between two states in the hidden state path given on input. <br>\n",
    "The probability of certain transitions was given through input in the <br>\n",
    "form of a transition table.<br>"
   ]
  },
  {
   "cell_type": "markdown",
   "metadata": {},
   "source": [
    "# HiddenPathProb Class\n",
    "<br>\n",
    "The HiddenPathProb Class creates objects that can store a path of hidden states, <br>\n",
    "list of possible hidden states, table for counting transition occurrences, and <br>\n",
    "a transition table for some HMM. With this, HiddenPathProb objects can call the <br>\n",
    "computeProb method to compute the probability of a hidden path occurring. <br>"
   ]
  },
  {
   "cell_type": "code",
   "execution_count": 2,
   "metadata": {},
   "outputs": [],
   "source": [
    "import numpy as np\n",
    "class HiddenPathProb:\n",
    "    '''\n",
    "    The HiddenPathProb class takes in a hidden path, hidden states, and a \n",
    "    transition table created from parsed input to compute the probability \n",
    "    of a sequence of states (the path) occuring.\n",
    "    '''\n",
    "    def __init__(self, hiddenPath, hiddenStates, countTable, transitionTable):\n",
    "        '''\n",
    "        Initializes a HiddenPathProb object with the hidden path, hidden states, and\n",
    "        transition table from parsed input. A HiddenPathProb object also initializes\n",
    "        a count table to count the occurrences of transitions in the hidden path given\n",
    "        as input\n",
    "        '''\n",
    "        self.hS = hiddenStates # Stores list of hidden states\n",
    "        self.hp = hiddenPath # stores path of states as a string\n",
    "        self.tT = transitionTable # stores transition table parsed from input\n",
    "        self.cT = countTable # stores count table created from hidden states parsed on input\n",
    "        \n",
    "    def computeProb(self):\n",
    "        '''\n",
    "        Method computes the product of transition probabilities from the given\n",
    "        hidden path.\n",
    "        '''\n",
    "        if len(self.hp) >= 2: # If the hidden path has at least one transition aside from the first\n",
    "            for i in range(1,len(self.hp)):\n",
    "                self.cT[self.hp[i-1:i+1]] += 1\n",
    "            \n",
    "            productList = [0.5]\n",
    "            for idxL, stateL in enumerate(self.hS):\n",
    "                for idxK, stateK in enumerate(self.hS):\n",
    "                    productList.append(self.tT[stateL+stateK]**self.cT[stateL+stateK])\n",
    "#             print(self.cT)\n",
    "#             print(productList)\n",
    "            return np.prod(productList)\n",
    "        else:\n",
    "            return 0.5 # If the hidden path only has the first transition"
   ]
  },
  {
   "cell_type": "markdown",
   "metadata": {},
   "source": [
    "# Main Function\n",
    "<br>\n",
    "Parses an input text file as a list of ints which the HiddenPathProb class requires as input. <br>\n",
    "Input is assumed to contain a path of hidden states, a list of possible hidden states, <br>\n",
    "and a transition table. "
   ]
  },
  {
   "cell_type": "code",
   "execution_count": 34,
   "metadata": {},
   "outputs": [
    {
     "name": "stdout",
     "output_type": "stream",
     "text": [
      "1.79454527550e-33\n"
     ]
    }
   ],
   "source": [
    "def main(infile, outfile='', inCL=None):\n",
    "    import numpy as np\n",
    "    # use long double floating point type for all computation\n",
    "    # particularly, initialize the emission and transition tables to this\n",
    "    '''\n",
    "    Parses input to populate the fields of the HiddenPathProb object.\n",
    "    Parses information on the hidden path, hidden states, transition table,\n",
    "    and transition count table. Initializes a HiddenPathProb object and\n",
    "    prints the probabiolity of a hidden path occuring to stdout.\n",
    "    '''\n",
    "\n",
    "    \n",
    "    with open(infile,'r') as myfile:\n",
    "        hPath = myfile.readline().rstrip() # STRING OF HIDDEN PATH\n",
    "        myfile.readline()\n",
    "        hStates = myfile.readline().rstrip().split('\\t') # LIST OF HIDDEN STATES\n",
    "        myfile.readline() # Clears over string of dashes\n",
    "        myfile.readline() # Clears over top row of the table which reiterates the states\n",
    "        trTable = dict() # Initialize a transition table\n",
    "        countTable = dict() # Initialize a count table\n",
    "        \n",
    "        # TRANSITION TABLE PARSING\n",
    "        trRows = []\n",
    "        trInRow = []\n",
    "        while '-' not in trInRow:\n",
    "            trInRow = myfile.readline().rstrip()\n",
    "            if len(trInRow) == 0:\n",
    "                break\n",
    "            else:\n",
    "                trRows.append(np.longdouble(trInRow.split('\\t')[1:]))\n",
    "        for stateIdx1, state1 in enumerate(hStates): # Iterate over hidden states and their idxes\n",
    "            for stateIdx2, state2 in enumerate(hStates): # Iterate over symbols and their idxes\n",
    "                trTable[state1+state2] = np.longdouble(trRows[stateIdx1][stateIdx2]) # Populate transition table probabilities where each key is a string: \"{state1}+{state2}\"\n",
    "                \n",
    "        for i in hStates:\n",
    "            for j in hStates:\n",
    "                countTable[i+j] = np.longdouble(0)\n",
    "        myHPP = HiddenPathProb(hPath, hStates, countTable, trTable)\n",
    "        x = myHPP.computeProb()\n",
    "        x = np.format_float_scientific(x, 11)\n",
    "        print(x)\n",
    "        \n",
    "if __name__ == \"__main__\":\n",
    "#     main(\"testCases/test cases/19.txt\")\n",
    "    main(\"data/rosalind_ba10a.txt\")\n",
    "#     main(\"data/p19-simple-input.txt\")"
   ]
  },
  {
   "cell_type": "code",
   "execution_count": 4,
   "metadata": {},
   "outputs": [],
   "source": [
    "# INSPECTION\n",
    "\n",
    "# INSPECTION TEAM\n",
    "# Jodi Lee\n",
    "# Nabil Mohammed\n",
    "\n",
    "# RESPONSES\n",
    "# - Work on implementing main function\n",
    "# - Write more markdown comments\n",
    "# - Clean up code\n",
    "# - Add more docstrings and inline comments\n",
    "\n",
    "# CORRECTIONS\n",
    "# - Finished main function\n",
    "# - Wrote markdown comments\n",
    "# - Cleaned code\n",
    "# - Added more docstrings and inline comments"
   ]
  },
  {
   "cell_type": "code",
   "execution_count": null,
   "metadata": {},
   "outputs": [],
   "source": []
  }
 ],
 "metadata": {
  "kernelspec": {
   "display_name": "Python 3",
   "language": "python",
   "name": "python3"
  },
  "language_info": {
   "codemirror_mode": {
    "name": "ipython",
    "version": 3
   },
   "file_extension": ".py",
   "mimetype": "text/x-python",
   "name": "python",
   "nbconvert_exporter": "python",
   "pygments_lexer": "ipython3",
   "version": "3.8.5"
  }
 },
 "nbformat": 4,
 "nbformat_minor": 4
}
