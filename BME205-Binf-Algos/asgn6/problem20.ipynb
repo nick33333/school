{
 "cells": [
  {
   "cell_type": "code",
   "execution_count": 1,
   "metadata": {},
   "outputs": [],
   "source": [
    "#!/usr/bin/env python3\n",
    "\n",
    "########################################################################\n",
    "# File: problem20.ipynb\n",
    "\n",
    "# Author: Nicholas Chan\n",
    "# History: 11/25/2021 Created\n",
    "########################################################################"
   ]
  },
  {
   "cell_type": "markdown",
   "metadata": {},
   "source": [
    "# Assignment 6: Problem 20\n",
    "<br>\n",
    "For this assignment problem I found the conditional probability of <br>\n",
    "an emission sequence occurring given some path of hidden states. <br>\n",
    "This was done by taking the product of all emission probabilities <br>\n",
    "throughout the hidden path and emission sequence (both are the same length). <br>\n",
    "Each emission is already a conditional probability of some symbol being <br>\n",
    "emitted given some hidden state, so finding the same conditional <br>\n",
    "probability over the entire emission sequence required the product of <br>\n",
    "all such individual conditional probabilities. <br>"
   ]
  },
  {
   "cell_type": "markdown",
   "metadata": {},
   "source": [
    "# EmissionSeqProb Class\n",
    "<br>\n",
    "The EmissionSeqProb Class creates objects that can store a path of hidden states,\n",
    "an emission sequence, and emission table some HMM. With this, EmissionSeqProb objects \n",
    "can call the computeProb method to compute the conditional probability of an emission\n",
    "sequence occurring given some hidden path."
   ]
  },
  {
   "cell_type": "code",
   "execution_count": 3,
   "metadata": {},
   "outputs": [],
   "source": [
    "import numpy as np\n",
    "# use long double floating point type for all computation\n",
    "# particularly, initialize the emission and transition tables to this\n",
    "class EmissionSeqProb:\n",
    "    '''\n",
    "    The EmissionSeqProb class takes in a hidden path, emission sequence, and \n",
    "    an emission table from parsed input. EmissionSeqProb objects contain a \n",
    "    method called computeProb which calculates the conditional probability of \n",
    "    a sequence of symbols being emitted given a path.\n",
    "    '''\n",
    "    def __init__(self, hiddenPath, emissionSeq, emTable):\n",
    "        '''\n",
    "        EmissionSeqProb objects are initialized with a hidden path sequence,\n",
    "        a sequence of emitted symbols, and an emission table which can be \n",
    "        used with the given hidden path sequence and sequence of emitted symbols.\n",
    "        '''\n",
    "        self.hP = hiddenPath # stores path of states\n",
    "        self.emS = emissionSeq # stores sequence of emitted symbols\n",
    "        self.emT = emTable # stores emission table parsed from input, keys are of the form: {state}+{symbol}\n",
    "        \n",
    "    def computeProb(self):\n",
    "        '''\n",
    "        Computes the probability of a sequence occurring given a state path.\n",
    "        computeProb iterates over the indices of the emission seq and hidden \n",
    "        path to records the probability of the emission occuring at that index.\n",
    "        The emission table is used to calculate emission probabilties.\n",
    "        The probability is stored to a list which will have its product returned \n",
    "        once all emissions have been appended. \n",
    "        '''\n",
    "        prodList = [] # List has emission probabilities appended to it\n",
    "        for i in range(len(self.hP)): # Iterates over the indices of the emission seq and hidden path\n",
    "            prodList.append(self.emT[self.hP[i]+self.emS[i]]) # Creates a 2 character string: \"{state}+{symbol}\" which is used as a key for the emission table\n",
    "        return np.prod(prodList) # returns the product of emission probabilities for a sequence of symbols given a hidden path"
   ]
  },
  {
   "cell_type": "markdown",
   "metadata": {},
   "source": [
    "# Main Function\n",
    "<br>\n",
    "Parses an input text file as a list of ints which the EmissionSeqProb class requires as input. <br>\n",
    "Input is assumed to contain an emitted sequence of symbols, a list of possible emission symbols, <br>\n",
    "a path of hidden states, a list of possible hidden states, and an emission table. "
   ]
  },
  {
   "cell_type": "code",
   "execution_count": 13,
   "metadata": {},
   "outputs": [
    {
     "name": "stdout",
     "output_type": "stream",
     "text": [
      "6.53119591630e-36\n"
     ]
    }
   ],
   "source": [
    "import numpy as np\n",
    "# use long double floating point type for all computation\n",
    "# particularly, initialize the emission and transition tables to this\n",
    "def main(infile, outfile='', inCL=None):\n",
    "    '''\n",
    "    main function parses in input to store an emission sequence, a hidden path of states,\n",
    "    possible states, possible symbols, and the rows of an emission table. An emission table \n",
    "    dictionary is composed from the possible states, possible symbols, and rows read in as input.\n",
    "    The main function then creates an EmissionSeqProb object given am emission sequence, hidden\n",
    "    path of states, and an emission table dictionary. The probability of an outcome given a hidden\n",
    "    path is returned after a call to the computeProb method on the EmissionSeqProb object. Output\n",
    "    is printed to stout.\n",
    "    '''\n",
    "    with open(infile,'r') as myfile:\n",
    "        emSeq = myfile.readline().rstrip()  # READS EMISSION SEQUENCE STRING\n",
    "        myfile.readline() # Clears over spacer line\n",
    "        emSymbols = myfile.readline().rstrip().split('\\t') # READS LIST OF EMISSION SYMBOLS\n",
    "        myfile.readline() # Clears over spacer line\n",
    "        hPath = myfile.readline().rstrip() # READS HIDDEN PATH STRING\n",
    "        myfile.readline() # Clears over spacer line\n",
    "        hStates = myfile.readline().rstrip().split('\\t') # READS LIST OF HIDDEN STATES\n",
    "        myfile.readline() # Clears over spacer line\n",
    "        myfile.readline() # Clears over spacer line of emission symbols\n",
    "        emTable = dict() # Initialize emission table\n",
    "        \n",
    "#         EMISSION TABLE PARSING\n",
    "        emRows = []\n",
    "        emInRow = []\n",
    "        for line in myfile:\n",
    "            emInRow = line.rstrip()\n",
    "            emRows.append(np.longdouble(emInRow.split('\\t')[1:]))\n",
    "        for stateIdx, state in enumerate(hStates): # Iterate over hidden states and their idxes\n",
    "            for symbolIdx, symbol in enumerate(emSymbols): # Iterate over symbols and their idxes\n",
    "                emTable[state+symbol] = np.longdouble(emRows[stateIdx][symbolIdx]) # Populate transition table probabilities where each key is a string: \"{state}+{symbol}\"\n",
    "                \n",
    "        myESP = EmissionSeqProb(hPath, emSeq, emTable)\n",
    "        prob = myESP.computeProb()\n",
    "        print(np.format_float_scientific(prob, 11))\n",
    "        \n",
    "if __name__ == \"__main__\":\n",
    "#     main(\"data/rosalind_ba10b.txt\")\n",
    "    main(\"testCases/test cases/20.txt\")\n"
   ]
  },
  {
   "cell_type": "code",
   "execution_count": 4,
   "metadata": {},
   "outputs": [],
   "source": [
    "# INSPECTION\n",
    "\n",
    "# INSPECTION TEAM\n",
    "# Jodi Lee\n",
    "# Nabil Mohammed\n",
    "\n",
    "# RESPONSES\n",
    "# - Work on implementing main function\n",
    "# - Write more markdown comments\n",
    "# - Clean up code\n",
    "# - Add more docstrings and inline comments\n",
    "\n",
    "# CORRECTIONS\n",
    "# - Finished main function\n",
    "# - Wrote markdown comments\n",
    "# - Cleaned code\n",
    "# - Added more docstrings and inline comments"
   ]
  },
  {
   "cell_type": "code",
   "execution_count": null,
   "metadata": {},
   "outputs": [],
   "source": []
  }
 ],
 "metadata": {
  "kernelspec": {
   "display_name": "Python 3",
   "language": "python",
   "name": "python3"
  },
  "language_info": {
   "codemirror_mode": {
    "name": "ipython",
    "version": 3
   },
   "file_extension": ".py",
   "mimetype": "text/x-python",
   "name": "python",
   "nbconvert_exporter": "python",
   "pygments_lexer": "ipython3",
   "version": "3.8.5"
  }
 },
 "nbformat": 4,
 "nbformat_minor": 4
}
